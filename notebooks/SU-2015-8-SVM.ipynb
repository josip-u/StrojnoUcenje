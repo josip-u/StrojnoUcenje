{
 "cells": [
  {
   "cell_type": "markdown",
   "metadata": {
    "slideshow": {
     "slide_type": "slide"
    }
   },
   "source": [
    "Sveučilište u Zagrebu<br>\n",
    "Fakultet elektrotehnike i računarstva\n",
    "\n",
    "# Strojno učenje\n",
    "\n",
    "<a href=\"http://www.fer.unizg.hr/predmet/su\">http://www.fer.unizg.hr/predmet/su</a>\n",
    "\n",
    "Ak. god. 2015./2016.\n",
    "\n",
    "# Bilježnica 8: Stroj potpornih vektora (SVM)\n",
    "\n",
    "(c) 2015 Jan Šnajder\n",
    "\n",
    "<i>Verzija: 0.3 (2015-12-11)</i>"
   ]
  },
  {
   "cell_type": "code",
   "execution_count": 2,
   "metadata": {
    "collapsed": false
   },
   "outputs": [
    {
     "name": "stdout",
     "output_type": "stream",
     "text": [
      "Populating the interactive namespace from numpy and matplotlib\n"
     ]
    }
   ],
   "source": [
    "import scipy as sp\n",
    "import scipy.stats as stats\n",
    "import matplotlib.pyplot as plt\n",
    "import pandas as pd\n",
    "%pylab inline"
   ]
  },
  {
   "cell_type": "markdown",
   "metadata": {},
   "source": [
    "### Sadržaj:\n",
    "\n",
    "* Uvod\n",
    "\n",
    "* Problem maksimalne margine\n",
    "\n",
    "* Optimizacija uz ograničenja\n",
    "\n",
    "* Metoda Lagrangeovih multiplikatora\n",
    "\n",
    "* Dualna formulacija problema maksimalne margine\n",
    "\n",
    "* Meka margina\n",
    "\n",
    "* Gubitak zglobnice\n",
    "\n",
    "* Jezgreni trik\n",
    "\n",
    "* Mercerove jezgre\n",
    "\n",
    "* Optimizacija hiperparametara\n"
   ]
  },
  {
   "cell_type": "markdown",
   "metadata": {},
   "source": [
    "# Uvod\n",
    "\n",
    "\n",
    "* Vrlo učinkovit **diskriminativan model**\n",
    "\n",
    "\n",
    "* Podsjetnik: Algoritam strojnog učenja definiran je \n",
    "  1. modelom\n",
    "  * pogreškom\n",
    "  * optimizacijskim postupkom\n",
    "    \n",
    "    \n",
    "* Model:\n",
    "    \n",
    "$$\n",
    "    h(\\mathbf{x}) = \\mathbf{w}^\\intercal\\boldsymbol{\\phi}(\\mathbf{x})\n",
    "$$\n",
    "\n",
    "\n",
    "* Dakle, to je poopćeni linearan model bez aktivacijske funkcije $f$\n",
    "\n",
    "\n",
    "* Gornja definicija modela je tzv. **primarna formulacija**\n",
    "\n",
    "\n",
    "* Postoji i **dualna formulacija**:\n",
    "  * Umjesto da značajke novog primjera množimo težinama $\\mathbf{w}$, možemo za novi primjer izračunati koliko je sličan primjerima iz skupa za učenje i na temelju toga odrediti klasifikaciju\n",
    "  * Model efektivno postaje **neparametarski**!\n",
    "  \n",
    "  \n",
    "* U dualnoj formulaciji možemo iskoristiti tzv. **jezgreni trik**, koji nam omogućava jeftino preslikavanje primjera u prostor više dimenzije (a time i nelinearnost modela)\n",
    "  * SVM je jedna vrsta tzv. **jezgrenog stroja** (engl. *kernel machine*)\n",
    "\n",
    "\n",
    "* Model je jednostavan, no definicija pogreške i optimizacijskog postupka su nešto složeniji\n",
    "\n",
    "\n",
    "* Osnovna ideja: primjere dviju klasa razdvojiti tako da je prostor između njih što veći $\\Rightarrow$ tzv. **maksimalna margina**\n",
    "\n",
    "\n",
    "* Opravdanje: generalizacija će biti najbolja onda kada granicu između klasa povućemo točno po sredini margine\n",
    "\n",
    "\n",
    "* Do sada smo optimizacijski problem definirali tako da smo\n",
    "  * krenuli od log-izglednosti pa izveli MLE (naivan Bayes)\n",
    "  * krenuli od funkcije gubitka pa izveli funkciju pogreške (linearna regresija) i napravili analitičku minimizaciju\n",
    "  * krenuli od funkcije pogreške pa izveli funkciju gubitka (logistička regresija, perceptron) i iskoristili je za gradijentni spust\n",
    "  \n",
    "  \n",
    "* Kod SVM-a, krenut ćemo odmah od onoga što u konačnici želimo dobiti: maksimalnu marginu $\\Rightarrow$ to je ono što SVM optimizira\n",
    "\n",
    "\n",
    "* Ići ćemo \"klasičnim pristupom\": formalizirati to kao problem **kvadratnog programiranja**\n",
    "\n",
    "\n",
    "* Naknadno ćemo iz toga izvesti funkciju gubitka (i funkciju pogreške), ali samo radi usporedbe s drugim algoritmima\n",
    "\n",
    "\n",
    "> **Sinopsis:**\n",
    "> \n",
    "> * Prvo ćemo se fokusirati na **linearan model** i **linearno odvojive probleme** (tvrda granica)\n",
    "  * Matematika: Lagrangeovi multiplikatori\n",
    "> \n",
    "> * Zatim ćemo proširiti **linearan model** tako da može raditi s **linearno neodvojivim problemima** (meka granica)\n",
    "> \n",
    "> * Na kraju ćemo proširiti na **nelinearan model** (jezgreni trik)\n",
    ">   * Matematika: Mercerove jezgre"
   ]
  },
  {
   "cell_type": "markdown",
   "metadata": {},
   "source": [
    "# Problem maksimalne margine\n",
    "\n",
    "* Model:\n",
    "$$\n",
    "h(\\mathbf{x}) = \\mathbf{w}^\\intercal x + w_0\n",
    "$$\n",
    "\n",
    "\n",
    "* Oznake primjera za učenje: $y\\in\\{-1,+1\\}$\n",
    "\n",
    "\n",
    "* Granica između klasa: hiperravnina $h(\\mathbf{x})=0$\n",
    "\n",
    "\n",
    "* Predikcija klase: $y=\\mathrm{sgn}(h(\\mathbf{x}))$\n",
    "\n",
    "\n",
    "* Pretpostavimo da su primjeri iz $\\mathcal{D}$ **linearno odvojivi**\n",
    "\n",
    "\n",
    "* Onda postoji $\\mathbf{w}$ i $w_0$ takvi da\n",
    "$$\n",
    "\\begin{align*}\n",
    "h(\\mathbf{x}^{(i)}) \\geq 0 & \\quad\\text{za svaki $y^{(i)}=+1$}\\\\\n",
    "h(\\mathbf{x}^{(i)}) < 0 & \\quad\\text{za svaki $y^{(i)}=-1$}\\\\\n",
    "\\end{align*}\n",
    "$$\n",
    "\n",
    "\n",
    "* Kraće, postoje $\\mathbf{w}$ i $w_0$ takvi da\n",
    "$$\n",
    "\\forall(\\mathbf{x}^{(i)},y^{(i)}) \\in \\mathcal{D}.\\ y^{(i)}h(\\mathbf{x}^{(i)})\\geq 0\n",
    "$$\n",
    "\n",
    "\n",
    "* Postoji beskonačno mnogo rješenja za $\\mathbf{w}$ i $w_0$ (prostor inačica je beskonačan)\n",
    "\n",
    "\n",
    "* No nas zanima rješenje **maksimalne margine** $\\Rightarrow$ induktivna pristranost preferencijom\n",
    "\n",
    "\n",
    "* **Margina = udaljenost hiperravnine do najbližeg primjera**\n",
    "\n",
    "\n",
    "* Ako maksimiziramo marginu, onda će hiperravnina prolaziti točno na pola puta između dva primjera\n",
    "\n",
    "\n",
    "#### Formulacija optimizacijskog problema\n",
    "\n",
    "\n",
    "* Predznačena udaljenost primjera od hiperravnine je\n",
    "\n",
    "$$\n",
    "d = \\frac{h(\\mathbf{x})}{\\|\\mathbf{w}\\|}\n",
    "$$\n",
    "\n",
    "\n",
    "* Nas zanimaju samo hiperravnine koje ispravno klasificiraju primjere. U tom slučaju **apsolutna** udaljenost primjera do hiperravnine je:\n",
    "\n",
    "$$\n",
    "\\frac{y^{(i)}h(\\mathbf{x})}{\\|\\mathbf{w}\\|} = \n",
    "\\frac{y^{(i)}(\\mathbf{w}^\\intercal\\mathbf{x}^{(i)}+w_0)}{\\|\\mathbf{w}\\|}\n",
    "$$\n",
    "\n",
    "\n",
    "* Po definiciji, margina je udaljenost hiperravnine do najbližeg primjera:\n",
    "\n",
    "$$\n",
    "\\frac{1}{\\|\\mathbf{w}\\|}\\mathrm{min}_i\\big\\{y^{(i)}(\\mathbf{w}^\\intercal\\mathbf{x} + w_0)\\big\\}\n",
    "$$\n",
    "\n",
    "\n",
    "* Tu udaljenost želimo maksimizirati:\n",
    "\n",
    "$$\n",
    "\\mathrm{argmax}_{\\mathbf{w},w_0}\\Big\\{\\frac{1}{\\|\\mathbf{w}\\|}\\mathrm{min}_i\\big\\{y^{(i)}(\\mathbf{w}^\\intercal\\mathbf{x} + w_0)\\big\\}\\Big\\}\n",
    "$$\n",
    "\n",
    "\n",
    "* Ako je $\\mathcal{D}$ linearno odvojiv, onda postoji samo jedna takva margina"
   ]
  },
  {
   "cell_type": "markdown",
   "metadata": {},
   "source": [
    "#### Pojednostavljenje optimizacijskog problema\n",
    "\n",
    "\n",
    "* Gornji problem teško je riješiti izravno (min unutar max)\n",
    "\n",
    "\n",
    "* Vektor $(\\mathbf{w},w_0)$ možemo pomnožiti s proizvoljnom konstantom, a da to ne utječe na udaljenosti između primjera i hiperravnine:\n",
    "\n",
    "$$\n",
    "d=\\frac{h(\\mathbf{x})}{\\|\\mathbf{w}\\|}=\n",
    "\\frac{\\color{red}{\\alpha}\\mathbf{w}^\\intercal\\mathbf{x}+\\color{red}{\\alpha}w_0}{\\|\\color{red}{\\alpha}\\mathbf{w}\\|}=\n",
    "\\frac{\\color{red}{\\alpha}(\\mathbf{w}^\\intercal\\mathbf{x}+w_0)}{\\color{red}{\\alpha}\\|\\mathbf{w}\\|}=\n",
    "\\frac{\\mathbf{w}^\\intercal\\mathbf{x}+w_0}{\\|\\mathbf{w}\\|}\n",
    "$$\n",
    "\n",
    "\n",
    "* Kako bismo pojednostavili problem, možemo definirati da za primjer $\\mathbf{x}^{(i)}$ koji je najbliži margini vrijedi\n",
    "\n",
    "$$\n",
    "y^{(i)}(\\mathbf{w}^\\intercal\\mathbf{x}+w_0)=1\n",
    "$$\n",
    "\n",
    "\n",
    "* Svi ostali primjeri jednako su blizu margine ili su od nje još udaljeniji:\n",
    "\n",
    "$$\n",
    "y^{(i)}(\\mathbf{w}^\\intercal\\mathbf{x}^{(i)}+w_0) \\geq 1, \\qquad i=1,\\dots,N\n",
    "$$\n",
    "\n",
    "\n",
    "* Za primjere za koje $y^{(i)}h(\\mathbf{x})=1$ kažemo da su ograničenja **aktivna**, dok su za ostale primjere ograničenja neaktivna \n",
    "  * (Primjeri za koje su ograničenja aktivna zovemo potpornim vektorima, ali o tome više kasnije)\n",
    "\n",
    "\n",
    "* Uvijek će postojati barem **dva** aktivna ograničenja\n",
    "\n",
    "\n",
    "* [Skica: maksimalna margina]\n",
    "\n",
    "\n",
    "* Dakle, umjesto\n",
    "$$\n",
    "\\mathrm{argmax}_{\\mathbf{w},w_0}\\Big\\{\\frac{1}{\\|\\mathbf{w}\\|}\\underbrace{\\mathrm{min}_i\\big\\{y^{(i)}(\\mathbf{w}^\\intercal\\mathbf{x} + w_0)\\big\\}}_{=1}\\Big\\}\n",
    "$$\n",
    "mi sada maksimiziramo\n",
    "$$\n",
    "\\mathrm{argmax}_{\\mathbf{w},w_0}\\frac{1}{\\|\\mathbf{w}\\|}\n",
    "$$\n",
    "uz ograničenja\n",
    "$$\n",
    "y^{(i)}(\\mathbf{w}^\\intercal\\mathbf{x}^{(i)}+w_0) \\geq 1, \\qquad i=1,\\dots,N\n",
    "$$\n",
    "\n",
    "\n",
    "* Maksimizator od $\\frac{1}{\\|\\mathbf{w}\\|}$ ekvivalentan je minimizatoru od $\\|\\mathbf{w}\\|=\\sqrt{\\mathbf{w}^\\intercal\\mathbf{w}}$, a taj je ekvivalentan minimizatoru od $\\|\\mathbf{w}\\|^2$. Još ćemo pomnožiti s $\\frac{1}{2}$ radi kasnije matematičke jednostavnosti\n",
    "\n",
    "\n",
    "* Konačna formulacija optimizacijskog problema maksimalne margine:\n",
    "\n",
    "> $\\mathrm{argmin}_{\\mathbf{w},w_0}\\frac{1}{2}\\|\\mathbf{w}\\|^2$\n",
    "\n",
    "> tako da $\\quad y^{(i)}(\\mathbf{w}^\\intercal\\mathbf{x}^{(i)}+w_0) \\geq 1, \\quad i=1,\\dots,N$\n",
    "\n",
    "\n",
    "* Naš optimizacijski problem sveo se na ciljnu funkciju koju želimo optimirati i ograničenja koja pritom moramo poštovati: tipičan problem **konveksne optimizacije uz ograničenja**, točnije **kvadratnog programiranja**\n",
    "  * \"Programiranje\" = matematičko programiranje = (matematička) optimizacija"
   ]
  },
  {
   "cell_type": "markdown",
   "metadata": {},
   "source": [
    "# Optimizacija uz ograničenja\n",
    "\n",
    "\n",
    "* Optimizacijski problem $\\Rightarrow$ Optimizacija uz ograničenja $\\Rightarrow$ Konveksni optimizacijski problem $\\Rightarrow$ Kvadratno programiranje\n",
    "\n",
    "\n",
    "* Optimizacijski problem uz ograničenja (standardni oblik):\n",
    "\n",
    "$$\n",
    "\\begin{align*}\n",
    "\\text{minimizirati} &\\quad f(\\mathbf{x})\\\\\n",
    "\\text{uz ograničenja} &\\quad g_i(\\mathbf{x})\\leq0,\\quad i=1,\\dots,m\\\\\n",
    "&\\quad h_i(\\mathbf{x}) = 0,\\quad i=1,\\dots,p\n",
    "\\end{align*}\n",
    "$$\n",
    "\n",
    "\n",
    "* $f : \\mathbb{R}^n\\to\\mathbb{R}$ je **ciljna funkcija** (engl. *objective function*\n",
    "* $h_i : \\mathbb{R}^n\\to\\mathbb{R}$ su **ograničenja\n",
    "jednakosti** (engl. *equality constraints*)\n",
    "* $g_i:\\mathbb{R}^n\\to\\mathbb{R}$ su **ograničenja nejednakosti** (engl. *inequality constraints*)\n",
    "\n",
    "\n",
    "* **NB:** Sva ograničenja (ne)jednakosti mogu se se svesti na standardni oblik\n",
    "\n",
    "\n",
    "* Tražimo minimum koji zadovoljava sva ograničenja\n",
    "* Točke koje zadovoljavaju rješenja zovemo **ostvarivim\n",
    "točkama** (engl. *feasible points*)\n",
    "\n",
    "\n",
    "* Konveksni optimizacijski problem:\n",
    "\n",
    "$$\n",
    "\\begin{align*}\n",
    "\\text{minimizirati} &\\quad f(\\mathbf{x})\\ \\color{red}{\\text{$\\Rightarrow$ konveksna}}\\\\\n",
    "\\text{uz ograničenja} &\\quad g_i(\\mathbf{x})\\leq0,\\quad i=1,\\dots,m\\\\\n",
    "&\\quad \\mathbf{a}_i^\\intercal\\mathbf{x} - b_i = 0,\\quad i=1,\\dots,p\n",
    "\\end{align*}\n",
    "$$\n",
    "\n",
    "* Kvadratni program:\n",
    "\n",
    "$$\n",
    "\\begin{align*}\n",
    "\\text{minimizirati} &\\quad \\frac{1}{2}\\mathbf{x}^\\intercal P\\mathbf{x} + \\mathbf{q}^\\intercal\\mathbf{x} + r\\ \\color{red} {\\text{$\\Rightarrow$ kvadratna funkcija}}\\\\\n",
    "\\text{uz ograničenja} &\\quad G\\mathbf{x}\\leq\\mathbf{h}\\\\\n",
    "&\\quad A\\mathbf{x}=\\mathbf{b}\\\\\n",
    "\\end{align*}\n",
    "$$"
   ]
  },
  {
   "cell_type": "markdown",
   "metadata": {},
   "source": [
    "# Metoda Lagrangeovih multiplikatora\n",
    "\n",
    "* Kvadratni program može se riješiti metodom **Langrangeovih multiplikatora**\n",
    "  \n",
    "\n",
    "* Lagrangeovi multiplikatori mogu se koristiti općenito za optimizaciju s ograničenjima (problem ne mora biti konveksan)\n",
    "\n",
    "\n",
    "* Ideja: preformulirati ograničen problem tako da se u ciljnu funkciju ugrade ograničenja\n",
    "\n",
    "\n",
    "* Alternative: **metode unutarnje točke** (engl. *interior-point methods*, *barrier methods*) ili **metode s kaznom** (engl. *penalty methods*)\n",
    "\n",
    "\n",
    "\n",
    "#### Lagrangeova funkcija\n",
    "\n",
    "* **Lagrangeova funkcija** izravno ugrađuje ograničenja u ciljnu funkciju\n",
    "\n",
    "\n",
    "* [Skica ideje]\n",
    "\n",
    "\n",
    "* Početni problem:\n",
    "\n",
    "\\begin{align*}\n",
    "\\text{minimizirati} &\\quad f(\\mathbf{x})\\\\\n",
    "\\text{uz ograničenja} &\\quad g_i(\\mathbf{x})\\leq0,\\quad i=1,\\dots,m\\\\\n",
    " &\\quad h_i(\\mathbf{x}) = 0,\\quad i=1,\\dots,p\n",
    "\\end{align*}\n",
    "\n",
    "\n",
    "* Lagrangeova funkcija:\n",
    "\n",
    "$$\n",
    "\\begin{equation}\n",
    "L(\\mathbf{x},\\color{red}{\\boldsymbol\\alpha},\\color{red}{\\boldsymbol\\beta}) = f(\\mathbf{x}) + \\sum_{i=1}^m\\color{red}{\\alpha_i} g(\\mathbf{x}) + \\sum_{i=1}^p\\color{red}{\\beta_i}\n",
    "h(\\mathbf{x})\n",
    "\\end{equation}\n",
    "$$\n",
    "\n",
    "* Dobili smo neograničeni problem optimizacije: rješenje izvornoga ograničenog problema jest točka koja mimimizira $\\mathbf{x}$ i maksimizira $\\boldsymbol\\alpha$ (sedlo)\n",
    "\n",
    "\n",
    "* Vrijednosti $\\alpha_i$ i $\\beta_i$ su **Lagrangeovi multiplikatori** (množitelji) za ograničenja nejednakosti odnosno jednakosti\n",
    "\n",
    "\n",
    "* Za vrijednosti $\\alpha_i$ vrijede takozvani **Karush-Kuhn-Tuckerovi (KKT)** uvjeti:\n",
    "\n",
    "$$\n",
    "\\begin{align}\n",
    "\\alpha_i &\\geq 0,\\quad i=1,\\dots,m\\\\\n",
    "\\alpha_i g_i(\\mathbf{x}) &= 0,\\quad i=1,\\dots,m\n",
    "\\end{align}\n",
    "$$"
   ]
  },
  {
   "cell_type": "markdown",
   "metadata": {},
   "source": [
    "\n",
    "#### Lagrangeova dualnost\n",
    "\n",
    "\n",
    "* Načelo dualnosti u teoriji optimizacije:\n",
    "  * **Primarni problem** (engl. *primal problem*): minimizacija funkcije $f(\\mathbf{x})$\n",
    "  * **Dualni problem**: nalaženje donje granice primarnog problema (\"minimum ne može biti manji od $\\mathbf{x}$\")\n",
    "\n",
    "\n",
    "* [Skica: primal-dual sedlo]\n",
    "\n",
    "\n",
    "* Općenito, rješenja primarnog i dualnog problema se ne preklapaju već postoji **dualni procjep**\n",
    "\n",
    "\n",
    "* Uz određene uvjete, kod konveksne optimizacije dualni procjep jednak je nuli $\\Rightarrow$ **jaka dualnost**\n",
    "\n",
    "\n",
    "* To znači da je rješenje dualnog problema ujedno i rješenje primarnog problema\n",
    "\n",
    "\n",
    "* Dakle, ako nam je tako pogodnije, možemo rješavati dualni problem umjesto primarnog\n",
    "\n",
    "\n",
    "* U nastavku promatramo Lagrangeovu dualnost\n",
    "\n",
    "\n",
    "* Lagrangeova funkcija (BSO: samo s ograničenjima jednakosti):\n",
    "\n",
    "$$\n",
    "L(\\mathbf{x},\\boldsymbol\\alpha) = f(\\mathbf{x}) + \\sum_i\\alpha_i h_i(\\mathbf{x})\n",
    "$$\n",
    "\n",
    "\n",
    "* To je fukcija od $\\mathbf{x}$ (**primarne varijable**) i $\\boldsymbol\\alpha$ (**dualne varijable**)\n",
    "\n",
    "\n",
    "* Optimum:\n",
    "$$\n",
    "L(\\mathbf{x}^*,\\boldsymbol\\alpha^*) = \\min_{\\mathbf{x},\\boldsymbol\\alpha} L(\\mathbf{x},\\boldsymbol\\alpha)\n",
    "$$\n",
    "\n",
    "\n",
    "* Vrijednost za $\\mathbf{x}^*$ nalazimo rješavanjem sustava:\n",
    "\n",
    "$$\n",
    "\\begin{equation}\n",
    "\\nabla f(\\mathbf{x}) + \\nabla \\sum_i\\alpha_i h_i(\\mathbf{x}) = 0\n",
    "\\end{equation}\n",
    "$$\n",
    "\n",
    "\n",
    "* To rješenje ne mora dovesti do uklanjanja dualnih varijabli! Općenito, dobit ćemo rješenje koje minimizira $\\mathbf{x}$ za neki zadani $\\boldsymbol\\alpha$:\n",
    "$$\n",
    "\\tilde{L}(\\boldsymbol\\alpha)= \\min_{\\mathbf{x}}L(\\mathbf{x},\\boldsymbol\\alpha) = \\min_{\\mathbf{x}}\\Big(f(\\mathbf{x}) + \\sum_i\n",
    "\\alpha_i h(\\mathbf{x})\\Big)\n",
    "$$\n",
    "$\\Rightarrow$ **Dualna Lagrangeova funkcija**\n",
    "\n",
    "\n",
    "* Sigurno vrijedi:\n",
    "$$\n",
    "\\tilde{L}(\\boldsymbol\\alpha) \\leq L(\\mathbf{x}^*,\\boldsymbol\\alpha)\n",
    "$$\n",
    "$\\Rightarrow$ Dualna Lagrangeova funkcija je **donja ograda** primarnog problema\n",
    "\n",
    "\n",
    "* U točki $\\boldsymbol\\alpha^*$ vrijedi $\\tilde{L}(\\boldsymbol\\alpha^*)=L(\\mathbf{x}^*,\\boldsymbol\\alpha^*)$\n",
    "\n",
    "\n",
    "* Kako bismo pronašli $\\boldsymbol\\alpha^*$, moramo maksimizirati\n",
    "donju ogradu, tj. riješiti sljedeći konveksni problem:\n",
    "\n",
    "$$\n",
    "\\begin{align*}\n",
    "\\text{maksimizirati} &\\quad \\tilde{L}(\\boldsymbol\\alpha)\\\\\n",
    "\\text{uz ograničenja} &\\quad \\alpha_i\\geq 0,\\quad i=1,\\dots,p\n",
    "\\end{align*}\n",
    "$$\n",
    "\n",
    "\n",
    "* **NB:** minimizacija ciljne funkcije $\\Leftrightarrow$ maksimizacija dualne funkcije"
   ]
  },
  {
   "cell_type": "markdown",
   "metadata": {},
   "source": [
    "# Dualna formulacija problema maksimalne margine"
   ]
  },
  {
   "cell_type": "markdown",
   "metadata": {},
   "source": [
    "\n",
    "* Optimizacijski problem maksimalne margine:\n",
    "\n",
    "> $\\mathrm{argmin}_{\\mathbf{w},w_0}\\frac{1}{2}\\|\\mathbf{w}\\|^2$\n",
    "\n",
    "> tako da $\\quad y^{(i)}(\\mathbf{w}^\\intercal\\mathbf{x}^{(i)}+w_0) \\geq 1, \\quad i=1,\\dots,N$\n",
    "\n",
    "\n",
    "* Odgovarajuća Lagrangeova funkcija:\n",
    "\n",
    "$$\n",
    "L(\\mathbf{w},w_0,\\color{red}{\\boldsymbol\\alpha})=\\frac{1}{2}\\|\\mathbf{w}\\|^2 -\n",
    "\\sum_{i=1}^N\\color{red}{\\alpha_i}\\Big\\{y^{(i)}\\big(\\mathbf{w}^\\intercal\\mathbf{x}^{(i)}+w_0\\big)-1\\Big\\}\n",
    "$$\n",
    "\n",
    "\n",
    "*  $\\color{red}{\\boldsymbol\\alpha=(\\alpha_1,\\dots,\\alpha_N)}$ je vektor Lagrangeovih multiplikatora, po jedan za svako ograničenje\n",
    "\n",
    "\n",
    "* Prelazimo na **dualnu formulaciju** problema jer je ta formulacija jednostavnija (optimirat ćemo samo po $\\boldsymbol\\alpha$, a postoje i neke druge prednosti)\n",
    "\n",
    "\n",
    "* Minimizator $(\\mathbf{w}^*, w_0^*)$: deriviranje po $\\mathbf{w}$ odnosno $w_0$ i izjednačavanje s nulom:\n",
    "$$\n",
    "\\begin{align}\n",
    "\\mathbf{w} &= \\sum_{i=1}^N \\alpha_i y^{(i)}\\mathbf{x}^{(i)}\\\\\n",
    "0 &= \\sum_{i=1}^N\\alpha_i y^{(i)}\n",
    "\\end{align}\n",
    "$$\n"
   ]
  },
  {
   "cell_type": "markdown",
   "metadata": {},
   "source": [
    "* Dualna Lagrangeova funkcija:\n",
    "\n",
    "$$\n",
    "\\begin{align*}\n",
    "\\tilde{L}(\\boldsymbol\\alpha) &=\n",
    "\\frac{1}{2}\\|\\mathbf{w}\\|^2 -\\sum_{i=1}^N\\alpha_i\\Big\\{y^{(i)}\\big(\\mathbf{w}^\\intercal\\mathbf{x}^{(i)}+w_0\\big)-1\\Big\\}\\\\\n",
    "&= \n",
    "\\frac{1}{2}\\|\\mathbf{w}\\|^2\n",
    "-\\sum_{i=1}^N\\alpha_i y^{(i)}\\mathbf{w}^\\intercal\\mathbf{x}^{(i)}\n",
    "\\color{gray}{\\underbrace{-w_0 \\sum_{i=1}^N\\alpha_iy^{(i)}}_{=0}} + \n",
    "\\sum_{i=1}^N\\alpha_i\\\\\n",
    "&= \\nonumber\n",
    "\\frac{1}{2}\\sum_{i=1}^N\\alpha_i y^{(i)}(\\mathbf{x}^{(i)})^\\intercal\\sum_{j=1}^N\\alpha_j y^{(j)}\\mathbf{x}^{(j)}\n",
    "-\n",
    "\\sum_{i=1}^N\\alpha_i y^{(i)}(\\mathbf{x}^{(i)})^\\intercal\\sum_{j=1}^N\\alpha_j y^{(j)}\\mathbf{x}^{(j)}\n",
    "+ \\sum_{i=1}^N\\alpha_i\\\\\n",
    "&= \n",
    "\\sum_{i=1}^N\\alpha_i - \n",
    "\\frac{1}{2}\\sum_{i=1}^N\n",
    "\\sum_{j=1}^N\n",
    "\\alpha_i\n",
    "\\alpha_j\n",
    "y^{(i)}\n",
    "y^{(j)}\n",
    "(\\mathbf{x}^{(i)})^\\intercal\n",
    "\\mathbf{x}^{(j)}\n",
    "\\end{align*}\n",
    "$$\n",
    "\n",
    "* Dobili smo **dualni optimizacijski problem**:\n",
    "\n",
    "> **Maksimizirati** izraz\n",
    "> \\begin{align}\n",
    "\\sum_{i=1}^N\\alpha_i - \n",
    "\\frac{1}{2}\\sum_{i=1}^N\n",
    "\\sum_{j=1}^N\n",
    "\\alpha_i\n",
    "\\alpha_j\n",
    "y^{(i)}\n",
    "y^{(j)}\n",
    "(\\mathbf{x}^{(i)})^\\intercal\n",
    "\\mathbf{x}^{(j)}\n",
    "\\end{align}\n",
    "> tako da:\n",
    "> \\begin{align*}\n",
    "\\alpha_i &\\geq 0,\\quad i=1,\\dots,N \\\\ \n",
    "\\sum_{i=1}^N\\alpha_i y^{(i)} &= 0\n",
    "\\end{align*}\n",
    "\n",
    "* Također vrijedi KKT-uvjet:\n",
    "$$\n",
    "\\alpha_i\\big(y^{(i)} h(\\mathbf{x}^{(i)})-1\\big) = 0\n",
    "$$\n",
    "\n",
    "\n",
    "* Ovo je i dalje problem kvadratnog programiranja, međutim broj varijabli se promijenio\n",
    "  * Primarni problem: $n+1$ varijabli\n",
    "  * Dualni problem: $N$ varijabli\n",
    "  \n",
    "  \n",
    "* Dakle, prijelaz u dualni problem se računalno isplati ako $N\\ll n$\n",
    "  \n",
    "  \n",
    "* Općenito, složenost kvadratnog programiranja od $n$ varijabli je $\\mathcal{O}(n^3)$\n",
    "  * Posebni algoritmi su efikasniji: **slijedna minimalna optimizacija (SMO)** ima $\\mathcal{O}(n^2)$"
   ]
  },
  {
   "cell_type": "markdown",
   "metadata": {},
   "source": [
    "#### Model\n",
    "\n",
    "* Već smo izračunali:\n",
    "$$\n",
    "\\begin{align}\n",
    "\\mathbf{w} &= \\sum_{i=1}^N \\alpha_i y^{(i)}\\mathbf{x}^{(i)}\n",
    "\\end{align}\n",
    "$$\n",
    "\n",
    "\n",
    "* Uvrštavanjem:\n",
    "$$\n",
    "\\begin{equation}\n",
    "h(\\mathbf{x})=\n",
    "\\underbrace{\\mathbf{w}^\\intercal\\mathbf{x}+w_0}_{\\text{Primarno}} = \n",
    "\\underbrace{\\sum_{i=1}^N \\alpha_i y^{(i)}\\mathbf{x}^\\intercal\\mathbf{x}^{(i)} + w_0}_{\\text{Dualno}}\n",
    "\\end{equation}\n",
    "$$\n",
    "\n",
    "\n",
    "* Kako bismo klasificirali primjer $\\mathbf{x}$, računamo skalarni produkt između $\\mathbf{x}$ i svih primjera $\\mathbf{x}^{(i)}$ iz skupa $\\mathcal{D}$, pomnožen s težinom $\\alpha_i$ i predznakom $\\mathcal{y}^(i)$\n",
    "\n",
    "\n",
    "* Računanje skalarnog produkta $\\mathbf{x}^\\intercal\\mathbf{x}^{(i)}$ je zapravo računanje sličnosti između vektora $\\mathbf{x}$ i $\\mathbf{x}^{(i)}$, budući da:\n",
    "$$\n",
    "\\mathbf{x}^\\intercal\\mathbf{y} = \\sum_{i=1}^n x_i y_i\n",
    "$$\n",
    "(produkt će biti to veći što se vektori podudaraju u više komponenenata)\n",
    "\n",
    "\n",
    "* Dakle, umjesto da pohranjujemo težine $\\mathbf{w}$, trebamo pohraniti primjere i njihove oznake\n",
    "  * Umjesto $h(\\mathbf{x}|\\mathbf{w})$ imamo $h(\\mathbf{x}|\\boldsymbol\\alpha,\\mathcal{D})$\n",
    "  \n",
    "  \n",
    "* Složenost modela sada ovisi o broju primjera $\\Rightarrow$ **neparametarski model**\n",
    "\n",
    "\n",
    "* Zaključak: ako se trenira tako da se rješava primarni problem, SVM je parametarski model, a ako se rješava dualni problem, onda je neparametarski \n",
    "\n"
   ]
  },
  {
   "cell_type": "markdown",
   "metadata": {},
   "source": [
    "#### Potporni vektori\n",
    "\n",
    "* Iz KKT-uvjeta\n",
    "$$\n",
    "\\alpha_i\\big(y^{(i)} h(\\mathbf{x}^{(i)})-1\\big) = 0\n",
    "$$\n",
    "slijedi da za svaki primjer $\\mathbf{x}^{(i)}$ iz $\\mathcal{D}$ vrijedi \n",
    "$$\n",
    "\\alpha_i=0\n",
    "$$\n",
    "ili \n",
    "$$\n",
    "y^{(i)}h(\\mathbf{x}^{(i)})=1\n",
    "$$\n",
    "\n",
    "\n",
    "* To znači da je se u izrazu za model pojavljuju samo vektori koji leže točno na ravnini maksimalne margine $\\Rightarrow$ **potporni vektori** (engl. *support vectors*)\n",
    "\n",
    "\n",
    "* Svi ostali vektori za koje $\\alpha_i=0$ uopće ne utječu na izlaz modela i možemo ih zanemariti kada radimo predikciju\n",
    "\n",
    "\n",
    "* Alternativni pogled: hiperravnina (u primarnom problemu) definirana je linearnom kombinacijom potpornih vektora (u dualnom problemu)"
   ]
  },
  {
   "cell_type": "code",
   "execution_count": 2,
   "metadata": {
    "collapsed": false
   },
   "outputs": [],
   "source": [
    "seven_X = sp.array([[2,1], [2,3], [1,2], [3,2], [5,2], [5,4], [6,3]])\n",
    "seven_y = sp.array([1, 1, 1, 1, -1, -1, -1])"
   ]
  },
  {
   "cell_type": "code",
   "execution_count": 6,
   "metadata": {
    "collapsed": false
   },
   "outputs": [
    {
     "data": {
      "image/png": "[encoded data removed]",
      "text/plain": [
       "<matplotlib.figure.Figure at 0x7f1f0da5aa50>"
      ]
     },
     "metadata": {},
     "output_type": "display_data"
    }
   ],
   "source": [
    "plot_problem(seven_X, seven_y)"
   ]
  },
  {
   "cell_type": "code",
   "execution_count": 3,
   "metadata": {
    "collapsed": false
   },
   "outputs": [
    {
     "data": {
      "text/plain": [
       "SVC(C=1.0, cache_size=200, class_weight=None, coef0=0.0, degree=3, gamma=0.0,\n",
       "  kernel='linear', max_iter=-1, probability=False, random_state=None,\n",
       "  shrinking=True, tol=0.001, verbose=False)"
      ]
     },
     "execution_count": 3,
     "metadata": {},
     "output_type": "execute_result"
    }
   ],
   "source": [
    "from sklearn.svm import SVC\n",
    "\n",
    "svc = SVC(kernel='linear')\n",
    "svc.fit(seven_X, seven_y)"
   ]
  },
  {
   "cell_type": "code",
   "execution_count": 8,
   "metadata": {
    "collapsed": false
   },
   "outputs": [
    {
     "data": {
      "image/png": "[encoded data removed]",
      "text/plain": [
       "<matplotlib.figure.Figure at 0x7f1f06570650>"
      ]
     },
     "metadata": {},
     "output_type": "display_data"
    }
   ],
   "source": [
    "plot_problem(seven_X, seven_y, svc.predict)"
   ]
  },
  {
   "cell_type": "code",
   "execution_count": 9,
   "metadata": {
    "collapsed": false
   },
   "outputs": [
    {
     "data": {
      "text/plain": [
       "array([1])"
      ]
     },
     "execution_count": 9,
     "metadata": {},
     "output_type": "execute_result"
    }
   ],
   "source": [
    "svc.predict(sp.array([1, 1]))"
   ]
  },
  {
   "cell_type": "code",
   "execution_count": 10,
   "metadata": {
    "collapsed": false
   },
   "outputs": [
    {
     "data": {
      "text/plain": [
       "array([-1])"
      ]
     },
     "execution_count": 10,
     "metadata": {},
     "output_type": "execute_result"
    }
   ],
   "source": [
    "svc.predict(sp.array([6, 1]))"
   ]
  },
  {
   "cell_type": "code",
   "execution_count": 11,
   "metadata": {
    "collapsed": false
   },
   "outputs": [
    {
     "data": {
      "text/plain": [
       "array([1])"
      ]
     },
     "execution_count": 11,
     "metadata": {},
     "output_type": "execute_result"
    }
   ],
   "source": [
    "svc.predict(sp.array([3.5, 2]))"
   ]
  },
  {
   "cell_type": "code",
   "execution_count": 12,
   "metadata": {
    "collapsed": false
   },
   "outputs": [
    {
     "data": {
      "text/plain": [
       "array([[ 1.99980469],\n",
       "       [ 1.99921875],\n",
       "       [ 2.99921875],\n",
       "       [ 0.99980469],\n",
       "       [-0.99960937],\n",
       "       [-1.00019531],\n",
       "       [-1.99960938]])"
      ]
     },
     "execution_count": 12,
     "metadata": {},
     "output_type": "execute_result"
    }
   ],
   "source": [
    "svc.decision_function(seven_X)"
   ]
  },
  {
   "cell_type": "code",
   "execution_count": 13,
   "metadata": {
    "collapsed": false
   },
   "outputs": [
    {
     "data": {
      "text/plain": [
       "array([4, 5, 3], dtype=int32)"
      ]
     },
     "execution_count": 13,
     "metadata": {},
     "output_type": "execute_result"
    }
   ],
   "source": [
    "svc.support_"
   ]
  },
  {
   "cell_type": "code",
   "execution_count": 14,
   "metadata": {
    "collapsed": false
   },
   "outputs": [
    {
     "data": {
      "text/plain": [
       "array([[  4.99707031e-01,   1.46484375e-04,  -4.99853516e-01]])"
      ]
     },
     "execution_count": 14,
     "metadata": {},
     "output_type": "execute_result"
    }
   ],
   "source": [
    "svc.dual_coef_"
   ]
  },
  {
   "cell_type": "markdown",
   "metadata": {},
   "source": [
    "**NB:** Koeficijenti iz `dual_coef_` ne odgovaraju vrijednostima $\\alpha_i$ već vrijednostima $-\\alpha_i y^{(i)}$"
   ]
  },
  {
   "cell_type": "code",
   "execution_count": 15,
   "metadata": {
    "collapsed": false
   },
   "outputs": [
    {
     "data": {
      "text/plain": [
       "array([[ 5.,  2.],\n",
       "       [ 5.,  4.],\n",
       "       [ 3.,  2.]])"
      ]
     },
     "execution_count": 15,
     "metadata": {},
     "output_type": "execute_result"
    }
   ],
   "source": [
    "svc.support_vectors_"
   ]
  },
  {
   "cell_type": "markdown",
   "metadata": {},
   "source": [
    "#### Rekonstrukcija primarnog problema\n",
    "\n",
    "* Nakon što je model naučen, možemo rekonstruirati primarne varijable, odnosno težine $\\mathbf{w}$ i $w_0$\n",
    "\n",
    "\n",
    "* Težine $\\mathbf{w}$:\n",
    "$$\n",
    "\\begin{align}\n",
    "\\mathbf{w} &= \\sum_{i=1}^N \\alpha_i y^{(i)}\\mathbf{x}^{(i)}\n",
    "\\end{align}\n",
    "$$\n",
    "\n",
    "\n",
    "* Pomak $w_0$: za potporne vektore $\\mathbf{x}^{(i)}\\in S$ vrijedi\n",
    "\n",
    "$$\n",
    "\\begin{align*}\n",
    "y^{(i)} h(\\mathbf{x}) &= 1\\\\ \n",
    "y^{(i)} \\Big(\\sum_{j\\in S} \\alpha_j y^{(j)}(\\mathbf{x}^{(i)})^\\intercal\\mathbf{x}^{(j)} + w_0\\Big) &= y^{(i)} y^{(i)}\\\\\n",
    "w_0 &= y^{(i)} - \\sum_{j\\in S} \\alpha_j y^{(j)}(\\mathbf{x}^{(i)})^\\intercal\\mathbf{x}^{(j)}\\\\\n",
    "\\end{align*}\n",
    "$$\n",
    "\n",
    "\n",
    "* $w_0$ možemo izračunati na temelju jednog primjera $\\mathbf{x}^{(i)}$. Međutim, radi numeričke stabilnosti, bolje je uprosječiti izračun nad svim potpornim vektorima:\n",
    "\n",
    "\n",
    "$$\n",
    "w_0 = \\frac{1}{|S|}\\sum_{i\\in S} \\Big( y^{(i)} - \\sum_{j\\in S} \\alpha_j y^{(j)}(\\mathbf{x}^{(i)})^\\intercal\\mathbf{x}^{(j)}\\Big)\n",
    "$$\n"
   ]
  },
  {
   "cell_type": "code",
   "execution_count": 38,
   "metadata": {
    "collapsed": false
   },
   "outputs": [],
   "source": [
    "def w(X, y, dc, sv):\n",
    "    s = 0\n",
    "    for alpha, i in zip(dc, sv):\n",
    "        s += -alpha * X[i]\n",
    "    return s\n",
    "    \n",
    "def w0(X, y, dc, sv):\n",
    "    s = 0\n",
    "    for i in sv:\n",
    "        r = 0\n",
    "        for alpha, j in zip(dc, sv) :\n",
    "            r += -alpha * sp.dot(X[i], X[j])\n",
    "        s += y[i] - r\n",
    "    return s / float(len(sv))"
   ]
  },
  {
   "cell_type": "code",
   "execution_count": 39,
   "metadata": {
    "collapsed": false
   },
   "outputs": [
    {
     "data": {
      "text/plain": [
       "array([ -9.99707031e-01,  -2.92968750e-04])"
      ]
     },
     "execution_count": 39,
     "metadata": {},
     "output_type": "execute_result"
    }
   ],
   "source": [
    "w(seven_X, seven_y, svc.dual_coef_[0], svc.support_)"
   ]
  },
  {
   "cell_type": "code",
   "execution_count": 21,
   "metadata": {
    "collapsed": false
   },
   "outputs": [
    {
     "data": {
      "text/plain": [
       "array([[ -9.99707031e-01,  -2.92968750e-04]])"
      ]
     },
     "execution_count": 21,
     "metadata": {},
     "output_type": "execute_result"
    }
   ],
   "source": [
    "svc.coef_"
   ]
  },
  {
   "cell_type": "code",
   "execution_count": 40,
   "metadata": {
    "collapsed": false
   },
   "outputs": [
    {
     "data": {
      "text/plain": [
       "3.9995117187499982"
      ]
     },
     "execution_count": 40,
     "metadata": {},
     "output_type": "execute_result"
    }
   ],
   "source": [
    "w0(seven_X, seven_y, svc.dual_coef_[0], svc.support_)"
   ]
  },
  {
   "cell_type": "code",
   "execution_count": 41,
   "metadata": {
    "collapsed": false
   },
   "outputs": [
    {
     "data": {
      "text/plain": [
       "array([ 3.99951172])"
      ]
     },
     "execution_count": 41,
     "metadata": {},
     "output_type": "execute_result"
    }
   ],
   "source": [
    "svc.intercept_"
   ]
  },
  {
   "cell_type": "code",
   "execution_count": 44,
   "metadata": {
    "collapsed": true
   },
   "outputs": [],
   "source": [
    "def h_primal(x, w, w0):\n",
    "    return sp.dot(w, x) + w0\n",
    "\n",
    "def h_dual(x, X, y, dc, sv):\n",
    "    xs = [ -alpha * sp.dot(x, X[i]) for alpha, i in zip(dc, sv) ]\n",
    "    return sum(xs) + w0(X, y, dc, sv)"
   ]
  },
  {
   "cell_type": "code",
   "execution_count": 45,
   "metadata": {
    "collapsed": false
   },
   "outputs": [
    {
     "data": {
      "text/plain": [
       "array([[ 1.99980469],\n",
       "       [ 1.99921875],\n",
       "       [ 2.99921875],\n",
       "       [ 0.99980469],\n",
       "       [-0.99960937],\n",
       "       [-1.00019531],\n",
       "       [-1.99960938]])"
      ]
     },
     "execution_count": 45,
     "metadata": {},
     "output_type": "execute_result"
    }
   ],
   "source": [
    "svc.decision_function(seven_X)"
   ]
  },
  {
   "cell_type": "code",
   "execution_count": 46,
   "metadata": {
    "collapsed": false
   },
   "outputs": [
    {
     "data": {
      "text/plain": [
       "[array([ 1.99980469]),\n",
       " array([ 1.99921875]),\n",
       " array([ 2.99921875]),\n",
       " array([ 0.99980469]),\n",
       " array([-0.99960938]),\n",
       " array([-1.00019531]),\n",
       " array([-1.99960938])]"
      ]
     },
     "execution_count": 46,
     "metadata": {},
     "output_type": "execute_result"
    }
   ],
   "source": [
    "map(lambda x: h_primal(x ,svc.coef_, svc.intercept_), seven_X)"
   ]
  },
  {
   "cell_type": "code",
   "execution_count": 47,
   "metadata": {
    "collapsed": false
   },
   "outputs": [
    {
     "data": {
      "text/plain": [
       "[1.9998046874999988,\n",
       " 1.9992187499999989,\n",
       " 2.999218749999998,\n",
       " 0.99980468749999929,\n",
       " -0.99960937500000036,\n",
       " -1.0001953124999989,\n",
       " -1.9996093750000021]"
      ]
     },
     "execution_count": 47,
     "metadata": {},
     "output_type": "execute_result"
    }
   ],
   "source": [
    "map(lambda x: h_dual(x, seven_X, seven_y, svc.dual_coef_[0], svc.support_), seven_X)"
   ]
  },
  {
   "cell_type": "markdown",
   "metadata": {},
   "source": [
    "#### Je li ovo jedini način za treniranje SVM-a?\n",
    "\n",
    "* Nije. Mogli smo ostati na primarnom problemu, i riješiti ga npr. stohastičkim gradijentnim spustom uz penalizaciju (algoritam *Pegasos*)\n",
    "\n",
    "\n",
    "* Postoji niz SVM solvera \n",
    "  * https://cseweb.ucsd.edu/~akmenon/ResearchExam.pdf\n",
    "  * https://mitpress.mit.edu/sites/default/files/titles/content/9780262026253_sch_0001.pdf\n",
    "  \n",
    "\n",
    "* Međutim, prednost dualne formulacije je da omogućava **jezgreni trik**"
   ]
  },
  {
   "cell_type": "markdown",
   "metadata": {},
   "source": [
    "# Meka margina\n",
    "\n",
    "$$\n",
    "\\begin{align}\n",
    "y^{(i)}\\big(\\mathbf{w}^\\intercal\\mathbf{x}^{(i)}+w_0\\big) \\geq 1 - \\xi_i, \\quad i=1,\\dots,N\n",
    "\\end{align}\n",
    "$$\n",
    "\n",
    "$$\n",
    "\\xi_i \\geq 0, i=1,\\dots,N\n",
    "$$\n",
    "\n",
    "* Ciljna funkcija:\n",
    "\n",
    "$$\n",
    "\\begin{equation}\n",
    "\\frac{1}{2}\\|\\mathbf{w}\\|^2+ C\\sum_{i=1}^N\\xi_i\n",
    "\\end{equation}\n",
    "$$\n",
    "\n",
    "> $$\n",
    "\\mathrm{argmin}_{\\mathbf{w},w_0}\n",
    "\\Big\\{\\frac{1}{2}\\|\\mathbf{w}\\|^2+ C\\sum_{i=1}^N\\xi_i \\Big\\}\n",
    "$$\n",
    "> Uz ograničenja:\n",
    "> $$\n",
    "\\begin{align*}\n",
    "y^{(i)}\\big(\\mathbf{w}^\\intercal\\mathbf{x}^{(i)}+w_0\\big) &\\geq 1 - \\xi_i, \\quad& i=1,\\dots,N\\\\\n",
    "\\xi_i&\\geq 0, & i=1,\\dots,N\\\\\n",
    "\\end{align*}\n",
    "$$\n",
    "\n",
    "* Pripadna Lagrangeova funkcija:\n",
    "\n",
    "$$\n",
    "L(\\mathbf{w}, w_0,\\boldsymbol\\xi,\\color{red}{\\boldsymbol\\alpha},\\color{red}{\\boldsymbol\\beta})=\n",
    "\\frac{1}{2}\\|\\mathbf{w}\\|^2+ C\\sum_{i=1}^N \\xi_i\n",
    "- \\sum_{i=1}^N\\color{red}{\\alpha_i}\\big(y^{(i)} h(\\mathbf{x})-1 + \\xi_i\\big)\n",
    "- \\sum_{i=1}^N\\color{red}{\\beta_i}\\xi_i\n",
    "$$\n",
    "\n",
    "\n",
    "* Minimizacija po $\\mathbf{w}$, $w_0$ i $\\xi_i$:\n",
    "\n",
    "$$\n",
    "\\begin{align*}\n",
    "\\mathbf{w} &= \\sum_{i=1}^N \\alpha_i y^{(i)}\\mathbf{x}^{(i)}\\\\\n",
    "\\sum_{i=1}^N\\alpha_i y^{(i)} &= 0\\\\\n",
    "\\alpha_i &= C - \\beta_i\n",
    "\\end{align*}\n",
    "$$\n",
    "\n",
    "* Dualna Lagrangeova funkcija:\n",
    "\n",
    "$$\n",
    "\\tilde{L}(\\boldsymbol\\alpha) = \n",
    "\\begin{align}\n",
    "\\sum_{i=1}^N\\alpha_i - \n",
    "\\frac{1}{2}\\sum_{i=1}^N\n",
    "\\sum_{j=1}^N\n",
    "\\alpha_i\n",
    "\\alpha_j\n",
    "y^{(i)}\n",
    "y^{(j)}\n",
    "(\\mathbf{x}^{(i)})^\\intercal\n",
    "\\mathbf{x}^{(j)}\n",
    "\\end{align}\n",
    "$$\n",
    "\n",
    "* Dualni optimizacijski problem:\n",
    "\n",
    "> **Maksimizirati** izraz\n",
    "> \\begin{align}\n",
    "\\sum_{i=1}^N\\alpha_i - \n",
    "\\frac{1}{2}\\sum_{i=1}^N\n",
    "\\sum_{j=1}^N\n",
    "\\alpha_i\n",
    "\\alpha_j\n",
    "y^{(i)}\n",
    "y^{(j)}\n",
    "(\\mathbf{x}^{(i)})^\\intercal\n",
    "\\mathbf{x}^{(j)}\n",
    "\\end{align}\n",
    "> tako da:\n",
    "> \\begin{align*}\n",
    "0 \\leq \\alpha_i &\\leq C,\\quad i=1,\\dots,N \\\\ \n",
    "\\sum_{i=1}^N\\alpha_i y^{(i)} &= 0, \\quad i=1,\\dots,N\n",
    "\\end{align*}\n"
   ]
  },
  {
   "cell_type": "code",
   "execution_count": 4,
   "metadata": {
    "collapsed": true
   },
   "outputs": [],
   "source": [
    "X1, y1 = sp.append(seven_X, [[3,3]], axis=0), sp.append(seven_y, -1)\n",
    "X2, y2 = sp.append(seven_X, [[2,2]], axis=0), sp.append(seven_y, -1)"
   ]
  },
  {
   "cell_type": "code",
   "execution_count": 50,
   "metadata": {
    "collapsed": true
   },
   "outputs": [],
   "source": [
    "def predict(model,x) : \n",
    "    #h = sp.dot(model.coef_,x)+model.intercept_\n",
    "    h = model.decision_function(x)\n",
    "    if h >= -1 and h <= 1 : return 0.5\n",
    "    else : return max(-1,min(1,h))\n",
    "    return h"
   ]
  },
  {
   "cell_type": "code",
   "execution_count": 51,
   "metadata": {
    "collapsed": false
   },
   "outputs": [
    {
     "data": {
      "image/png": "[encoded data removed]",
      "text/plain": [
       "<matplotlib.figure.Figure at 0x7f1f450c6bd0>"
      ]
     },
     "metadata": {},
     "output_type": "display_data"
    },
    {
     "name": "stdout",
     "output_type": "stream",
     "text": [
      "[[ 5.  2.]\n",
      " [ 5.  4.]\n",
      " [ 6.  3.]\n",
      " [ 3.  3.]\n",
      " [ 2.  1.]\n",
      " [ 2.  3.]\n",
      " [ 1.  2.]\n",
      " [ 3.  2.]]\n",
      "margin =  17.0871531543\n",
      "loss =  0.82875\n"
     ]
    },
    {
     "data": {
      "image/png": "[encoded data removed]",
      "text/plain": [
       "<matplotlib.figure.Figure at 0x7f1f062819d0>"
      ]
     },
     "metadata": {},
     "output_type": "display_data"
    },
    {
     "name": "stdout",
     "output_type": "stream",
     "text": [
      "[[ 5.  2.]\n",
      " [ 3.  3.]\n",
      " [ 2.  3.]\n",
      " [ 3.  2.]]\n",
      "margin =  1.75411603861\n",
      "loss =  0.1625\n"
     ]
    },
    {
     "data": {
      "image/png": "[encoded data removed]",
      "text/plain": [
       "<matplotlib.figure.Figure at 0x7f1f062fe250>"
      ]
     },
     "metadata": {},
     "output_type": "display_data"
    },
    {
     "name": "stdout",
     "output_type": "stream",
     "text": [
      "[[ 3.  3.]\n",
      " [ 2.  3.]\n",
      " [ 3.  2.]]\n",
      "margin =  0.707106781187\n",
      "loss =  6.66133814775e-16\n"
     ]
    }
   ],
   "source": [
    "from sklearn.metrics import hinge_loss\n",
    "\n",
    "for C in [1e-2,1,1e2] :\n",
    "    svc = SVC(C=C,kernel='linear')\n",
    "    svc.fit(X1,y1)\n",
    "    plot_problem(X1,y1,lambda x: predict(svc,x)); show()\n",
    "    print svc.support_vectors_\n",
    "    print \"margin = \", 2/sp.linalg.norm(svc.coef_)\n",
    "    print \"loss = \", hinge_loss(y1,svc.decision_function(X1))"
   ]
  },
  {
   "cell_type": "code",
   "execution_count": 54,
   "metadata": {
    "collapsed": false
   },
   "outputs": [
    {
     "data": {
      "image/png": "[encoded data removed]",
      "text/plain": [
       "<matplotlib.figure.Figure at 0x7f1f06232910>"
      ]
     },
     "metadata": {},
     "output_type": "display_data"
    },
    {
     "name": "stdout",
     "output_type": "stream",
     "text": [
      "[[ 5.  2.]\n",
      " [ 5.  4.]\n",
      " [ 6.  3.]\n",
      " [ 2.  2.]\n",
      " [ 2.  1.]\n",
      " [ 2.  3.]\n",
      " [ 1.  2.]\n",
      " [ 3.  2.]]\n",
      "margin =  19.1565257044\n",
      "loss =  0.86375\n"
     ]
    },
    {
     "data": {
      "image/png": "[encoded data removed]",
      "text/plain": [
       "<matplotlib.figure.Figure at 0x7f1f0dacaf90>"
      ]
     },
     "metadata": {},
     "output_type": "display_data"
    },
    {
     "name": "stdout",
     "output_type": "stream",
     "text": [
      "[[ 5.  2.]\n",
      " [ 5.  4.]\n",
      " [ 2.  2.]\n",
      " [ 2.  3.]\n",
      " [ 3.  2.]]\n",
      "margin =  3.00074934316\n",
      "loss =  0.3334375\n"
     ]
    },
    {
     "data": {
      "image/png": "[encoded data removed]",
      "text/plain": [
       "<matplotlib.figure.Figure at 0x7f1f0daca690>"
      ]
     },
     "metadata": {},
     "output_type": "display_data"
    },
    {
     "name": "stdout",
     "output_type": "stream",
     "text": [
      "[[ 5.  2.]\n",
      " [ 5.  4.]\n",
      " [ 2.  2.]\n",
      " [ 2.  1.]\n",
      " [ 2.  3.]\n",
      " [ 3.  2.]]\n",
      "margin =  2.99972150961\n",
      "loss =  0.333387466667\n"
     ]
    }
   ],
   "source": [
    "for C in [1e-2, 1, 1e2] :\n",
    "    svc = SVC(C=C, kernel='linear')\n",
    "    svc.fit(X2, y2)\n",
    "    plot_problem(X2, y2, lambda x: predict(svc,x)); show()\n",
    "    print svc.support_vectors_\n",
    "    print \"margin = \", 2/sp.linalg.norm(svc.coef_)\n",
    "    print \"loss = \", hinge_loss(y1,svc.decision_function(X2))"
   ]
  },
  {
   "cell_type": "markdown",
   "metadata": {},
   "source": [
    "# Gubitak zglobnice"
   ]
  },
  {
   "cell_type": "markdown",
   "metadata": {
    "collapsed": true
   },
   "source": [
    "TODO (v. skriptu)"
   ]
  },
  {
   "cell_type": "markdown",
   "metadata": {},
   "source": [
    "# Jezgreni trik"
   ]
  },
  {
   "cell_type": "markdown",
   "metadata": {},
   "source": [
    "TODO (v. skriptu)"
   ]
  },
  {
   "cell_type": "markdown",
   "metadata": {},
   "source": [
    "# Mercerove jezgre\n",
    "\n"
   ]
  },
  {
   "cell_type": "markdown",
   "metadata": {},
   "source": [
    "TODO (v. skriptu)"
   ]
  },
  {
   "cell_type": "markdown",
   "metadata": {},
   "source": [
    "# Optimizacija hiperparametara"
   ]
  },
  {
   "cell_type": "markdown",
   "metadata": {},
   "source": [
    "TODO (v. skriptu)"
   ]
  },
  {
   "cell_type": "markdown",
   "metadata": {},
   "source": [
    "# Sažetak"
   ]
  },
  {
   "cell_type": "markdown",
   "metadata": {},
   "source": [
    "TODO"
   ]
  },
  {
   "cell_type": "code",
   "execution_count": 4,
   "metadata": {
    "collapsed": true
   },
   "outputs": [],
   "source": [
    "def plot_problem(X, y, h=None, surfaces=True) :\n",
    "    '''\n",
    "    Plots a two-dimensional labeled dataset (X,y) and, if function h(x) is given, \n",
    "    the decision boundaries (surfaces=False) or decision surfaces (surfaces=True)\n",
    "    '''\n",
    "    assert X.shape[1] == 2, \"Dataset is not two-dimensional\"\n",
    "    if h!=None : \n",
    "        # Create a mesh to plot in\n",
    "        r = 0.02  # mesh resolution\n",
    "        x_min, x_max = X[:, 0].min() - 1, X[:, 0].max() + 1\n",
    "        y_min, y_max = X[:, 1].min() - 1, X[:, 1].max() + 1\n",
    "        xx, yy = np.meshgrid(np.arange(x_min, x_max, r),\n",
    "                             np.arange(y_min, y_max, r))\n",
    "        XX=np.c_[xx.ravel(), yy.ravel()]\n",
    "        try:\n",
    "            Z_test = h(XX)\n",
    "            if shape(Z_test) == () :\n",
    "                # h returns a scalar when applied to a matrix; map explicitly\n",
    "                Z = sp.array(map(h,XX))\n",
    "            else :\n",
    "                Z = Z_test\n",
    "        except ValueError:\n",
    "            # can't apply to a matrix; map explicitly\n",
    "            Z = sp.array(map(h,XX))\n",
    "        # Put the result into a color plot\n",
    "        Z = Z.reshape(xx.shape)\n",
    "        if surfaces :\n",
    "            plt.contourf(xx, yy, Z, cmap=plt.cm.Pastel1)\n",
    "        else :\n",
    "            plt.contour(xx, yy, Z)\n",
    "    # Plot the dataset\n",
    "    scatter(X[:,0],X[:,1],c=y, cmap=plt.cm.Paired,marker='o',s=50);"
   ]
  }
 ],
 "metadata": {
  "kernelspec": {
   "display_name": "Python 2",
   "language": "python",
   "name": "python2"
  },
  "language_info": {
   "codemirror_mode": {
    "name": "ipython",
    "version": 2
   },
   "file_extension": ".py",
   "mimetype": "text/x-python",
   "name": "python",
   "nbconvert_exporter": "python",
   "pygments_lexer": "ipython2",
   "version": "2.7.6"
  }
 },
 "nbformat": 4,
 "nbformat_minor": 0
}
