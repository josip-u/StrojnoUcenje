{
 "cells": [
  {
   "cell_type": "markdown",
   "metadata": {
    "slideshow": {
     "slide_type": "slide"
    }
   },
   "source": [
    "Sveučilište u Zagrebu<br>\n",
    "Fakultet elektrotehnike i računarstva\n",
    "\n",
    "# Strojno učenje\n",
    "\n",
    "<a href=\"http://www.fer.unizg.hr/predmet/su\">http://www.fer.unizg.hr/predmet/su</a>\n",
    "\n",
    "Ak. god. 2015./2016.\n",
    "\n",
    "# Bilježnica 7: Logistička regresija\n",
    "\n",
    "(c) 2015 Jan Šnajder\n",
    "\n",
    "<i>Verzija: 0.2 (2015-11-16)</i>"
   ]
  },
  {
   "cell_type": "code",
   "execution_count": 2,
   "metadata": {
    "collapsed": false
   },
   "outputs": [
    {
     "name": "stdout",
     "output_type": "stream",
     "text": [
      "Populating the interactive namespace from numpy and matplotlib\n"
     ]
    }
   ],
   "source": [
    "import scipy as sp\n",
    "import scipy.stats as stats\n",
    "import matplotlib.pyplot as plt\n",
    "import pandas as pd\n",
    "%pylab inline"
   ]
  },
  {
   "cell_type": "markdown",
   "metadata": {},
   "source": [
    "### Sadržaj:\n",
    "\n",
    "* Model logističke regresije\n",
    "\n",
    "* Gubitak unakrsne entropije\n",
    "\n",
    "* Minimizacija pogreške\n",
    "\n",
    "* Poveznica s generativnim modelom\n",
    "\n",
    "* Usporedba linearnih modela\n",
    "\n",
    "* Sažetak\n"
   ]
  },
  {
   "cell_type": "markdown",
   "metadata": {},
   "source": [
    "# Model logističke regresije\n",
    "\n",
    "### Podsjetnik: poopćeni linearni modeli\n",
    "\n",
    "$$\n",
    "h(\\mathbf{x}) = \\color{red}{f\\big(}\\mathbf{w}^\\intercal\\tilde{\\mathbf{x}}\\color{red}{\\big)}\n",
    "$$\n",
    "\n",
    "\n",
    "* $f : \\mathbb{R}\\to[0,1]$ ili $f : \\mathbb{R}\\to[-1,+1]$ je **aktivacijska funkcija**\n",
    "\n",
    "\n",
    "* Linearna granica u ulaznom prostoru (premda je $f$ nelinearna)\n",
    "  * Međutim, ako preslikavamo s $\\boldsymbol\\phi(\\mathbf{x})$ u prostor značajki, granica u ulaznom prostoru može biti nelinearna\n",
    "\n",
    "\n",
    "* Model nelinearan u parametrima (jer je $f$ nelinearna)\n",
    "  * Komplicira optimizaciju (nema rješenja u zatvorenoj formi)"
   ]
  },
  {
   "cell_type": "markdown",
   "metadata": {},
   "source": [
    "### Podsjetnik: klasifikacija regresijom\n",
    "\n",
    "* Model:\n",
    "$$\n",
    "    h(\\mathbf{x}) = \\mathbf{w}^\\intercal\\boldsymbol{\\phi}(\\mathbf{x}) \\qquad (f(\\alpha)=\\alpha)\n",
    "$$\n",
    "\n",
    "\n",
    "* [Skica]\n",
    "\n",
    "\n",
    "* Funkcija gubitka: kvadratni gubitak\n",
    "\n",
    "\n",
    "* Optimizacijski postupak: izračun pseudoinverza (rješenje u zatvorenoj formi)\n",
    "\n",
    "\n",
    "* Prednosti:\n",
    "  * Uvijek dobivamo rješenje\n",
    "  \n",
    "\n",
    "* Nedostatci:\n",
    "  * Nerobusnost: ispravno klasificirani primjeri utječu na granicu $\\Rightarrow$ pogrešna klasifikacija čak i kod linearno odvojivih problema\n",
    "  * Izlaz modela nije probabilistički\n",
    "  \n",
    "### Podsjetnik: perceptron\n",
    "\n",
    "* Model:\n",
    "$$\n",
    "h(\\mathbf{x}) = f\\big(\\mathbf{w}^\\intercal\\boldsymbol\\phi(\\mathbf{x})\\big)\n",
    "\\qquad f(\\alpha) = \\begin{cases}\n",
    "+1 & \\text{ako $\\alpha\\geq0$}\\\\\n",
    "-1 & \\text{inače}\n",
    "\\end{cases}\n",
    "$$\n",
    "\n",
    "\n",
    "* [Skica]\n",
    "\n",
    "\n",
    "* Funkcija gubitka: količina pogrešne klasifikacije \n",
    "$$\n",
    "\\mathrm{max}(0,-\\tilde{\\mathbf{w}}^\\intercal\\boldsymbol{\\phi}(\\mathbf{x})y)\n",
    "$$\n",
    "\n",
    "\n",
    "* Optimizacijski postupak: gradijentni spust\n",
    "\n",
    "\n",
    "* Prednosti:\n",
    "  * Ispravno klasificirani primjeri ne utječu na granicu<br>\n",
    "    $\\Rightarrow$ ispravna klasifikacija linearno odvojivih problema\n",
    "\n",
    "\n",
    "* Nedostatci:\n",
    "  * Aktivacijska funkcija nije derivabilna<br>\n",
    "    $\\Rightarrow$ funkcija gubitka nije derivabilna<br>\n",
    "    $\\Rightarrow$ gradijent funkcije pogreške nije nula u točki minimuma<br>\n",
    "    $\\Rightarrow$ postupak ne konvergira ako primjeri nisu linearno odvojivi\n",
    "  * Decizijska granica ovisi o početnom izboru težina\n",
    "  * Izlaz modela nije probabilistički"
   ]
  },
  {
   "cell_type": "markdown",
   "metadata": {},
   "source": [
    "### Logistička regresija\n",
    "\n",
    "* Ideja: upotrijebiti aktivacijsku funkciju s izlazima $[0,1]$ ali koja jest derivabilna\n",
    "\n",
    "\n",
    "* **Logistička (sigmoidalna) funkcija**:\n",
    "$$\n",
    "    \\sigma(\\alpha) = \\frac{1}{1 + \\exp(-\\alpha)}\n",
    "$$"
   ]
  },
  {
   "cell_type": "code",
   "execution_count": 4,
   "metadata": {
    "collapsed": false
   },
   "outputs": [
    {
     "data": {
      "image/png": "[encoded data removed]",
      "text/plain": [
       "<matplotlib.figure.Figure at 0x7f9c84059e50>"
      ]
     },
     "metadata": {},
     "output_type": "display_data"
    }
   ],
   "source": [
    "def sigm(x): return 1 / (1 + sp.exp(-x))\n",
    "\n",
    "xs = sp.linspace(-10, 10)\n",
    "plt.plot(xs, sigm(xs));"
   ]
  },
  {
   "cell_type": "markdown",
   "metadata": {},
   "source": [
    "* Nagib sigmoide može se regulirati množenjem ulaza određenim faktorom:"
   ]
  },
  {
   "cell_type": "code",
   "execution_count": 6,
   "metadata": {
    "collapsed": false
   },
   "outputs": [
    {
     "data": {
      "image/png": "[encoded data removed]",
      "text/plain": [
       "<matplotlib.figure.Figure at 0x7f9c4754ce10>"
      ]
     },
     "metadata": {},
     "output_type": "display_data"
    }
   ],
   "source": [
    "plt.plot(xs, sigm(0.5*xs), 'r');\n",
    "plt.plot(xs, sigm(xs), 'g');\n",
    "plt.plot(xs, sigm(2*xs), 'b');"
   ]
  },
  {
   "cell_type": "markdown",
   "metadata": {},
   "source": [
    "* Derivacija sigmoidalne funkcije:\n",
    "    \n",
    "$$\n",
    "\\frac{\\partial\\sigma(\\alpha)}{\\partial\\alpha} = \n",
    "\\frac{\\partial}{\\partial\\alpha}\\big(1 + \\exp(-\\alpha)\\big) =\n",
    "\\sigma(\\alpha)\\big(1 - \\sigma(\\alpha)\\big)\n",
    "$$"
   ]
  },
  {
   "cell_type": "markdown",
   "metadata": {},
   "source": [
    "* Model **logističke regresije**:\n",
    "$$\n",
    "    h(\\mathbf{x}|\\mathbf{w}) = \\sigma\\big(\\mathbf{w}^\\intercal\\boldsymbol{\\phi}(\\mathbf{x})\\big) =\n",
    "    \\frac{1}{1+\\exp(-\\mathbf{w}^\\intercal\\boldsymbol{\\phi}(\\mathbf{x}))}\n",
    "$$\n",
    "\n",
    "\n",
    "* **NB:** Logistička regresija je klasifikacijski model (unatoč nazivu)!\n",
    "\n",
    "### Probabilistički izlaz\n",
    "\n",
    "* $h(\\mathbf{x})\\in[0,1]$, pa $h(\\mathbf{x})$ možemo tumačiti kao **vjerojatnost** da primjer pripada klasi $\\mathcal{C}_1$ (klasi za koju $y=1$):\n",
    "\n",
    "$$\n",
    "h(\\mathbf{x}|\\mathbf{w}) =  \\sigma\\big(\\mathbf{w}^\\intercal\\mathbf{\\phi}(\\mathbf{x})\\big) = \\color{red}{P(y=1|\\mathbf{x})}\n",
    "$$\n",
    "\n",
    "* Vidjet ćemo kasnije da postoji i dublje opravdanje za takvu interpretaciju\n"
   ]
  },
  {
   "cell_type": "markdown",
   "metadata": {},
   "source": [
    "# Funkcija logističkog gubitka\n",
    "\n",
    "\n",
    "* Definirali smo model, trebamo još definirati **funkciju gubitka** i **optimizacijski postupak**\n",
    "\n",
    "\n",
    "* Logistička funkcija koristi **gubitak unakrsne entropije**\n",
    "\n",
    "\n",
    "### Definicija\n",
    "\n",
    "\n",
    "* Funkcija pokriva dva slučajeva (kada je oznaka primjera $y=1$ i kada je $y=0$):\n",
    "\n",
    "$$\n",
    "L(h(\\mathbf{x}),y) =\n",
    "\\begin{cases}\n",
    "- \\ln h(\\mathbf{x}) & \\text{ako $y=1$}\\\\\n",
    "- \\ln \\big(1-h(\\mathbf{x})\\big) & \\text{ako $y=0$}\n",
    "\\end{cases}\n",
    "$$\n",
    "\n",
    "\n",
    "* Ovo možemo napisati sažetije:\n",
    "$$\n",
    "L(h(\\mathbf{x}),y) =  \n",
    "- y \\ln h(\\mathbf{x}) - (1-y)\\ln \\big(1-h(\\mathbf{x})\\big)\n",
    "$$\n",
    "\n"
   ]
  },
  {
   "cell_type": "code",
   "execution_count": 3,
   "metadata": {
    "collapsed": false
   },
   "outputs": [
    {
     "data": {
      "image/png": "[encoded data removed]",
      "text/plain": [
       "<matplotlib.figure.Figure at 0x7feb120ea4d0>"
      ]
     },
     "metadata": {},
     "output_type": "display_data"
    }
   ],
   "source": [
    "xs = linspace(0, 1)\n",
    "plt.plot(xs, -sp.log(xs));"
   ]
  },
  {
   "cell_type": "code",
   "execution_count": 4,
   "metadata": {
    "collapsed": false
   },
   "outputs": [
    {
     "data": {
      "image/png": "[encoded data removed]",
      "text/plain": [
       "<matplotlib.figure.Figure at 0x7feb1203b750>"
      ]
     },
     "metadata": {},
     "output_type": "display_data"
    }
   ],
   "source": [
    "plt.plot(xs, 1 - sp.log(1 - xs));"
   ]
  },
  {
   "cell_type": "markdown",
   "metadata": {},
   "source": [
    "* Ako $y=1$, funkcija kažnjava model to više što je njegov izlaz manji od jedinice. Slično, ako $y=0$, funkcija kažnjava model to više što je njegov izlaz veći od nule\n",
    "\n",
    "\n",
    "* Intutivno se ovakva funkcija čini u redu, ali je pitanje kako smo do nje došli"
   ]
  },
  {
   "cell_type": "markdown",
   "metadata": {},
   "source": [
    "### Izvod\n",
    "\n",
    "* Funkciju gubitka izvest ćemo iz **funkcije pogreške**\n",
    "  * Podsjetnik: funkcija pogreške = očekivanje funkcije gubitka\n",
    "        \n",
    "\n",
    "* Budući da logistička regresija daje vjerojatnosti oznaka za svaki primjer, možemo izračunati kolika je vjerojatnost označenog skupa primjera $\\mathcal{D}$ pod našim modelom, odnosno kolika je izglednost parametra $\\mathbf{w}$ modela\n",
    "\n",
    "\n",
    "* Želimo da ta izglednost bude što veća, pa ćemo funkciju pogreške definirati kao **negativnu log-izglednost** parametara $\\mathbf{w}$:\n",
    "$$\n",
    "E(\\mathbf{w}|\\mathcal{D}) = -\\ln\\mathcal{L}(\\mathbf{w}|\\mathcal{D})\n",
    "$$\n",
    "\n",
    "\n",
    "* Želimo maksimizirati log-izglednost, tj. minimizirati ovu pogrešku\n",
    "\n",
    "\n",
    "* Log-izglednost:\n",
    "$$\n",
    "\\begin{align*}\n",
    "\\ln\\mathcal{L}(\\mathbf{w}|\\mathcal{D})\n",
    "&= \\ln p(\\mathcal{D}|\\mathbf{w})\n",
    "= \\ln\\prod_{i=1}^N p(\\mathbf{x}^{(i)}, y^{(i)}|\\mathbf{w})\\\\\n",
    "&= \\ln\\prod_{i=1}^N P(y^{(i)}|\\mathbf{x}^{(i)},\\mathbf{w})p(\\mathbf{x}^{(i)})\\\\\n",
    "&= \\sum_{i=1}^N \\ln P(y^{(i)}|\\mathbf{x}^{(i)},\\mathbf{w}) + \\underbrace{\\color{gray}{\\sum_{i=1}^N \\ln p(\\mathbf{x}^{(i)})}}_{\\text{ne ovisi o $\\mathbf{w}$}}\n",
    "\\end{align*}\n",
    "$$\n",
    "\n",
    "\n",
    "* $y^{(i)}$ je oznaka $i$-tog primjera koja može biti 0 ili 1 $\\Rightarrow$ **Bernoullijeva varijabla**\n",
    "\n",
    "\n",
    "* Budući da $y^{(i)}$ Bernoullijeva varijabla, njezina distribucija je:\n",
    "$$\n",
    "P(y^{(i)}) = \\mu^{y^{(i)}}(1-\\mu)^{y^{(i)}}\n",
    "$$\n",
    "gdje je $\\mu$ vjerojatnost da $y^{(i)}=1$\n",
    "\n",
    "\n",
    "* Naš model upravo daje vjerojatnost da primjer $\\mathcal{x}^{(i)}$ ima oznaku $y^{(i)}=1$, tj.:\n",
    "$$\n",
    "\\mu = P(y^{(i)}=1|\\mathbf{x}^{(i)},\\mathbf{w}) = \\color{red}{h(\\mathbf{x}^{(i)} | \\mathbf{w})}\n",
    "$$\n",
    "\n",
    "\n",
    "* To znači da vjerojatnost oznake $y^{(i)}$ za dani primjer $\\mathbf{x}^{i}$ možemo napisati kao:\n",
    "\n",
    "$$\n",
    "P(y^{(i)}|\\mathbf{x}^{(i)},\\mathbf{w}) = \n",
    "\\color{red}{h(\\mathbf{x}^{(i)}|\\mathbf{w})}^{y^{(i)}}\\big(1-\\color{red}{h(\\mathbf{x}^{(i)}|\\mathbf{w})}\\big)^{1-y^{(i)}}\n",
    "$$\n",
    "\n",
    "\n",
    "* Nastavljamo s izvodom log-izglednosti:\n",
    "\n",
    "$$\n",
    "\\begin{align*}\n",
    "\\ln\\mathcal{L}(\\mathbf{w}|\\mathcal{D}) \n",
    "&= \\sum_{i=1}^N \\ln P(y^{(i)}|\\mathbf{x}^{(i)},\\mathbf{w}) \\color{gray}{+ \\text{konst.}}\\\\\n",
    "&\\Rightarrow \\sum_{i=1}^N\\ln \\Big(h(\\mathbf{x}^{(i)}|\\mathbf{w})^{y^{(i)}}\\big(1-h(\\mathbf{x}^{(i)}|\\mathbf{w})\\big)^{1-y^{(i)}}\\Big) \\\\\n",
    "& = \\sum_{i=1}^N \\Big(y^{(i)} \\ln h(\\mathbf{x}^{(i)}|\\mathbf{w})+ (1-y^{(i)})\\ln\\big(1-h(\\mathbf{x}^{(i)}|\\mathbf{w})\\big)\\Big)\n",
    "\\end{align*}\n",
    "$$\n",
    "\n",
    "\n",
    "* Empirijsku pogrešku definiramo kao negativnu log-izglednost (do na konstantu):\n",
    "\n",
    "$$\n",
    "E(\\mathbf{w}|\\mathcal{D}) = \\sum_{i=1}^N \\Big(-y^{(i)} \\ln h(\\mathbf{x}^{(i)}|\\mathbf{w}) - (1-y^{(i)})\\ln \\big(1-h(\\mathbf{x}^{(i)}|\\mathbf{w})\\big)\\Big)\n",
    "$$\n",
    "\n",
    "* Alternativno (kako ne bi ovisila o broju primjera):\n",
    "\n",
    "$$\n",
    "E(\\mathbf{w}|\\mathcal{D}) = \\color{red}{\\frac{1}{N}} \\sum_{i=1}^N\\Big( - y^{(i)} \\ln h(\\mathbf{x}^{(i)}|\\mathbf{w})- (1-y^{(i)})\\ln \\big(1-h(\\mathbf{x}^{(i)}|\\mathbf{w})\\big)\\Big)\n",
    "$$\n",
    "\n",
    "$\\Rightarrow$ **pogreška unakrsne entropije** (engl. *cross-entropy error*)\n",
    "\n",
    "\n",
    "* Iz pogreške možemo iščitati funkciju gubitka:\n",
    "\n",
    "$$\n",
    "L(h(\\mathbf{x}),y) = - y \\ln h(\\mathbf{x}) - (1-y)\\ln \\big(1-h(\\mathbf{x})\\big)\n",
    "$$\n",
    "\n",
    "$\\Rightarrow$ **gubitak unakrsne entropije** (engl. *cross-entropy loss*)\n",
    "\n",
    "\n",
    "* **NB:** Izraz kompaktno definira grananje za dva slučaja (za $y=1$ i za $y=0$)"
   ]
  },
  {
   "cell_type": "code",
   "execution_count": 14,
   "metadata": {
    "collapsed": true
   },
   "outputs": [],
   "source": [
    "def cross_entropy_loss(h_x, y):\n",
    "    return -y * sp.log(h_x) - (1 - y) * sp.log(1 - h_x)"
   ]
  },
  {
   "cell_type": "code",
   "execution_count": 24,
   "metadata": {
    "collapsed": false
   },
   "outputs": [
    {
     "data": {
      "image/png": "[encoded data removed]",
      "text/plain": [
       "<matplotlib.figure.Figure at 0x7f9c470b6090>"
      ]
     },
     "metadata": {},
     "output_type": "display_data"
    }
   ],
   "source": [
    "xs = linspace(0, 1)\n",
    "plt.plot(xs, cross_entropy_loss(xs, 0), label='y=0')\n",
    "plt.plot(xs, cross_entropy_loss(xs, 1), label='y=1')\n",
    "plt.ylabel('$L(h(\\mathbf{x}),y)$')\n",
    "plt.xlabel('$h(\\mathbf{x}) = \\sigma(w^\\intercal\\mathbf{x}$)')\n",
    "plt.legend()\n",
    "plt.show()"
   ]
  },
  {
   "cell_type": "markdown",
   "metadata": {},
   "source": [
    "* **Q:** Koliki je gubitak na primjeru $\\mathbf{x}$ za koji model daje $h(\\mathbf{x})=P(y=1|\\mathbf{x})=0.7$, ako je stvarna oznaka primjera $y=0$? Koliki je gubitak ako je stvarna oznaka $y=1$?\n",
    "\n",
    "\n",
    "* Gubitaka nema jedino onda kada je primjer savršeno točno klasificiran ($h(x)=1$ za $y=1$ odnosno $h(x)=0$ za $y=0$)\n",
    "\n",
    "\n",
    "* U svim drugim slučajevima postoji gubitak: čak i ako je primjer ispravno klasificiran (na ispravnoj strani granice) postoji malen gubitak, ovisno o pouzdanosti klasifikacije\n",
    "\n",
    "\n",
    "* Ipak, primjeri na ispravnoj strani granice ($h(\\mathbf{x})\\geq 0.5$ za $y=1$ odnosno $h(\\mathbf{x})< 0.5$ za $y=0$) nanose puno manji gubitak od primjera na pogrešnoj strani granice"
   ]
  },
  {
   "cell_type": "code",
   "execution_count": 26,
   "metadata": {
    "collapsed": true
   },
   "outputs": [],
   "source": [
    "#TODO: konkretan primjer u ravnini"
   ]
  },
  {
   "cell_type": "markdown",
   "metadata": {},
   "source": [
    "# Minimizacija pogreške\n",
    "\n",
    "$$\n",
    "\\begin{align*}\n",
    "E(\\mathbf{w}) &=\n",
    "\\sum_{i=1}^N L\\big(h(\\mathbf{x}^{(i)}|\\mathbf{w}),y^{(i)}\\big)\\\\\n",
    "L(h(\\mathbf{x}),y) &= - y \\ln h(\\mathbf{x}) - (1-y)\\ln \\big(1-h(\\mathbf{x})\\big)\\\\\n",
    "h(\\mathbf{x}) &= \\sigma(\\mathbf{w}^\\intercal\\mathbf{x}) = \\frac{1}{1 + \\exp(-\\mathbf{w}^\\intercal\\mathbf{x})}\n",
    "\\end{align*}\n",
    "$$\n",
    "\n",
    "\n",
    "* Ne postoji rješenje u zatvorenoj formi (zbog nelinearnosti funkcije $\\sigma$)\n",
    "\n",
    "\n",
    "* Minimiziramo **gradijentnim spustom**:\n",
    "$$ \n",
    "\\nabla E(\\mathbf{w}) =\n",
    "\\sum_{i=1}^N \\nabla L\\big(h(\\mathbf{x}^{(i)}|\\mathbf{w}),y^{(i)}\\big)\n",
    "$$\n",
    "\n",
    "* Prisjetimo se:\n",
    "$$\n",
    "\\frac{\\partial\\sigma(\\alpha)}{\\partial\\alpha} = \n",
    "\\sigma(\\alpha)\\big(1 - \\sigma(\\alpha)\\big)\n",
    "$$\n",
    "\n",
    "* Dobivamo: \n",
    "$$\n",
    "\\nabla L\\big(h(\\mathbf{x}),y\\big) = \n",
    "\\Big(-\\frac{y}{h(\\mathbf{x})} + \\frac{1-y}{1-h(\\mathbf{x})}\\Big)h(\\mathbf{x})\\big(1-h(\\mathbf{x})\\big)\n",
    "\\tilde{\\mathbf{x}} = \\big(h(\\mathbf{x})-y\\big)\\tilde{\\mathbf{x}}\n",
    "$$\n",
    "\n",
    "\n",
    "* Gradijent-vektor pogreške:\n",
    "$$\n",
    "    \\nabla E(\\mathbf{w}) = \\sum_{i=1}^N \\big(h(\\mathbf{x}^{(i)})-y^{(i)}\\big)\\tilde{\\mathbf{x}}^{(i)}\n",
    "$$\n",
    "\n",
    "\n",
    "\n"
   ]
  },
  {
   "cell_type": "markdown",
   "metadata": {},
   "source": [
    "#### Gradijentni spust (*batch*)\n",
    "\n",
    "> $\\mathbf{w} \\gets (0,0,\\dots,0)$<br>\n",
    "> **ponavljaj** do konvergencije<br>\n",
    "> $\\quad \\Delta\\mathbf{w} \\gets (0,0,\\dots,0)$<br>\n",
    "> $\\quad$ **za** $i=1,\\dots, N$<br>\n",
    "> $\\qquad h \\gets \\sigma(\\mathbf{w}^\\intercal\\tilde{\\mathbf{x}}^{(i)})$<br>\n",
    "> $\\qquad \\Delta \\mathbf{w} \\gets \\Delta\\mathbf{w} + (h-y^{(i)})\\, \\tilde{\\mathbf{x}}^{(i)}$<br>\n",
    "> $\\quad \\mathbf{w} \\gets \\mathbf{w} - \\eta \\Delta\\mathbf{w} $\n",
    "\n",
    "#### Stohastički gradijentni spust (*on-line*)\n",
    "\n",
    "> $\\mathbf{w} \\gets (0,0,\\dots,0)$<br>\n",
    "> **ponavljaj** do konvergencije<br>\n",
    "> $\\quad$ (slučajno permutiraj primjere u $\\mathcal{D}$)<br>\n",
    "> $\\quad$ **za** $i=1,\\dots, N$<br>\n",
    "> $\\qquad$ $h \\gets \\sigma(\\mathbf{w}^\\intercal\\tilde{\\mathbf{x}}^{(i)})$<br>\n",
    "> $\\qquad$ $\\mathbf{w} \\gets \\mathbf{w} - \\eta (h-y^{(i)})\\tilde{\\mathbf{x}}^{(i)}$\n"
   ]
  },
  {
   "cell_type": "code",
   "execution_count": null,
   "metadata": {
    "collapsed": true
   },
   "outputs": [],
   "source": [
    "#TODO kod + primjer"
   ]
  },
  {
   "cell_type": "markdown",
   "metadata": {},
   "source": [
    "### Regularizacija\n",
    "\n",
    "* Regularizacija sprečava (smanjuje mogućnost) prenaučenosti\n",
    "  \n",
    "  \n",
    "* Trostruki učinak:\n",
    "  * **(1)** Ako je model nelinearan, regularizacijom sprečavamo prenaučenost\n",
    "  * **(2)** Ako imamo puno značajki, regularizacijom efektivno smanjujemo broj značajki jer težine potiskujemo prema nuli\n",
    "  * **(3) Specifično za logističku regresiju:** Ako je problem linearno odvojiv, sprječavamo \"otvrdnjivanje\" sigmoide\n",
    "    * $\\|\\mathbf{w}\\|$ raste $\\Rightarrow$ $\\mathbf{w}\\tilde{\\mathbf{x}}$ raste $\\Rightarrow$ sigmoida je strmija\n",
    "\n",
    "\n",
    "* [Skica za (1)]\n",
    "\n",
    "\n",
    "* [Skica za (3)]\n",
    "\n",
    "\n",
    "* L2-regularizacija:\n",
    "\n",
    "$$\n",
    "\\begin{align*}\n",
    "E(\\mathbf{w}|\\mathcal{D}) = \\sum_{i=1}^N \\Big( - y^{(i)} \\ln h(\\mathbf{x}^{(i)}) - (1-y^{(i)})\\ln\n",
    "\\big(1-h(\\mathbf{x}^{i})\\big)\\Big)\n",
    "+ \\color{red}{\\frac{\\lambda}{2}\\mathbf{w}^\\intercal\\mathbf{w}}\n",
    "\\end{align*}\n",
    "$$\n",
    "\n",
    "* Korekcija težina:\n",
    "$$\n",
    "\\mathbf{w} \\gets \\mathbf{w} - \\eta\\Big(\n",
    "\\sum_{i=1}^N\\big(h(\\mathbf{x}^{(i)}) - y^{(i)}\\big)\\mathbf{x}^{(i)} + \\color{red}{\\lambda \\mathbf{w}}\\Big) \n",
    "$$\n",
    "\n",
    "* Ekvivalentno:\n",
    "$$\n",
    "    \\mathbf{w} \\gets \\mathbf{w}(1\\color{red}{-\\eta\\lambda}) - \\eta\n",
    "\\sum_{i=1}^N\\big(h(\\mathbf{x}^{(i)}) - y^{(i)}\\big)\\mathbf{x}^{(i)}\n",
    "$$\n",
    "gdje $\\mathbf{w}(1-\\eta\\lambda)$ uzrokuje **prigušenje težina** (engl. *weight decay*)\n",
    "\n",
    "\n",
    "* **NB:** Težinu $w_0$ ne regulariziramo!\n",
    "  * Ako bismo regularizirali težinu $w_0$, ona bi $w_0\\to 0$. Kako $w_0$ određuje udaljenost ravnine od ishodišta (ta udaljenost je $-w_0|\\|\\mathbf{w}\\|$, v. prethodnu bilježnicu), to znači da bi ravnina uvijek morala prolaziti kroz ishodište i da ne bismo mogli dobro razdvojiti dvije klase u slučajevima kada granica ne prolazi baš kroz ishodište (a općenito granica ne mora prolaziti kroz ishodište).\n",
    "\n",
    "\n",
    "#### L2-regularizirana logistička regresija (gradijentni spust, *batch*)\n",
    "\n",
    "> $\\mathbf{w} \\gets (0,0,\\dots,0)$<br>\n",
    "> **ponavljaj** do konvergencije<br>\n",
    "> $\\quad \\color{red}{\\Delta w_0 \\gets 0}$<br>\n",
    "> $\\quad \\Delta\\mathbf{w} \\gets (0,0,\\dots,0)$<br>\n",
    "> $\\quad$ **za** $i=1,\\dots, N$<br>\n",
    "> $\\qquad h \\gets \\sigma(\\mathbf{w}^\\intercal\\tilde{\\mathbf{x}}^{(i)})$<br>\n",
    "> $\\qquad \\color{red}{\\Delta w_0 \\gets \\Delta w_0 + h-y^{(i)}}$<br>\n",
    "> $\\qquad \\Delta\\mathbf{w} \\gets \\Delta\\mathbf{w} + (h-y^{(i)})\\mathbf{x}^{(i)}$<br>\n",
    "> $\\quad \\color{red}{w_0 \\gets w_0 - \\eta \\Delta w_0}$<br>\n",
    "> $\\quad \\mathbf{w} \\gets \\mathbf{w}(1\\color{red}{-\\eta\\lambda}) - \\eta \\Delta\\mathbf{w}$\n",
    "\n",
    "\n",
    "#### L2-regularizirana logistička regresija (stohastički gradijentni spust, *on-line*)\n",
    "\n",
    "> $\\mathbf{w} \\gets (0,0,\\dots,0)$<br>\n",
    "> **ponavljaj** do konvergencije:<br>\n",
    "> $\\quad$ (slučajno permutiraj primjere u $\\mathcal{D}$)<br>\n",
    "> $\\quad$ za $i=1,\\dots, N$<br>\n",
    "> $\\qquad h \\gets \\sigma(\\mathbf{w}^\\intercal\\mathbf{x}^{(i)})$<br>\n",
    "> $\\qquad \\color{red}{w_0 \\gets w_0 - \\eta  (h-y^{(i)})}$<br>\n",
    "> $\\qquad \\mathbf{w} \\gets \\mathbf{w}(1\\color{red}{-\\eta\\lambda}) - \\eta (h-y^{(i)})\\mathbf{x}^{(i)}$<br>\n"
   ]
  },
  {
   "cell_type": "markdown",
   "metadata": {},
   "source": [
    "# Poveznica s generativnim modelom"
   ]
  },
  {
   "cell_type": "markdown",
   "metadata": {},
   "source": [
    "TODO"
   ]
  },
  {
   "cell_type": "markdown",
   "metadata": {},
   "source": [
    "# Usporedba linearnih modela"
   ]
  },
  {
   "cell_type": "markdown",
   "metadata": {},
   "source": [
    "TODO"
   ]
  },
  {
   "cell_type": "markdown",
   "metadata": {},
   "source": [
    "# Sažetak\n",
    "\n",
    "* Logistička regresija je **diskriminativan klasifikacijski model** s probabilističkim izlazom\n",
    "  \n",
    "  \n",
    "* Koristi se **logistička funkcija gubitka** odnosno **pogreška unakrsne entropije**\n",
    "\n",
    "\n",
    "* Optimizacija se provodi **gradijentnim spustom**, a prenaučenost se može spriječiti **regularizacijom**\n",
    "\n",
    "\n",
    "* Model **odgovara generativnom modelu** s normalno distribuiranim izglednostima i dijeljenom kovarijacijskom matricom, ali je broj parametara logističke regresije manji \n",
    "\n",
    "\n",
    "* Logistička regresija vrlo je dobar algoritam koji **nema        nedostatke** koje imaju klasifikacija regresijom i perceptron\n"
   ]
  }
 ],
 "metadata": {
  "kernelspec": {
   "display_name": "Python 2",
   "language": "python",
   "name": "python2"
  },
  "language_info": {
   "codemirror_mode": {
    "name": "ipython",
    "version": 2
   },
   "file_extension": ".py",
   "mimetype": "text/x-python",
   "name": "python",
   "nbconvert_exporter": "python",
   "pygments_lexer": "ipython2",
   "version": "2.7.6"
  }
 },
 "nbformat": 4,
 "nbformat_minor": 0
}
