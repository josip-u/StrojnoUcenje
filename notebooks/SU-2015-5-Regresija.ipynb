{
 "cells": [
  {
   "cell_type": "markdown",
   "metadata": {
    "slideshow": {
     "slide_type": "slide"
    }
   },
   "source": [
    "Sveučilište u Zagrebu<br>\n",
    "Fakultet elektrotehnike i računarstva\n",
    "\n",
    "# Strojno učenje\n",
    "\n",
    "<a href=\"http://www.fer.unizg.hr/predmet/su\">http://www.fer.unizg.hr/predmet/su</a>\n",
    "\n",
    "Ak. god. 2015./2016.\n",
    "\n",
    "# Bilježnica 5: Regresija\n",
    "\n",
    "(c) 2015 Jan Šnajder\n",
    "\n",
    "<i>Verzija: 0.1 (2015-11-04)</i>"
   ]
  },
  {
   "cell_type": "code",
   "execution_count": 1,
   "metadata": {
    "collapsed": false
   },
   "outputs": [
    {
     "name": "stdout",
     "output_type": "stream",
     "text": [
      "Populating the interactive namespace from numpy and matplotlib\n"
     ]
    }
   ],
   "source": [
    "import scipy as sp\n",
    "import scipy.stats as stats\n",
    "import matplotlib.pyplot as plt\n",
    "import pandas as pd\n",
    "%pylab inline"
   ]
  },
  {
   "cell_type": "markdown",
   "metadata": {},
   "source": [
    "### Sadržaj:\n",
    "\n",
    "* Uvod\n",
    "\n",
    "* Postupak najmanjih kvadrata\n",
    "\n",
    "* Poopćeni linearan model regresije\n",
    "\n",
    "* Odabir modela\n",
    "\n",
    "* Regularizirana regresija\n",
    "\n",
    "* Sažetak"
   ]
  },
  {
   "cell_type": "markdown",
   "metadata": {},
   "source": [
    "# Osnovni pojmovi\n",
    "\n",
    "* Označen skup podataka: $\\mathcal{D}=\\{(\\mathbf{x}^{(i)},y^{(i)})\\},\\quad \\mathbf{x}\\in\\mathbb{R}^n,\\quad y\\in\\mathbb{R}$\n",
    "\n",
    "\n",
    "* Hipoteza $h$ aproksimira nepoznatu  funkciju $f:\\mathbb{R}^n\\to\\mathbb{R}$\n",
    "\n",
    "\n",
    "* Idealno, $y^{(i)}=f(\\mathbf{x}^{(i)})$, ali zbog šuma: $$y^{(i)}=f(\\mathbf{x}^{(i)})+\\varepsilon$$\n",
    "\n",
    "\n",
    "* $\\mathbf{x}$ - **ulazna varijabla** (nezavisna, prediktorska)\n",
    "\n",
    "\n",
    "* $y$ - **izlazna varijabla** (zavisna, kriterijska)\n",
    "\n",
    "\n",
    "### Vrste regresije\n",
    "\n",
    "* Broj ulaznih (nezavisnih) varijabli:\n",
    "  * Univarijatna (jednostavna, jednostruka) regresija: $n=1$\n",
    "  * Multivarijatna (višestruka, multipla) regresija: $n>1$\n",
    "\n",
    "\n",
    "* Broj izlaznih (zavisnih) varijabli:\n",
    "  * Jednoizlazna regresija: $f(\\mathbf{x}) = y$\n",
    "  * Višeizlazna regresija: $f(\\mathbf{x})=\\mathbf{y}$\n",
    "  \n",
    "---\n",
    "\n",
    "* Trebamo definirati: \n",
    "  * (1) model\n",
    "  * (2) funkciju gubitka (funkciju pogreške)\n",
    "  * (3) optimizacijski postupak"
   ]
  },
  {
   "cell_type": "markdown",
   "metadata": {},
   "source": [
    "### (1) Model\n",
    "\n",
    "* **Linearan model regresije**: $h$ je linearna funkcija <u>parametara</u>\n",
    "$\\mathbf{w} = (w_0,\\dots,w_n)$\n",
    "\n",
    "\n",
    "* Linearna regresija:\n",
    "    $$h(\\mathbf{x}|\\mathbf{w}) = w_0 + w_1 x_1 + w_2 x_2 + \\dots + w_n x_n$$\n",
    "\n",
    "\n",
    "* Polinomijalna regresija:\n",
    "    * Univarijatna: $$h(\\mathbf{x}|\\mathbf{w}) = w_0 + w_1 x + w_2 x^2 + \\dots + w_d x^d\\quad (n=1)$$\n",
    "    * Multivarijatna: $$h(\\mathbf{x}|\\mathbf{w}) = w_0 + w_1 x_1 + w_2 x_2 + w_3 x_1 x_2 + w_4 x_1^2 + w_5 x_2^2\\quad (n=2, d=2)$$\n",
    "      * Modelira međuovisnost značajki (*cross-terms* $x_1 x_2, \\dots$) \n",
    "\n",
    "\n",
    "* Općenite **bazne funkcije**:\n",
    "    $$h(\\mathbf{x}|\\mathbf{w}) = w_0 + w_1\\phi_1(\\mathbf{x}) + \\dots + w_m\\phi_m(\\mathbf{x})$$"
   ]
  },
  {
   "cell_type": "markdown",
   "metadata": {},
   "source": [
    "### (2) Funkcija gubitka (funkcija pogreške)\n",
    "\n",
    "* Kvadratni gubitak (engl. *quadratic loss*)\n",
    "\n",
    "$$\n",
    "L(y^{(i)},h(\\mathbf{x}^{(i)})) = \\big(y^{(i)}-h(\\mathbf{x}^{(i)})\\big)^2\n",
    "$$\n",
    "\n",
    "* Funkcija pogreške (proporcionalna s empirijskim očekivanjem gubitka):\n",
    "$$\n",
    "E(h|\\mathcal{D})=\\frac{1}{2}\n",
    "\\sum_{i=1}^N\\big(y^{(i)}-h(\\mathbf{x}^{(i)})\\big)^2\n",
    "$$"
   ]
  },
  {
   "cell_type": "markdown",
   "metadata": {},
   "source": [
    "### (3) Optimizacijski postupak\n",
    "\n",
    "* Postupak **najmanjih kvadrata** (engl. *least squares*)"
   ]
  },
  {
   "cell_type": "markdown",
   "metadata": {},
   "source": [
    "### Klasifikacijska odluka\n",
    "\n",
    "* MAP-hipoteza:\n",
    "\\begin{align*}\n",
    "h : \\mathcal{X} &\\to \\{\\mathcal{C}_1, \\mathcal{C}_2,\\dots, \\mathcal{C}_K\\}\\\\\n",
    "h(\\mathbf{x})&=\\displaystyle\\mathrm{argmax}_{\\mathcal{C}_k}\\ p(\\mathbf{x}|\\mathcal{C}_k) P(\\mathcal{C}_k)\n",
    "\\end{align*}\n",
    "\n",
    "* Pouzdanost klasifikacije u $\\mathcal{C}_j$:\n",
    "\\begin{align*}\n",
    "h_j : \\mathcal{X} &\\to [0,\\infty)\\\\\n",
    "h_j(\\mathbf{x})&=p(\\mathbf{x}|\\mathcal{C}_k) P(\\mathcal{C}_k)\n",
    "\\end{align*}\n",
    "\n",
    "* Vjerojatnost klasifikacije u $\\mathcal{C}_j$:\n",
    "\\begin{align*}\n",
    "h_j : \\mathcal{X} &\\to [0,1]\\\\\n",
    "h_j(\\mathbf{x})&=P(\\mathcal{C}_k|\\mathbf{x})\n",
    "\\end{align*}\n",
    "\n",
    "### Primjer\n",
    "\n",
    "* $P(\\mathcal{C}_1) = P(\\mathcal{C}_2)=0.3$, $P(\\mathcal{C}_3)=0.4$\n",
    "* Za neki primjer $\\mathbf{x}$ imamo:  $p(\\mathbf{x}|\\mathcal{C}_1)=0.9$, $p(\\mathbf{x}|\\mathcal{C}_2)=p(\\mathbf{x}|\\mathcal{C}_3)=0.4$\n",
    "* U koju klasu klasificiramo $\\mathbf{x}$?\n",
    "\n"
   ]
  },
  {
   "cell_type": "markdown",
   "metadata": {},
   "source": [
    "### Minimizacija pogreške klasifikacije*\n",
    "\n",
    "* Pretpostavimo da primjeri u stvarnosti dolaze iz dva područja: \n",
    "    * $\\mathcal{R}_1=\\{\\mathbf{x}\\in\\mathcal{X}\\mid h_1(\\mathbf{x})=1\\}$\n",
    "    * $\\mathcal{R}_2=\\mathcal{X}\\setminus\\mathcal{R}_1$\n",
    "\n",
    "* Vjerojatnost pogrešne klasifikacije:\n",
    "\n",
    "\\begin{align*}\n",
    "P(\\mathbf{x}\\in\\mathcal{R}_1,\\mathcal{C}_2) &+ P(\\mathcal{x}\\in\\mathcal{R}_2,\\mathcal{C}_1)\\\\ \n",
    "\\int_{\\mathbf{x}\\in\\mathcal{R}_1} p(\\mathbf{x},\\mathcal{C}_2)\\,\\mathrm{d}\\mathbf{x} &+ \n",
    "\\int_{\\mathbf{x}\\in\\mathcal{R}_2} p(\\mathbf{x},\\mathcal{C}_1)\\,\\mathrm{d}\\mathbf{x}\n",
    "\\end{align*}\n",
    "\n",
    "\n",
    "* [Skica]\n",
    "\n",
    "\n",
    "* Pogreška je minimizirana kada $\\mathcal{C}_j = \\mathrm{argmax}_{\\mathcal{C}\\in\\{\\mathcal{C_1},\\mathcal{C_2}\\}} P(\\mathbf{x},\\mathcal{C}_j) $\n",
    "\n",
    "\n",
    "### Alternativa: Minimizacija rizika*\n",
    "\n",
    "* $L_{kj}$ - gubitak uslijed pogrešne klasifikacije primjera iz klase $\\mathcal{C}_k$ u klasu $\\mathcal{C}_j$\n",
    "\n",
    "\n",
    "* Očekivani gubitak (funkcija rizika):\n",
    "  \n",
    "$$\n",
    "\\mathbb{E}[L] = \\sum_{k=1}^K\\sum_{j=1}^K \\int_{\\mathbf{x}\\in\\mathcal{R}_j}\n",
    "L_{kj}\\,p(\\mathbf{x},\\mathcal{C}_k)\\,\\mathrm{d}\\mathbf{x}\n",
    "$$\n",
    "\n",
    "\n",
    "* Očekivani rizik pri klasifikaciji $\\mathbf{x}$ u $\\mathcal{C}_j$:\n",
    "\n",
    "$$\n",
    "R(\\mathcal{C}_j|\\mathbf{x}) = \\sum_{k=1}^K L_{kj}P(\\mathcal{C}_k|\\mathbf{x})\n",
    "$$\n",
    "\n",
    "\n",
    "* Optimalna klasifikacijska odluka:\n",
    "$$\n",
    "h(\\mathbf{x}) = \\mathrm{argmin}_{\\mathcal{C}_k} R(\\mathcal{C}_k|\\mathbf{x})\n",
    "$$\n",
    "\n",
    "### Primjer\n",
    "\n",
    "* $P(\\mathcal{C}_1|\\mathbf{x}) = 0.25$, $P(\\mathcal{C}_2|\\mathbf{x}) = 0.6$, $P(\\mathcal{C}_3|\\mathbf{x}) =\n",
    "0.15$\n",
    "\n",
    "$$\n",
    "L = {\\small\n",
    "\\begin{pmatrix}\n",
    "0 & 1 & 5 \\\\\n",
    "1 & 0 & 5  \\\\\n",
    "10 & 100 & 0\n",
    "\\end{pmatrix}}\n",
    "$$\n",
    "\n",
    "\n",
    "\n"
   ]
  },
  {
   "cell_type": "markdown",
   "metadata": {},
   "source": [
    "# Naivan Bayesov klasifikator\n",
    "\n",
    "\n",
    "* $\\mathcal{D}=\\{(\\mathbf{x}^{(i)},y^{(i)})\\}_{i=1}^N$\n",
    "* $y^{(i)}\\in\\{\\mathcal{C}_1,\\dots,\\mathcal{C}_K\\}$\n",
    "\n",
    "\n",
    "* Model:\n",
    "\\begin{align*}\n",
    "    P(\\mathcal{C}_j|x_1,\\dots,x_n)\\ &\\propto\\ P(x_1,\\dots,x_n|\\mathcal{C}_j)P(\\mathcal{C}_j)\\\\\n",
    "            h(\\mathbf{x}=x_1,\\dots,x_n) &= \\mathrm{argmax}_{j}\\ P(\\mathbf{x}=x_1,\\dots,x_n|y=\\mathcal{C}_j)P(y = \\mathcal{C}_j)\n",
    "\\end{align*}\n",
    "\n",
    "\n",
    "* ML-procjena za $P(y)$ (kategorička razdioba):\n",
    "\n",
    "$$\n",
    "\\hat{P}(\\mathcal{C}_j)=\\frac{1}{N}\\sum_{i=1}^N\\mathbf{1}\\{y^{(i)}=\\mathcal{C}_j\\} = \\frac{N_j}{N}\n",
    "$$\n",
    "\n",
    "\n",
    "* Q: Broj parametara za $\\hat{P}(\\mathcal{C}_j)$, $j=1,\\dots,K$ ?\n"
   ]
  },
  {
   "cell_type": "markdown",
   "metadata": {},
   "source": [
    "* Procjena parametara za $P(x_1,\\dots,x_n|\\mathcal{C}_j)$?\n",
    "\n",
    "\n",
    "* Tretirati $\\mathbf{x} = (x_1,\\dots,x_n)$ kao kategoričku varijablu (njezine vrijednosti su sve kombinacije vrijednosti $x_i$) ?\n",
    "  * Broj parametara?\n",
    "  * Generalizacija?\n",
    "  \n",
    "  \n",
    "* Pravilo lanca (uz uvjetnu varijablu $\\mathcal{C}_j$):\n",
    "\n",
    "\\begin{equation*}\n",
    "P(x_1,\\dots,x_n|\\mathcal{C}_j)\n",
    "= \\prod_{k=1}^n P(x_k|x_1,\\dots,x_{k-1},\\mathcal{C}_j)\n",
    "\\end{equation*}\n",
    "\n",
    "* Pretpostavka: $\\color{red}{x_i\\bot x_k|\\mathcal{C}_j\\ (i\\neq k)} \\ \\Leftrightarrow \\ \\color{red}{P(x_i|x_k,\\mathcal{C}_j) = P(x_i|\\mathcal{C}_j)}$\n",
    "\n",
    "\\begin{equation*}\n",
    "P(x_1,\\dots,x_n|\\mathcal{C}_j) = \n",
    "\\prod_{k=1}^n P(x_k|x_1,\\dots,x_{k-1},\\mathcal{C}_j) =\n",
    "\\prod_{k=1}^n P(x_k|\\mathcal{C}_j)\n",
    "\\end{equation*}\n",
    "\n",
    "* Naivan Bayesov klasifikator:\n",
    "$$\n",
    "h(x_1,\\dots,x_n) = \\mathrm{argmax}_j\\ P(\\mathcal{C}_j)\\prod_{k=1}^n P(x_k|\\mathcal{C}_j)\n",
    "$$\n",
    "\n",
    "* ML-procjena:\n",
    "$$\n",
    "\\hat{P}(x_k|\\mathcal{C}_j)=\\frac{\\sum_{i=1}^N\\mathbf{1}\\big\\{x^{(i)}_k=x_k \\land y^{(i)}=\\mathcal{C}_j\\big\\}}\n",
    "{\\sum_{i=1}^N \\mathbf{1}\\{y^{(i)} = \\mathcal{C}_j\\}}\n",
    "= \\frac{N_{kj}}{N_j}\n",
    "$$\n",
    "\n",
    "* Laplaceov procjenitelj:\n",
    "$$\n",
    "\\hat{P}(x_k|\\mathcal{C}_j)=\\frac{\\sum_{i=1}^N\\mathbf{1}\\big\\{x^{(i)}_k=x_k \\land y^{(i)}=\\mathcal{C}_j\\big\\} + \\lambda}\n",
    "{\\sum_{i=1}^N \\mathbf{1}\\{y^{(i)} = \\mathcal{C}_j\\} + \\lambda K_k}\n",
    "= \\frac{N_{kj}+\\lambda}{N_j+\\lambda K_k}\n",
    "$$\n",
    "\n",
    "\n",
    "* Broj parametara: $\\sum_{k=1}^n(K_k-1)K$\n",
    "\n",
    "\n",
    "* Binarne značajke: $nK$\n",
    "\n",
    "\n",
    "### Uvjetna nezavisnost?\n",
    "\n",
    "\n",
    "* Vrijedi li općenito nezavisnost $x_i\\bot x_k|\\mathcal{C}_j\\ (i\\neq k)$?\n",
    "\n",
    "* Primjer: Klasifikacija teksta\n",
    "  * Kategorija $\\mathcal{C} = \\text{Sport}$\n",
    "  * $D$: tekstni dokument\n",
    "  * Značajke: $x_1=\\mathbf{1}\\{\\text{Zagreb}\\in D\\}$, $x_2 = \\mathbf{1}\\{\\text{lopta}\\in D\\}$, $x_3=\\mathbf{1}\\{\\text{gol}\\in D\\}$\n",
    "  * Q: $x_1 \\bot x_2 | \\mathcal{C}$ ?\n",
    "  * Q: $x_2 \\bot x_3 | \\mathcal{C}$ ?\n",
    "\n"
   ]
  },
  {
   "cell_type": "markdown",
   "metadata": {},
   "source": [
    "### Primjer: Dobar SF-film\n",
    "\n",
    "$$\n",
    "\\begin{array}{r c c c c c } \n",
    "\\hline \n",
    "& x_1 & x_2 & x_3 & x_4 & y\\\\\n",
    "i & \\text{Mjesto radnje} & \\text{Glavni lik} & \\text{Vrijeme radnje} & \\text{Vanzemaljci} & \\text{Dobar film}\\\\ \n",
    "\\hline \n",
    "1 & \\text{svemir}  & \\text{znanstvenica} & \\text{sadašnjost} & \\text{da} & \\text{ne} \\\\ \n",
    "2 & \\text{Zemlja}  & \\text{kriminalac}   & \\text{budućnost}  & \\text{ne} & \\text{ne} \\\\ \n",
    "3 & \\text{drugdje} & \\text{dijete}       & \\text{prošlost}   & \\text{da} & \\text{ne} \\\\ \n",
    "4 & \\text{svemir}  & \\text{znanstvenica} & \\text{sadašnjost} & \\text{ne} & \\text{da} \\\\ \n",
    "5 & \\text{svemir}  & \\text{kriminalac}   & \\text{prošlost}   & \\text{ne} & \\text{ne} \\\\ \n",
    "6 & \\text{Zemlja}  & \\text{dijete}       & \\text{prošlost}   & \\text{da} & \\text{da} \\\\ \n",
    "7 & \\text{Zemlja}  & \\text{policajac}    & \\text{budućnost}  & \\text{da} & \\text{ne} \\\\ \n",
    "8 & \\text{svemir}  & \\text{policajac}    & \\text{budućnost}  & \\text{ne} & \\text{da} \\\\ \n",
    "\\hline \\end{array}\n",
    "$$\n",
    "\n",
    "* Q: Koja je klasifikacija novog primjera $\\mathbf{x} = (\\text{svemir}, \\text{dijete}, \\text{sadašnjost}, \\text{da})$ ?"
   ]
  },
  {
   "cell_type": "markdown",
   "metadata": {},
   "source": [
    "# Primjer: 101 Questions"
   ]
  },
  {
   "cell_type": "code",
   "execution_count": 2,
   "metadata": {
    "collapsed": false
   },
   "outputs": [],
   "source": [
    "q101 = pd.read_csv(\"http://www.fer.unizg.hr/_download/repository/questions101-2014.csv\", comment='#')"
   ]
  },
  {
   "cell_type": "code",
   "execution_count": 38,
   "metadata": {
    "collapsed": false,
    "scrolled": true
   },
   "outputs": [
    {
     "data": {
      "text/html": [
       "<div>\n",
       "<table border=\"1\" class=\"dataframe\">\n",
       "  <thead>\n",
       "    <tr style=\"text-align: right;\">\n",
       "      <th></th>\n",
       "      <th>Q1</th>\n",
       "      <th>Q2</th>\n",
       "      <th>Q3</th>\n",
       "      <th>Q4</th>\n",
       "      <th>Q5</th>\n",
       "      <th>Q6</th>\n",
       "      <th>Q7</th>\n",
       "      <th>Q8</th>\n",
       "      <th>Q9</th>\n",
       "      <th>Q10</th>\n",
       "      <th>...</th>\n",
       "      <th>Q92</th>\n",
       "      <th>Q93</th>\n",
       "      <th>Q94</th>\n",
       "      <th>Q95</th>\n",
       "      <th>Q96</th>\n",
       "      <th>Q97</th>\n",
       "      <th>Q98</th>\n",
       "      <th>Q99</th>\n",
       "      <th>Q100</th>\n",
       "      <th>Q101</th>\n",
       "    </tr>\n",
       "  </thead>\n",
       "  <tbody>\n",
       "    <tr>\n",
       "      <th>0</th>\n",
       "      <td>More</td>\n",
       "      <td>Zagreb</td>\n",
       "      <td>Sok</td>\n",
       "      <td>Psi</td>\n",
       "      <td>Europa</td>\n",
       "      <td>Televizija</td>\n",
       "      <td>Messi</td>\n",
       "      <td>Gibonni</td>\n",
       "      <td>FER</td>\n",
       "      <td>Friends</td>\n",
       "      <td>...</td>\n",
       "      <td>Elektronska glazba</td>\n",
       "      <td>Virus</td>\n",
       "      <td>Kuba</td>\n",
       "      <td>Smartphone</td>\n",
       "      <td>Finska</td>\n",
       "      <td>Tenisice</td>\n",
       "      <td>Gospodar prstenova</td>\n",
       "      <td>Čokolada</td>\n",
       "      <td>Burek s mesom</td>\n",
       "      <td>Batman</td>\n",
       "    </tr>\n",
       "    <tr>\n",
       "      <th>1</th>\n",
       "      <td>More</td>\n",
       "      <td>Zagreb</td>\n",
       "      <td>Voda</td>\n",
       "      <td>Psi</td>\n",
       "      <td>Europa</td>\n",
       "      <td>Televizija</td>\n",
       "      <td>Messi</td>\n",
       "      <td>Gibonni</td>\n",
       "      <td>FER</td>\n",
       "      <td>Big Bang Theory</td>\n",
       "      <td>...</td>\n",
       "      <td>Rock</td>\n",
       "      <td>Virus</td>\n",
       "      <td>USA</td>\n",
       "      <td>Smartphone</td>\n",
       "      <td>Italija</td>\n",
       "      <td>Tenisice</td>\n",
       "      <td>Gospodar prstenova</td>\n",
       "      <td>Čokolada</td>\n",
       "      <td>Burek s mesom</td>\n",
       "      <td>Batman</td>\n",
       "    </tr>\n",
       "    <tr>\n",
       "      <th>2</th>\n",
       "      <td>More</td>\n",
       "      <td>Zagreb</td>\n",
       "      <td>Voda</td>\n",
       "      <td>Psi</td>\n",
       "      <td>Europa</td>\n",
       "      <td>Televizija</td>\n",
       "      <td>Messi</td>\n",
       "      <td>Gibonni</td>\n",
       "      <td>FER</td>\n",
       "      <td>Friends</td>\n",
       "      <td>...</td>\n",
       "      <td>Rock</td>\n",
       "      <td>Virus</td>\n",
       "      <td>USA</td>\n",
       "      <td>Smartphone</td>\n",
       "      <td>Italija</td>\n",
       "      <td>Tenisice</td>\n",
       "      <td>Gospodar prstenova</td>\n",
       "      <td>Vanilija</td>\n",
       "      <td>Burek s mesom</td>\n",
       "      <td>Batman</td>\n",
       "    </tr>\n",
       "    <tr>\n",
       "      <th>3</th>\n",
       "      <td>More</td>\n",
       "      <td>Split</td>\n",
       "      <td>Voda</td>\n",
       "      <td>Psi</td>\n",
       "      <td>Europa</td>\n",
       "      <td>Televizija</td>\n",
       "      <td>Ronaldo</td>\n",
       "      <td>Oliver</td>\n",
       "      <td>FER</td>\n",
       "      <td>Friends</td>\n",
       "      <td>...</td>\n",
       "      <td>Elektronska glazba</td>\n",
       "      <td>Bakterija</td>\n",
       "      <td>USA</td>\n",
       "      <td>Smartphone</td>\n",
       "      <td>Finska</td>\n",
       "      <td>Tenisice</td>\n",
       "      <td>Harry Potter</td>\n",
       "      <td>Čokolada</td>\n",
       "      <td>Burek s mesom</td>\n",
       "      <td>Batman</td>\n",
       "    </tr>\n",
       "    <tr>\n",
       "      <th>4</th>\n",
       "      <td>More</td>\n",
       "      <td>Zagreb</td>\n",
       "      <td>Voda</td>\n",
       "      <td>Psi</td>\n",
       "      <td>Europa</td>\n",
       "      <td>Televizija</td>\n",
       "      <td>Ronaldo</td>\n",
       "      <td>Oliver</td>\n",
       "      <td>FER</td>\n",
       "      <td>Friends</td>\n",
       "      <td>...</td>\n",
       "      <td>Rock</td>\n",
       "      <td>Virus</td>\n",
       "      <td>Kuba</td>\n",
       "      <td>Smartphone</td>\n",
       "      <td>Italija</td>\n",
       "      <td>Cipele</td>\n",
       "      <td>Gospodar prstenova</td>\n",
       "      <td>Čokolada</td>\n",
       "      <td>Burek s mesom</td>\n",
       "      <td>Batman</td>\n",
       "    </tr>\n",
       "    <tr>\n",
       "      <th>5</th>\n",
       "      <td>More</td>\n",
       "      <td>Zagreb</td>\n",
       "      <td>Sok</td>\n",
       "      <td>Psi</td>\n",
       "      <td>USA</td>\n",
       "      <td>Televizija</td>\n",
       "      <td>Ronaldo</td>\n",
       "      <td>Gibonni</td>\n",
       "      <td>FER</td>\n",
       "      <td>Friends</td>\n",
       "      <td>...</td>\n",
       "      <td>Rock</td>\n",
       "      <td>Bakterija</td>\n",
       "      <td>USA</td>\n",
       "      <td>Smartphone</td>\n",
       "      <td>Italija</td>\n",
       "      <td>Tenisice</td>\n",
       "      <td>Harry Potter</td>\n",
       "      <td>Vanilija</td>\n",
       "      <td>Burek sa sirom</td>\n",
       "      <td>Superman</td>\n",
       "    </tr>\n",
       "    <tr>\n",
       "      <th>6</th>\n",
       "      <td>More</td>\n",
       "      <td>Zagreb</td>\n",
       "      <td>Voda</td>\n",
       "      <td>Psi</td>\n",
       "      <td>Europa</td>\n",
       "      <td>Televizija</td>\n",
       "      <td>Ronaldo</td>\n",
       "      <td>Gibonni</td>\n",
       "      <td>FER</td>\n",
       "      <td>Friends</td>\n",
       "      <td>...</td>\n",
       "      <td>Rock</td>\n",
       "      <td>Virus</td>\n",
       "      <td>Kuba</td>\n",
       "      <td>Smartphone</td>\n",
       "      <td>Finska</td>\n",
       "      <td>Tenisice</td>\n",
       "      <td>Gospodar prstenova</td>\n",
       "      <td>Vanilija</td>\n",
       "      <td>Burek s mesom</td>\n",
       "      <td>Superman</td>\n",
       "    </tr>\n",
       "    <tr>\n",
       "      <th>7</th>\n",
       "      <td>More</td>\n",
       "      <td>Zagreb</td>\n",
       "      <td>Voda</td>\n",
       "      <td>Psi</td>\n",
       "      <td>Europa</td>\n",
       "      <td>Televizija</td>\n",
       "      <td>Messi</td>\n",
       "      <td>Oliver</td>\n",
       "      <td>FER</td>\n",
       "      <td>Big Bang Theory</td>\n",
       "      <td>...</td>\n",
       "      <td>Rock</td>\n",
       "      <td>Bakterija</td>\n",
       "      <td>Kuba</td>\n",
       "      <td>Obični mobitel</td>\n",
       "      <td>Finska</td>\n",
       "      <td>Tenisice</td>\n",
       "      <td>Gospodar prstenova</td>\n",
       "      <td>Čokolada</td>\n",
       "      <td>Burek sa sirom</td>\n",
       "      <td>Superman</td>\n",
       "    </tr>\n",
       "    <tr>\n",
       "      <th>8</th>\n",
       "      <td>Planina</td>\n",
       "      <td>Zagreb</td>\n",
       "      <td>Voda</td>\n",
       "      <td>Psi</td>\n",
       "      <td>Europa</td>\n",
       "      <td>Televizija</td>\n",
       "      <td>Ronaldo</td>\n",
       "      <td>Oliver</td>\n",
       "      <td>FER</td>\n",
       "      <td>Big Bang Theory</td>\n",
       "      <td>...</td>\n",
       "      <td>Rock</td>\n",
       "      <td>Virus</td>\n",
       "      <td>Kuba</td>\n",
       "      <td>Smartphone</td>\n",
       "      <td>Finska</td>\n",
       "      <td>Tenisice</td>\n",
       "      <td>Gospodar prstenova</td>\n",
       "      <td>Čokolada</td>\n",
       "      <td>Burek s mesom</td>\n",
       "      <td>Superman</td>\n",
       "    </tr>\n",
       "    <tr>\n",
       "      <th>9</th>\n",
       "      <td>More</td>\n",
       "      <td>Zagreb</td>\n",
       "      <td>Sok</td>\n",
       "      <td>Psi</td>\n",
       "      <td>Europa</td>\n",
       "      <td>Televizija</td>\n",
       "      <td>Ronaldo</td>\n",
       "      <td>Gibonni</td>\n",
       "      <td>FER</td>\n",
       "      <td>Friends</td>\n",
       "      <td>...</td>\n",
       "      <td>Elektronska glazba</td>\n",
       "      <td>Virus</td>\n",
       "      <td>Kuba</td>\n",
       "      <td>Smartphone</td>\n",
       "      <td>Finska</td>\n",
       "      <td>Tenisice</td>\n",
       "      <td>Gospodar prstenova</td>\n",
       "      <td>Čokolada</td>\n",
       "      <td>Burek s mesom</td>\n",
       "      <td>Batman</td>\n",
       "    </tr>\n",
       "    <tr>\n",
       "      <th>10</th>\n",
       "      <td>More</td>\n",
       "      <td>Zagreb</td>\n",
       "      <td>Voda</td>\n",
       "      <td>Psi</td>\n",
       "      <td>Europa</td>\n",
       "      <td>Televizija</td>\n",
       "      <td>Messi</td>\n",
       "      <td>Gibonni</td>\n",
       "      <td>FER</td>\n",
       "      <td>Big Bang Theory</td>\n",
       "      <td>...</td>\n",
       "      <td>Rock</td>\n",
       "      <td>Virus</td>\n",
       "      <td>USA</td>\n",
       "      <td>Smartphone</td>\n",
       "      <td>Finska</td>\n",
       "      <td>Tenisice</td>\n",
       "      <td>Harry Potter</td>\n",
       "      <td>Čokolada</td>\n",
       "      <td>Burek s mesom</td>\n",
       "      <td>Superman</td>\n",
       "    </tr>\n",
       "    <tr>\n",
       "      <th>11</th>\n",
       "      <td>More</td>\n",
       "      <td>Zagreb</td>\n",
       "      <td>Voda</td>\n",
       "      <td>Psi</td>\n",
       "      <td>Europa</td>\n",
       "      <td>Televizija</td>\n",
       "      <td>Ronaldo</td>\n",
       "      <td>Gibonni</td>\n",
       "      <td>FER</td>\n",
       "      <td>Friends</td>\n",
       "      <td>...</td>\n",
       "      <td>Rock</td>\n",
       "      <td>Bakterija</td>\n",
       "      <td>USA</td>\n",
       "      <td>Obični mobitel</td>\n",
       "      <td>Finska</td>\n",
       "      <td>Tenisice</td>\n",
       "      <td>Harry Potter</td>\n",
       "      <td>Čokolada</td>\n",
       "      <td>Burek s mesom</td>\n",
       "      <td>Batman</td>\n",
       "    </tr>\n",
       "    <tr>\n",
       "      <th>12</th>\n",
       "      <td>More</td>\n",
       "      <td>Zagreb</td>\n",
       "      <td>Voda</td>\n",
       "      <td>Mačke</td>\n",
       "      <td>USA</td>\n",
       "      <td>Televizija</td>\n",
       "      <td>Ronaldo</td>\n",
       "      <td>Gibonni</td>\n",
       "      <td>FER</td>\n",
       "      <td>Big Bang Theory</td>\n",
       "      <td>...</td>\n",
       "      <td>Rock</td>\n",
       "      <td>Virus</td>\n",
       "      <td>USA</td>\n",
       "      <td>Smartphone</td>\n",
       "      <td>Finska</td>\n",
       "      <td>Tenisice</td>\n",
       "      <td>Gospodar prstenova</td>\n",
       "      <td>Čokolada</td>\n",
       "      <td>Burek sa sirom</td>\n",
       "      <td>Batman</td>\n",
       "    </tr>\n",
       "    <tr>\n",
       "      <th>13</th>\n",
       "      <td>More</td>\n",
       "      <td>Zagreb</td>\n",
       "      <td>Voda</td>\n",
       "      <td>Psi</td>\n",
       "      <td>Europa</td>\n",
       "      <td>Radio</td>\n",
       "      <td>Ronaldo</td>\n",
       "      <td>Oliver</td>\n",
       "      <td>FER</td>\n",
       "      <td>Friends</td>\n",
       "      <td>...</td>\n",
       "      <td>Elektronska glazba</td>\n",
       "      <td>Virus</td>\n",
       "      <td>USA</td>\n",
       "      <td>Smartphone</td>\n",
       "      <td>Italija</td>\n",
       "      <td>Tenisice</td>\n",
       "      <td>Gospodar prstenova</td>\n",
       "      <td>Vanilija</td>\n",
       "      <td>Burek sa sirom</td>\n",
       "      <td>Batman</td>\n",
       "    </tr>\n",
       "    <tr>\n",
       "      <th>14</th>\n",
       "      <td>More</td>\n",
       "      <td>Zagreb</td>\n",
       "      <td>Voda</td>\n",
       "      <td>Psi</td>\n",
       "      <td>USA</td>\n",
       "      <td>Televizija</td>\n",
       "      <td>Messi</td>\n",
       "      <td>Gibonni</td>\n",
       "      <td>FER</td>\n",
       "      <td>Big Bang Theory</td>\n",
       "      <td>...</td>\n",
       "      <td>Rock</td>\n",
       "      <td>Virus</td>\n",
       "      <td>Kuba</td>\n",
       "      <td>Smartphone</td>\n",
       "      <td>Finska</td>\n",
       "      <td>Tenisice</td>\n",
       "      <td>Harry Potter</td>\n",
       "      <td>Čokolada</td>\n",
       "      <td>Burek s mesom</td>\n",
       "      <td>Batman</td>\n",
       "    </tr>\n",
       "    <tr>\n",
       "      <th>15</th>\n",
       "      <td>More</td>\n",
       "      <td>Zagreb</td>\n",
       "      <td>Voda</td>\n",
       "      <td>Psi</td>\n",
       "      <td>Europa</td>\n",
       "      <td>Radio</td>\n",
       "      <td>Messi</td>\n",
       "      <td>Gibonni</td>\n",
       "      <td>FER</td>\n",
       "      <td>Friends</td>\n",
       "      <td>...</td>\n",
       "      <td>Rock</td>\n",
       "      <td>Bakterija</td>\n",
       "      <td>USA</td>\n",
       "      <td>Smartphone</td>\n",
       "      <td>Finska</td>\n",
       "      <td>Cipele</td>\n",
       "      <td>Gospodar prstenova</td>\n",
       "      <td>Čokolada</td>\n",
       "      <td>Burek s mesom</td>\n",
       "      <td>Batman</td>\n",
       "    </tr>\n",
       "    <tr>\n",
       "      <th>16</th>\n",
       "      <td>Planina</td>\n",
       "      <td>Zagreb</td>\n",
       "      <td>Voda</td>\n",
       "      <td>Mačke</td>\n",
       "      <td>Europa</td>\n",
       "      <td>Televizija</td>\n",
       "      <td>Messi</td>\n",
       "      <td>Oliver</td>\n",
       "      <td>FER</td>\n",
       "      <td>Friends</td>\n",
       "      <td>...</td>\n",
       "      <td>Rock</td>\n",
       "      <td>Bakterija</td>\n",
       "      <td>Kuba</td>\n",
       "      <td>Obični mobitel</td>\n",
       "      <td>Finska</td>\n",
       "      <td>Tenisice</td>\n",
       "      <td>Gospodar prstenova</td>\n",
       "      <td>Vanilija</td>\n",
       "      <td>Burek s mesom</td>\n",
       "      <td>Batman</td>\n",
       "    </tr>\n",
       "    <tr>\n",
       "      <th>17</th>\n",
       "      <td>More</td>\n",
       "      <td>Zagreb</td>\n",
       "      <td>Sok</td>\n",
       "      <td>Psi</td>\n",
       "      <td>Europa</td>\n",
       "      <td>Televizija</td>\n",
       "      <td>Messi</td>\n",
       "      <td>Oliver</td>\n",
       "      <td>FER</td>\n",
       "      <td>Friends</td>\n",
       "      <td>...</td>\n",
       "      <td>Rock</td>\n",
       "      <td>Virus</td>\n",
       "      <td>USA</td>\n",
       "      <td>Smartphone</td>\n",
       "      <td>Finska</td>\n",
       "      <td>Tenisice</td>\n",
       "      <td>Harry Potter</td>\n",
       "      <td>Vanilija</td>\n",
       "      <td>Burek sa sirom</td>\n",
       "      <td>Batman</td>\n",
       "    </tr>\n",
       "    <tr>\n",
       "      <th>18</th>\n",
       "      <td>More</td>\n",
       "      <td>Zagreb</td>\n",
       "      <td>Voda</td>\n",
       "      <td>Psi</td>\n",
       "      <td>Europa</td>\n",
       "      <td>Radio</td>\n",
       "      <td>Messi</td>\n",
       "      <td>Gibonni</td>\n",
       "      <td>FER</td>\n",
       "      <td>Big Bang Theory</td>\n",
       "      <td>...</td>\n",
       "      <td>Rock</td>\n",
       "      <td>Bakterija</td>\n",
       "      <td>USA</td>\n",
       "      <td>Smartphone</td>\n",
       "      <td>Finska</td>\n",
       "      <td>Tenisice</td>\n",
       "      <td>Harry Potter</td>\n",
       "      <td>Čokolada</td>\n",
       "      <td>Burek sa sirom</td>\n",
       "      <td>Batman</td>\n",
       "    </tr>\n",
       "    <tr>\n",
       "      <th>19</th>\n",
       "      <td>More</td>\n",
       "      <td>Zagreb</td>\n",
       "      <td>Sok</td>\n",
       "      <td>Psi</td>\n",
       "      <td>Europa</td>\n",
       "      <td>Televizija</td>\n",
       "      <td>Messi</td>\n",
       "      <td>Oliver</td>\n",
       "      <td>FER</td>\n",
       "      <td>Friends</td>\n",
       "      <td>...</td>\n",
       "      <td>Elektronska glazba</td>\n",
       "      <td>Bakterija</td>\n",
       "      <td>USA</td>\n",
       "      <td>Smartphone</td>\n",
       "      <td>Finska</td>\n",
       "      <td>Tenisice</td>\n",
       "      <td>Gospodar prstenova</td>\n",
       "      <td>Čokolada</td>\n",
       "      <td>Burek s mesom</td>\n",
       "      <td>Batman</td>\n",
       "    </tr>\n",
       "  </tbody>\n",
       "</table>\n",
       "<p>20 rows × 101 columns</p>\n",
       "</div>"
      ],
      "text/plain": [
       "         Q1      Q2    Q3     Q4      Q5          Q6       Q7       Q8   Q9  \\\n",
       "0      More  Zagreb   Sok    Psi  Europa  Televizija    Messi  Gibonni  FER   \n",
       "1      More  Zagreb  Voda    Psi  Europa  Televizija    Messi  Gibonni  FER   \n",
       "2      More  Zagreb  Voda    Psi  Europa  Televizija    Messi  Gibonni  FER   \n",
       "3      More   Split  Voda    Psi  Europa  Televizija  Ronaldo   Oliver  FER   \n",
       "4      More  Zagreb  Voda    Psi  Europa  Televizija  Ronaldo   Oliver  FER   \n",
       "5      More  Zagreb   Sok    Psi     USA  Televizija  Ronaldo  Gibonni  FER   \n",
       "6      More  Zagreb  Voda    Psi  Europa  Televizija  Ronaldo  Gibonni  FER   \n",
       "7      More  Zagreb  Voda    Psi  Europa  Televizija    Messi   Oliver  FER   \n",
       "8   Planina  Zagreb  Voda    Psi  Europa  Televizija  Ronaldo   Oliver  FER   \n",
       "9      More  Zagreb   Sok    Psi  Europa  Televizija  Ronaldo  Gibonni  FER   \n",
       "10     More  Zagreb  Voda    Psi  Europa  Televizija    Messi  Gibonni  FER   \n",
       "11     More  Zagreb  Voda    Psi  Europa  Televizija  Ronaldo  Gibonni  FER   \n",
       "12     More  Zagreb  Voda  Mačke     USA  Televizija  Ronaldo  Gibonni  FER   \n",
       "13     More  Zagreb  Voda    Psi  Europa       Radio  Ronaldo   Oliver  FER   \n",
       "14     More  Zagreb  Voda    Psi     USA  Televizija    Messi  Gibonni  FER   \n",
       "15     More  Zagreb  Voda    Psi  Europa       Radio    Messi  Gibonni  FER   \n",
       "16  Planina  Zagreb  Voda  Mačke  Europa  Televizija    Messi   Oliver  FER   \n",
       "17     More  Zagreb   Sok    Psi  Europa  Televizija    Messi   Oliver  FER   \n",
       "18     More  Zagreb  Voda    Psi  Europa       Radio    Messi  Gibonni  FER   \n",
       "19     More  Zagreb   Sok    Psi  Europa  Televizija    Messi   Oliver  FER   \n",
       "\n",
       "                Q10    ...                    Q92        Q93   Q94  \\\n",
       "0           Friends    ...     Elektronska glazba      Virus  Kuba   \n",
       "1   Big Bang Theory    ...                   Rock      Virus   USA   \n",
       "2           Friends    ...                   Rock      Virus   USA   \n",
       "3           Friends    ...     Elektronska glazba  Bakterija   USA   \n",
       "4           Friends    ...                   Rock      Virus  Kuba   \n",
       "5           Friends    ...                   Rock  Bakterija   USA   \n",
       "6           Friends    ...                   Rock      Virus  Kuba   \n",
       "7   Big Bang Theory    ...                   Rock  Bakterija  Kuba   \n",
       "8   Big Bang Theory    ...                   Rock      Virus  Kuba   \n",
       "9           Friends    ...     Elektronska glazba      Virus  Kuba   \n",
       "10  Big Bang Theory    ...                   Rock      Virus   USA   \n",
       "11          Friends    ...                   Rock  Bakterija   USA   \n",
       "12  Big Bang Theory    ...                   Rock      Virus   USA   \n",
       "13          Friends    ...     Elektronska glazba      Virus   USA   \n",
       "14  Big Bang Theory    ...                   Rock      Virus  Kuba   \n",
       "15          Friends    ...                   Rock  Bakterija   USA   \n",
       "16          Friends    ...                   Rock  Bakterija  Kuba   \n",
       "17          Friends    ...                   Rock      Virus   USA   \n",
       "18  Big Bang Theory    ...                   Rock  Bakterija   USA   \n",
       "19          Friends    ...     Elektronska glazba  Bakterija   USA   \n",
       "\n",
       "               Q95      Q96       Q97                 Q98       Q99  \\\n",
       "0       Smartphone   Finska  Tenisice  Gospodar prstenova  Čokolada   \n",
       "1       Smartphone  Italija  Tenisice  Gospodar prstenova  Čokolada   \n",
       "2       Smartphone  Italija  Tenisice  Gospodar prstenova  Vanilija   \n",
       "3       Smartphone   Finska  Tenisice        Harry Potter  Čokolada   \n",
       "4       Smartphone  Italija    Cipele  Gospodar prstenova  Čokolada   \n",
       "5       Smartphone  Italija  Tenisice        Harry Potter  Vanilija   \n",
       "6       Smartphone   Finska  Tenisice  Gospodar prstenova  Vanilija   \n",
       "7   Obični mobitel   Finska  Tenisice  Gospodar prstenova  Čokolada   \n",
       "8       Smartphone   Finska  Tenisice  Gospodar prstenova  Čokolada   \n",
       "9       Smartphone   Finska  Tenisice  Gospodar prstenova  Čokolada   \n",
       "10      Smartphone   Finska  Tenisice        Harry Potter  Čokolada   \n",
       "11  Obični mobitel   Finska  Tenisice        Harry Potter  Čokolada   \n",
       "12      Smartphone   Finska  Tenisice  Gospodar prstenova  Čokolada   \n",
       "13      Smartphone  Italija  Tenisice  Gospodar prstenova  Vanilija   \n",
       "14      Smartphone   Finska  Tenisice        Harry Potter  Čokolada   \n",
       "15      Smartphone   Finska    Cipele  Gospodar prstenova  Čokolada   \n",
       "16  Obični mobitel   Finska  Tenisice  Gospodar prstenova  Vanilija   \n",
       "17      Smartphone   Finska  Tenisice        Harry Potter  Vanilija   \n",
       "18      Smartphone   Finska  Tenisice        Harry Potter  Čokolada   \n",
       "19      Smartphone   Finska  Tenisice  Gospodar prstenova  Čokolada   \n",
       "\n",
       "              Q100      Q101  \n",
       "0    Burek s mesom    Batman  \n",
       "1    Burek s mesom    Batman  \n",
       "2    Burek s mesom    Batman  \n",
       "3    Burek s mesom    Batman  \n",
       "4    Burek s mesom    Batman  \n",
       "5   Burek sa sirom  Superman  \n",
       "6    Burek s mesom  Superman  \n",
       "7   Burek sa sirom  Superman  \n",
       "8    Burek s mesom  Superman  \n",
       "9    Burek s mesom    Batman  \n",
       "10   Burek s mesom  Superman  \n",
       "11   Burek s mesom    Batman  \n",
       "12  Burek sa sirom    Batman  \n",
       "13  Burek sa sirom    Batman  \n",
       "14   Burek s mesom    Batman  \n",
       "15   Burek s mesom    Batman  \n",
       "16   Burek s mesom    Batman  \n",
       "17  Burek sa sirom    Batman  \n",
       "18  Burek sa sirom    Batman  \n",
       "19   Burek s mesom    Batman  \n",
       "\n",
       "[20 rows x 101 columns]"
      ]
     },
     "execution_count": 38,
     "metadata": {},
     "output_type": "execute_result"
    }
   ],
   "source": [
    "q101[:20]"
   ]
  },
  {
   "cell_type": "markdown",
   "metadata": {},
   "source": [
    "### Q: Voli li onaj tko preferira Messija, Batmana i Tenisice više pse ili mačke?"
   ]
  },
  {
   "cell_type": "code",
   "execution_count": 41,
   "metadata": {
    "collapsed": false,
    "scrolled": true
   },
   "outputs": [
    {
     "data": {
      "text/html": [
       "<div>\n",
       "<table border=\"1\" class=\"dataframe\">\n",
       "  <thead>\n",
       "    <tr style=\"text-align: right;\">\n",
       "      <th></th>\n",
       "      <th>Q7</th>\n",
       "      <th>Q101</th>\n",
       "      <th>Q97</th>\n",
       "      <th>Q4</th>\n",
       "    </tr>\n",
       "  </thead>\n",
       "  <tbody>\n",
       "    <tr>\n",
       "      <th>0</th>\n",
       "      <td>Messi</td>\n",
       "      <td>Batman</td>\n",
       "      <td>Tenisice</td>\n",
       "      <td>Psi</td>\n",
       "    </tr>\n",
       "    <tr>\n",
       "      <th>1</th>\n",
       "      <td>Messi</td>\n",
       "      <td>Batman</td>\n",
       "      <td>Tenisice</td>\n",
       "      <td>Psi</td>\n",
       "    </tr>\n",
       "    <tr>\n",
       "      <th>2</th>\n",
       "      <td>Messi</td>\n",
       "      <td>Batman</td>\n",
       "      <td>Tenisice</td>\n",
       "      <td>Psi</td>\n",
       "    </tr>\n",
       "    <tr>\n",
       "      <th>3</th>\n",
       "      <td>Ronaldo</td>\n",
       "      <td>Batman</td>\n",
       "      <td>Tenisice</td>\n",
       "      <td>Psi</td>\n",
       "    </tr>\n",
       "    <tr>\n",
       "      <th>4</th>\n",
       "      <td>Ronaldo</td>\n",
       "      <td>Batman</td>\n",
       "      <td>Cipele</td>\n",
       "      <td>Psi</td>\n",
       "    </tr>\n",
       "    <tr>\n",
       "      <th>5</th>\n",
       "      <td>Ronaldo</td>\n",
       "      <td>Superman</td>\n",
       "      <td>Tenisice</td>\n",
       "      <td>Psi</td>\n",
       "    </tr>\n",
       "    <tr>\n",
       "      <th>6</th>\n",
       "      <td>Ronaldo</td>\n",
       "      <td>Superman</td>\n",
       "      <td>Tenisice</td>\n",
       "      <td>Psi</td>\n",
       "    </tr>\n",
       "    <tr>\n",
       "      <th>7</th>\n",
       "      <td>Messi</td>\n",
       "      <td>Superman</td>\n",
       "      <td>Tenisice</td>\n",
       "      <td>Psi</td>\n",
       "    </tr>\n",
       "    <tr>\n",
       "      <th>8</th>\n",
       "      <td>Ronaldo</td>\n",
       "      <td>Superman</td>\n",
       "      <td>Tenisice</td>\n",
       "      <td>Psi</td>\n",
       "    </tr>\n",
       "    <tr>\n",
       "      <th>9</th>\n",
       "      <td>Ronaldo</td>\n",
       "      <td>Batman</td>\n",
       "      <td>Tenisice</td>\n",
       "      <td>Psi</td>\n",
       "    </tr>\n",
       "    <tr>\n",
       "      <th>10</th>\n",
       "      <td>Messi</td>\n",
       "      <td>Superman</td>\n",
       "      <td>Tenisice</td>\n",
       "      <td>Psi</td>\n",
       "    </tr>\n",
       "    <tr>\n",
       "      <th>11</th>\n",
       "      <td>Ronaldo</td>\n",
       "      <td>Batman</td>\n",
       "      <td>Tenisice</td>\n",
       "      <td>Psi</td>\n",
       "    </tr>\n",
       "    <tr>\n",
       "      <th>12</th>\n",
       "      <td>Ronaldo</td>\n",
       "      <td>Batman</td>\n",
       "      <td>Tenisice</td>\n",
       "      <td>Mačke</td>\n",
       "    </tr>\n",
       "    <tr>\n",
       "      <th>13</th>\n",
       "      <td>Ronaldo</td>\n",
       "      <td>Batman</td>\n",
       "      <td>Tenisice</td>\n",
       "      <td>Psi</td>\n",
       "    </tr>\n",
       "    <tr>\n",
       "      <th>14</th>\n",
       "      <td>Messi</td>\n",
       "      <td>Batman</td>\n",
       "      <td>Tenisice</td>\n",
       "      <td>Psi</td>\n",
       "    </tr>\n",
       "    <tr>\n",
       "      <th>15</th>\n",
       "      <td>Messi</td>\n",
       "      <td>Batman</td>\n",
       "      <td>Cipele</td>\n",
       "      <td>Psi</td>\n",
       "    </tr>\n",
       "    <tr>\n",
       "      <th>16</th>\n",
       "      <td>Messi</td>\n",
       "      <td>Batman</td>\n",
       "      <td>Tenisice</td>\n",
       "      <td>Mačke</td>\n",
       "    </tr>\n",
       "    <tr>\n",
       "      <th>17</th>\n",
       "      <td>Messi</td>\n",
       "      <td>Batman</td>\n",
       "      <td>Tenisice</td>\n",
       "      <td>Psi</td>\n",
       "    </tr>\n",
       "    <tr>\n",
       "      <th>18</th>\n",
       "      <td>Messi</td>\n",
       "      <td>Batman</td>\n",
       "      <td>Tenisice</td>\n",
       "      <td>Psi</td>\n",
       "    </tr>\n",
       "    <tr>\n",
       "      <th>19</th>\n",
       "      <td>Messi</td>\n",
       "      <td>Batman</td>\n",
       "      <td>Tenisice</td>\n",
       "      <td>Psi</td>\n",
       "    </tr>\n",
       "  </tbody>\n",
       "</table>\n",
       "</div>"
      ],
      "text/plain": [
       "         Q7      Q101       Q97     Q4\n",
       "0     Messi    Batman  Tenisice    Psi\n",
       "1     Messi    Batman  Tenisice    Psi\n",
       "2     Messi    Batman  Tenisice    Psi\n",
       "3   Ronaldo    Batman  Tenisice    Psi\n",
       "4   Ronaldo    Batman    Cipele    Psi\n",
       "5   Ronaldo  Superman  Tenisice    Psi\n",
       "6   Ronaldo  Superman  Tenisice    Psi\n",
       "7     Messi  Superman  Tenisice    Psi\n",
       "8   Ronaldo  Superman  Tenisice    Psi\n",
       "9   Ronaldo    Batman  Tenisice    Psi\n",
       "10    Messi  Superman  Tenisice    Psi\n",
       "11  Ronaldo    Batman  Tenisice    Psi\n",
       "12  Ronaldo    Batman  Tenisice  Mačke\n",
       "13  Ronaldo    Batman  Tenisice    Psi\n",
       "14    Messi    Batman  Tenisice    Psi\n",
       "15    Messi    Batman    Cipele    Psi\n",
       "16    Messi    Batman  Tenisice  Mačke\n",
       "17    Messi    Batman  Tenisice    Psi\n",
       "18    Messi    Batman  Tenisice    Psi\n",
       "19    Messi    Batman  Tenisice    Psi"
      ]
     },
     "execution_count": 41,
     "metadata": {},
     "output_type": "execute_result"
    }
   ],
   "source": [
    "q101[['Q7','Q101','Q97','Q4']][:20]"
   ]
  },
  {
   "cell_type": "code",
   "execution_count": 42,
   "metadata": {
    "collapsed": true
   },
   "outputs": [],
   "source": [
    "X = q101[['Q7','Q101','Q97']][:20].as_matrix()\n",
    "y = q101['Q4'][:20].as_matrix()"
   ]
  },
  {
   "cell_type": "code",
   "execution_count": 43,
   "metadata": {
    "collapsed": false
   },
   "outputs": [],
   "source": [
    "# Apriorna vjerojatnost klase: P(C_j)\n",
    "def class_prior(y, label): \n",
    "    N = len(y)\n",
    "    return len(y[y==label]) / float(len(y))\n",
    "\n",
    "# Izglednost klase: P(x_i|C_j)\n",
    "def class_likelihood(X, y, feature_ix, value, label):\n",
    "    N = len(X)\n",
    "    y_ix = y==label\n",
    "    Nj = len(y[y_ix])\n",
    "    Nkj = len(X[sp.logical_and(y_ix, X[:,feature_ix]==value)])\n",
    "    return (Nkj + 1) / (float(Nj) + 2) # Laplace smoothed"
   ]
  },
  {
   "cell_type": "code",
   "execution_count": 44,
   "metadata": {
    "collapsed": false
   },
   "outputs": [
    {
     "data": {
      "text/plain": [
       "0.9"
      ]
     },
     "execution_count": 44,
     "metadata": {},
     "output_type": "execute_result"
    }
   ],
   "source": [
    "p_Psi = class_prior(y, 'Psi')\n",
    "p_Psi"
   ]
  },
  {
   "cell_type": "code",
   "execution_count": 45,
   "metadata": {
    "collapsed": false
   },
   "outputs": [
    {
     "data": {
      "text/plain": [
       "0.1"
      ]
     },
     "execution_count": 45,
     "metadata": {},
     "output_type": "execute_result"
    }
   ],
   "source": [
    "p_Macke = class_prior(y, 'Mačke')\n",
    "p_Macke"
   ]
  },
  {
   "cell_type": "code",
   "execution_count": 46,
   "metadata": {
    "collapsed": false
   },
   "outputs": [
    {
     "data": {
      "text/plain": [
       "0.55"
      ]
     },
     "execution_count": 46,
     "metadata": {},
     "output_type": "execute_result"
    }
   ],
   "source": [
    "p_Messi_Psi = class_likelihood(X, y, 0, 'Messi', 'Psi')\n",
    "p_Messi_Psi"
   ]
  },
  {
   "cell_type": "code",
   "execution_count": 47,
   "metadata": {
    "collapsed": false
   },
   "outputs": [
    {
     "data": {
      "text/plain": [
       "0.45"
      ]
     },
     "execution_count": 47,
     "metadata": {},
     "output_type": "execute_result"
    }
   ],
   "source": [
    "p_Ronaldo_Psi = class_likelihood(X, y, 0, 'Ronaldo', 'Psi')\n",
    "p_Ronaldo_Psi"
   ]
  },
  {
   "cell_type": "markdown",
   "metadata": {},
   "source": [
    "* Q: Klasifikacija za $\\mathbf{x} = (\\text{Messi}, \\text{Batman}, \\text{Tenisice})$"
   ]
  },
  {
   "cell_type": "code",
   "execution_count": 48,
   "metadata": {
    "collapsed": false
   },
   "outputs": [
    {
     "data": {
      "text/plain": [
       "0.29452500000000004"
      ]
     },
     "execution_count": 48,
     "metadata": {},
     "output_type": "execute_result"
    }
   ],
   "source": [
    "class_prior(y, 'Psi') \\\n",
    "    * class_likelihood(X, y, 0, 'Messi', 'Psi') \\\n",
    "    * class_likelihood(X, y, 1, 'Batman', 'Psi') \\\n",
    "    * class_likelihood(X, y, 2, 'Tenisice', 'Psi') \\"
   ]
  },
  {
   "cell_type": "code",
   "execution_count": 49,
   "metadata": {
    "collapsed": false
   },
   "outputs": [
    {
     "data": {
      "text/plain": [
       "0.028125000000000004"
      ]
     },
     "execution_count": 49,
     "metadata": {},
     "output_type": "execute_result"
    }
   ],
   "source": [
    "class_prior(y, 'Mačke') \\\n",
    "    * class_likelihood(X, y, 0, 'Messi', 'Mačke') \\\n",
    "    * class_likelihood(X, y, 1, 'Batman', 'Mačke') \\\n",
    "    * class_likelihood(X, y, 2, 'Tenisice', 'Mačke') \\"
   ]
  },
  {
   "cell_type": "markdown",
   "metadata": {},
   "source": [
    "# Polunaivan klasifikator*\n",
    "\n",
    "### Ideja\n",
    "\n",
    "* Ako, na primjer, **ne vrijedi** $x_2\\bot x_3|\\mathcal{C}_j$, onda je bolje umjesto:\n",
    "$$\n",
    "P(\\mathcal{C}_j|x_1,x_2,x_3)\\ \\propto\\ P(x_1|\\mathcal{C}_j)P(\\color{red}{x_2}|\\mathcal{C}_j)P(\\color{red}{x_3}|\\mathcal{C}_j)P(\\mathcal{C}_j)\n",
    "$$\n",
    "faktorizirati kao:\n",
    "$$\n",
    "    P(\\mathcal{C}_j|x_1,x_2,x_3)\\ \\propto\\ P(x_1|\\mathcal{C}_j)P(\\color{red}{x_2,x_3}|\\mathcal{C}_j)P(\\mathcal{C}_j)\n",
    "$$\n",
    "što je jednako:\n",
    "$$\n",
    "    P(\\mathcal{C}_j|x_1,x_2,x_3)\\ \\propto\\ P(x_1|\\mathcal{C}_j)P(x_2|\\mathcal{C}_j)P(\\color{red}{x_3|x_2},\\mathcal{C}_j)P(\\mathcal{C}_j)\n",
    "$$\n",
    "\n",
    "\n",
    "* Q: Prednosti? \n",
    "\n",
    "\n",
    "* Q: Broj parametara?\n",
    "\n",
    "\n",
    "\n",
    "### Koje varijable združiti?\n",
    "\n",
    "\n",
    "* Problem pretraživanja prostora stanja:\n",
    "$$\n",
    " \\begin{align*}\n",
    "        &\\{ \\{a\\}, \\{b\\}, \\{c\\} \\}\\\\\n",
    "        &\\{ \\{a\\}, \\{b, c\\} \\}\\\\\n",
    "        &\\{ \\{b\\}, \\{a, c\\} \\}\\\\\n",
    "        &\\{ \\{c\\}, \\{a, b\\} \\}\\\\\n",
    "        &\\{ \\{a, b, c\\} \\}\n",
    "    \\end{align*}\n",
    "$$\n",
    "Bellov broj: $B_3=5, B_{4} = 15, B_{5} = 52, \\dots, B_{10} = 115975, \\dots$\n",
    "\n",
    "\n",
    "* Treba nam **heurističko pretraživanje** koje će naći optimalno združivanje (broj stanja = broj particija)\n",
    "\n",
    "\n",
    "* Kriterij združivanja varijabli? Dvije mogućnosti:\n",
    "  * Mjerimo **zavisnost** varijabli i združujemo one varijable koje su **najviše zavisne**\n",
    "      * Algoritmi TAN i $k$-DB\n",
    "  * Unakrsna provjera: Isprobavamo **točnost** modela na skupu za provjeru i združujemo one varijable koje **povećavaju točnost**\n",
    "      * Algoritam FSSJ\n",
    "\n",
    "\n",
    "* Q: Veza s odabirom modela?\n",
    "\n",
    "\n",
    "### Mjerenje zavisnosti varijabli: Uzajamna informacija\n",
    "\n",
    "* Mjera **uzajamne informacije** (uzajamnog sadržaja informacije) (engl. *mutual information*)\n",
    "\n",
    "\n",
    "* Entropija\n",
    "$$\n",
    "H(P) = -\\sum_x P(x) \\ln P(x)\n",
    "$$\n",
    "\n",
    "* Unakrsna entropija:\n",
    "$$\n",
    "H(P,Q) = -\\sum_x P(x) \\ln Q(x)\n",
    "$$\n",
    "\n",
    "* Relativa entropija $P(x)$ u odnosu na $Q(x)$:\n",
    "$$\n",
    "\\begin{align*}\n",
    "H(P,Q) - H(P) =& \n",
    "-\\sum_x P(x)\\ln Q(x) - \\big(-\\sum P(x)\\ln P(x) \\big) =\\\\\n",
    "&-\\sum_x P(x)\\ln Q(x) + \\sum P(x)\\ln P(x) =\\\\\n",
    "&-\\sum_x P(x)\\ln \\frac{P(x)}{Q(x)} = \\color{red}{D_{\\mathrm{KL}}(P||Q)}\\\\\n",
    "\\end{align*}\n",
    "$$\n",
    "$\\Rightarrow$ **Kullback-Leiblerova divergencija**\n",
    "\n",
    "\n",
    "* **Uzajamna informacija** ili **uzajamni sadržaj informacije** (engl. *mutual information*):\n",
    "$$\n",
    "I(x,y) = D_\\mathrm{KL}\\big(P(x,y) || P(x) P(y)\\big) = \\sum_{x,y} P(x,y) \\ln\\frac{P(x,y)}{P(x)P(y)}\n",
    "$$\n",
    "\n",
    "* $I(x, y) = 0$ akko su $x$ i $y$ nezavisne varijable, inače $I(x,y) > 0$"
   ]
  },
  {
   "cell_type": "code",
   "execution_count": 14,
   "metadata": {
    "collapsed": false
   },
   "outputs": [],
   "source": [
    "from sklearn.metrics import mutual_info_score"
   ]
  },
  {
   "cell_type": "code",
   "execution_count": 15,
   "metadata": {
    "collapsed": false
   },
   "outputs": [],
   "source": [
    "X = stats.bernoulli.rvs(0.5, size=100)\n",
    "Y = stats.bernoulli.rvs(0.2, size=100)"
   ]
  },
  {
   "cell_type": "code",
   "execution_count": 16,
   "metadata": {
    "collapsed": false
   },
   "outputs": [
    {
     "data": {
      "text/plain": [
       "0.0015583988584468855"
      ]
     },
     "execution_count": 16,
     "metadata": {},
     "output_type": "execute_result"
    }
   ],
   "source": [
    "mutual_info_score(X, Y)"
   ]
  },
  {
   "cell_type": "code",
   "execution_count": 17,
   "metadata": {
    "collapsed": false
   },
   "outputs": [
    {
     "data": {
      "text/plain": [
       "0.69134609900173971"
      ]
     },
     "execution_count": 17,
     "metadata": {},
     "output_type": "execute_result"
    }
   ],
   "source": [
    "mutual_info_score(X, X)"
   ]
  },
  {
   "cell_type": "code",
   "execution_count": 18,
   "metadata": {
    "collapsed": false
   },
   "outputs": [],
   "source": [
    "X = stats.bernoulli.rvs(0.5, size=100)\n",
    "Y = [(sp.random.randint(2) if x==1 else 0) for x in X ]"
   ]
  },
  {
   "cell_type": "code",
   "execution_count": 19,
   "metadata": {
    "collapsed": false
   },
   "outputs": [
    {
     "data": {
      "text/plain": [
       "0.23063664054386707"
      ]
     },
     "execution_count": 19,
     "metadata": {},
     "output_type": "execute_result"
    }
   ],
   "source": [
    "mutual_info_score(X, Y)"
   ]
  },
  {
   "cell_type": "markdown",
   "metadata": {},
   "source": [
    "* Uzajamnu informaciju lako možemo proširiti na **uvjetnu uzajamnu informaciju** (engl. *conditional mutual information*):\n",
    "\n",
    "$$\n",
    "I(x,y\\color{red}{|z}) = \\sum_z P(z_k) I(x,y|z) = \\color{red}{\\sum_z}\\sum_j\\sum_i P(x,y,\\color{red}{z}) \\ln\\frac{P(x,y\\color{red}{|z})}{P(x\\color{red}{|z})P(y\\color{red}{|z})}\n",
    "$$"
   ]
  },
  {
   "cell_type": "markdown",
   "metadata": {},
   "source": [
    "# Bayesov klasifikator za kontinuirane značajke"
   ]
  },
  {
   "cell_type": "markdown",
   "metadata": {},
   "source": [
    "### Jednodimenzijski slučaj\n",
    "\n",
    "* Izglednost klase $p(\\mathbf{x}|\\mathcal{C}_j)$ modeliramo Gaussovom razdiobom:\n",
    "\n",
    "$$\n",
    "\\mathbf{x}|\\mathcal{C}_j \\sim    \\mathcal{N}(\\mu_j,\\sigma^2_j)\n",
    "$$\n",
    "\n",
    "\\begin{equation*}\n",
    "p(x|\\mathcal{C}_j) = \n",
    "\\frac{1}{\\sqrt{2\\pi}\\sigma_j}\\exp\\Big\\{-\\frac{(x-\\mu_j)^2}{2\\sigma^2_j}\\Big\\}\n",
    "\\end{equation*}"
   ]
  },
  {
   "cell_type": "code",
   "execution_count": 20,
   "metadata": {
    "collapsed": false
   },
   "outputs": [
    {
     "data": {
      "image/png": "[encoded data removed]",
      "text/plain": [
       "<matplotlib.figure.Figure at 0x7fc20c582990>"
      ]
     },
     "metadata": {},
     "output_type": "display_data"
    }
   ],
   "source": [
    "likelihood_c1 = stats.norm(110, 5)\n",
    "likelihood_c2 = stats.norm(150, 20)\n",
    "likelihood_c3 = stats.norm(180, 10)\n",
    "xs = linspace(70, 200, 200)\n",
    "plt.plot(xs, likelihood_c1.pdf(xs), label='p(x|C_1)')\n",
    "plt.plot(xs, likelihood_c2.pdf(xs), label='p(x|C_2)')\n",
    "plt.plot(xs, likelihood_c3.pdf(xs), label='p(x|C_3)')\n",
    "plt.legend()\n",
    "plt.show()"
   ]
  },
  {
   "cell_type": "markdown",
   "metadata": {},
   "source": [
    "\n",
    "* **NB:** Pretpostavljamo da je razdioba primjera unutar svake klase unimodalna (modelirana jednom Gaussovom razdiobom)\n",
    "  * Inače nam treba mješavina Gaussovih razdiobi (GMM)\n",
    "  \n",
    "  \n",
    "* Model:\n",
    "$$\n",
    "    h_j(x) = p(x,\\mathcal{C}_j) = p(x|\\mathcal{C}_j)P(\\mathcal{C}_j)\n",
    "$$\n",
    "\n",
    "* Radi matematičke jednostavnosti, prelazimo u logaritamsku domenu:\n",
    "\\begin{align*}\n",
    "   h_j(x) & = \\ln p(x|\\mathcal{C}_j) + \\ln P(\\mathcal{C}_j)\\\\\n",
    "        &=  \n",
    "  \\color{gray}{-\\frac{1}{2}\\ln 2\\pi}\n",
    "  - \\ln\\sigma_j\n",
    "  - \\frac{(x-\\mu_j)^2}{2\\sigma^2_j} + \\ln P(\\mathcal{C}_j)\\\\\n",
    "\\end{align*}\n",
    "\n",
    "* Uklanajnje konstante (ne utječe na maksimizaciju):\n",
    "$$\n",
    "  h_j(x|\\boldsymbol{\\theta}_j) = - \\ln\\hat{\\sigma}_j\n",
    "  - \\frac{(x-\\hat{\\mu}_j)^2}{2\\hat{\\sigma}^2_j} + \\ln\\hat{P}(\\mathcal{C}_j)\n",
    "$$\n",
    "gdje je vektor parametara jednak\n",
    "$$\n",
    "\\boldsymbol{\\theta}_j=(\\mu_j, \\sigma_j, P(\\mathcal{C}_j))\n",
    "$$\n",
    "\n",
    "* ML-procjene parametara:\n",
    "\n",
    "\\begin{align*}\n",
    "\\hat{\\mu}_j &= \\frac{1}{N_j}\\sum_{i=1}^N \\mathbf{1}\\{y^{(i)} = \\mathcal{C}_j\\} x^{(i)}\\\\\n",
    "\\hat{\\sigma}^2_j &= \\frac{1}{N_j}\\sum_{i=1}^N\\mathbf{1}\\{y^{(i)} = \\mathcal{C}_j\\}(x^{(i)}-\\hat{\\mu}_j)^2 \\\\\n",
    "\\hat{P}(\\mathcal{C}_j) &= \\frac{N_j}{N}\\\\\n",
    "\\end{align*}\n"
   ]
  },
  {
   "cell_type": "code",
   "execution_count": 21,
   "metadata": {
    "collapsed": false
   },
   "outputs": [
    {
     "data": {
      "image/png": "[encoded data removed]",
      "text/plain": [
       "<matplotlib.figure.Figure at 0x7fc20c57b690>"
      ]
     },
     "metadata": {},
     "output_type": "display_data"
    }
   ],
   "source": [
    "likelihood_c1 = stats.norm(100, 5)\n",
    "likelihood_c2 = stats.norm(150, 20)\n",
    "\n",
    "plt.plot(xs, likelihood_c1.pdf(xs), label='p(x|C_1)')\n",
    "plt.plot(xs, likelihood_c2.pdf(xs), label='p(x|C_2)')\n",
    "plt.legend()\n",
    "plt.show()"
   ]
  },
  {
   "cell_type": "code",
   "execution_count": 22,
   "metadata": {
    "collapsed": false
   },
   "outputs": [
    {
     "data": {
      "image/png": "[encoded data removed]",
      "text/plain": [
       "<matplotlib.figure.Figure at 0x7fc20c25e650>"
      ]
     },
     "metadata": {},
     "output_type": "display_data"
    }
   ],
   "source": [
    "p_c1 = 0.3\n",
    "p_c2 = 0.7\n",
    "\n",
    "def joint_x_c1(x) : return likelihood_c1.pdf(x) * p_c1\n",
    "def joint_x_c2(x) : return likelihood_c2.pdf(x) * p_c2\n",
    "\n",
    "plt.plot(xs, joint_x_c1(xs), label='p(x, C_1)')\n",
    "plt.plot(xs, joint_x_c2(xs), label='p(x, C_2)')\n",
    "plt.legend()\n",
    "plt.show()"
   ]
  },
  {
   "cell_type": "code",
   "execution_count": 23,
   "metadata": {
    "collapsed": false
   },
   "outputs": [
    {
     "data": {
      "image/png": "[encoded data removed]",
      "text/plain": [
       "<matplotlib.figure.Figure at 0x7fc2089c7910>"
      ]
     },
     "metadata": {},
     "output_type": "display_data"
    }
   ],
   "source": [
    "def p_x(x) : return joint_x_c1(x) + joint_x_c2(x)\n",
    "\n",
    "plt.plot(xs, p_x(xs), label='p(x)')\n",
    "plt.legend()\n",
    "plt.show()"
   ]
  },
  {
   "cell_type": "code",
   "execution_count": 24,
   "metadata": {
    "collapsed": false
   },
   "outputs": [
    {
     "data": {
      "image/png": "[encoded data removed]",
      "text/plain": [
       "<matplotlib.figure.Figure at 0x7fc208836c90>"
      ]
     },
     "metadata": {},
     "output_type": "display_data"
    }
   ],
   "source": [
    "def posterior_c1(x) : return joint_x_c1(x) / p_x(x)\n",
    "def posterior_c2(x) : return joint_x_c2(x) / p_x(x)\n",
    "\n",
    "plt.plot(xs, posterior_c1(xs), label='p(C_1|x)')\n",
    "plt.plot(xs, posterior_c2(xs), label='p(C_2|x)')\n",
    "plt.legend()\n",
    "plt.show()"
   ]
  },
  {
   "cell_type": "markdown",
   "metadata": {},
   "source": [
    "### Višedimenzijski slučaj\n",
    "\n",
    "* Izglednost klase:\n",
    "\n",
    "\\begin{equation*}\n",
    "p(\\mathbf{x}|\\mathcal{C}_j) = \n",
    "\\frac{1}{(2\\pi)^{n/2}|\\boldsymbol{\\Sigma}_j|^{1/2}}\n",
    "\\exp\\Big\\{-\\frac{1}{2}(\\mathbf{x}^{(i)}-\\boldsymbol{\\mu}_j)^{\\mathrm{T}}\\boldsymbol{\\Sigma}_j^{-1}(\\mathbf{x}^{(i)}-\\boldsymbol{\\mu}_j)\\Big\\}\n",
    "\\end{equation*}\n",
    "\n",
    "* Model:\n",
    "$$\n",
    "\\begin{align*}\n",
    "    h_j(\\mathbf{x}) &= \\ln p(\\mathbf{x}|\\mathcal{C}_j) + \\ln P(\\mathcal{C}_j)\\\\\n",
    "&=  \n",
    "\\color{gray}{-\\frac{n}{2}\\ln 2\\pi}\n",
    "  - \\frac{1}{2}\\ln|\\boldsymbol{\\Sigma}_j|\n",
    "  - \\frac{1}{2}(\\mathbf{x}-\\boldsymbol{\\mu}_j)^\\mathrm{T}\\boldsymbol{\\Sigma}_j^{-1}(\\mathbf{x}-\\boldsymbol{\\mu}_j) + \\ln P(\\mathcal{C}_j)\\\\\n",
    "  &\\Rightarrow  \n",
    "  - \\frac{1}{2}\\ln|\\boldsymbol{\\Sigma}_j|\n",
    "  - \\frac{1}{2}(\\mathbf{x}-\\boldsymbol{\\mu}_j)^\\mathrm{T}\\boldsymbol{\\Sigma}_j^{-1}(\\mathbf{x}-\\boldsymbol{\\mu}_j) + \\ln P(\\mathcal{C}_j)\\\\\n",
    "\\end{align*}\n",
    "$$\n",
    "\n",
    "\n",
    "* Interpretacija za $\\boldsymbol{\\mu}$ i $\\boldsymbol{\\Sigma}$:\n",
    "  * $\\boldsymbol{\\mu}_j$ - prototipna vrijednost primjera u klasi $\\mathcal{C}_j$\n",
    "  * $\\boldsymbol{\\Sigma}_j$ - količina šuma i korelacija između izvora šuma unutar $\\mathcal{C}_j$\n",
    "  \n",
    "\n",
    "* Q: Broj parametara?\n",
    "\n",
    "\n",
    "* ML-procjene parametara:\n",
    "\n",
    "\\begin{align*}\n",
    "\\hat{\\boldsymbol{\\mu}}_j &= \\frac{1}{N_j}\\sum_{i=1}^N\\mathbf{1}\\{y^{(i)}=\\mathcal{C}_j\\}\\mathbf{x}^{(i)}\\\\\n",
    "\\hat{\\boldsymbol{\\Sigma}}_j &= \\frac{1}{N_j}\\sum_{i=1}^N\n",
    "\\mathbf{1}\\{y^{(i)}=\\mathcal{C}_j\\}(\\mathbf{x}^{(i)}-\\hat{\\boldsymbol{\\mu}}_j)(\\mathbf{x}^{(i)}-\\hat{\\boldsymbol{\\mu}}_j)^\\mathrm{T}\\\\\n",
    "\\hat{P}(\\mathcal{C}_j) &= \\frac{N_j}{N}\n",
    "\\end{align*}\n",
    "\n",
    "\n",
    "### O kovarijacijskoj matrici\n",
    "\n",
    "\\begin{equation*}\n",
    "\\boldsymbol{\\Sigma} = \\begin{pmatrix}\n",
    "\\mathrm{Var}(x_1) & \\mathrm{Cov}(x_1, x_2) & \\dots & \\mathrm{Cov}(x_1,x_n)\\\\\n",
    "\\mathrm{Cov}(x_2, x_1) & \\mathrm{Var}(x_2) & \\dots & \\mathrm{Cov}(x_2,x_n)\\\\\n",
    "\\vdots & \\vdots & \\ddots & \\vdots \\\\\n",
    "\\mathrm{Cov}(x_n,x_1) & \\mathrm{Cov}(x_n,x_2) & \\dots & \\mathrm{Var}(x_n)\\\\\n",
    "\\end{pmatrix}\n",
    "\\end{equation*}\n",
    "\n",
    "\n",
    "\n",
    "* $\\boldsymbol{\\Sigma}$ je simetrična\n",
    "    \n",
    "    \n",
    "* $\\boldsymbol{\\Sigma}$ uvijek **pozitivno semidefinitna**\n",
    "  * $\\Delta^2 = \\mathbf{x}^{\\mathrm{T}}\\boldsymbol{\\Sigma}\\mathbf{x}\\geq 0$\n",
    "  * za Mahalanobisovu udaljenost vrijedi $\\Delta\\geq 0$\n",
    "\n",
    "\n",
    "* Ali, da bi PDF bila dobro definirana, $\\boldsymbol{\\Sigma}$ mora biti **pozitivno definitna**: \n",
    "  * $\\Delta^2 = \\mathbf{x}^\\mathrm{T}\\boldsymbol{\\Sigma}\\mathbf{x} > 0$ za ne-nul vektor $\\mathbf{x}$\n",
    "\n",
    "\n",
    "* $\\boldsymbol{\\Sigma}$ je pozitivno definitna $\\Rightarrow$ $\\boldsymbol{\\Sigma}$ je **nesingularna**: $|\\boldsymbol{\\Sigma}|>0$ i postoji $\\boldsymbol{\\Sigma}^{-1}$ (obrat ne vrijedi!)\n",
    "\n",
    "\n",
    "* Ako $\\boldsymbol{\\Sigma}$ nije pozitivno definitna, najčešći uzroci su\n",
    "  * $\\mathrm{Var}(x_i)=0$ (beskorisna značajka)\n",
    "  * $\\mathrm{Cov}(x_i,x_j)=1$ (redundantan par značajki)"
   ]
  },
  {
   "cell_type": "code",
   "execution_count": 25,
   "metadata": {
    "collapsed": false
   },
   "outputs": [],
   "source": [
    "mu_1 = [-2, 1]\n",
    "mu_2 = [2, 0]\n",
    "covm_1 = sp.array([[1, 1], [1, 3]])\n",
    "covm_2 = sp.array([[2, -0.5], [-0.5, 1]])\n",
    "p_c1 = 0.4\n",
    "p_c2 = 0.6\n",
    "\n",
    "likelihood_c1 = stats.multivariate_normal(mu_1, covm_1)\n",
    "likelihood_c2 = stats.multivariate_normal(mu_2, covm_2)"
   ]
  },
  {
   "cell_type": "code",
   "execution_count": 26,
   "metadata": {
    "collapsed": false
   },
   "outputs": [],
   "source": [
    "x = np.linspace(-5, 5)\n",
    "y = np.linspace(-5, 5)\n",
    "X, Y = np.meshgrid(x, y)\n",
    "XY = np.dstack((X,Y))"
   ]
  },
  {
   "cell_type": "code",
   "execution_count": 35,
   "metadata": {
    "collapsed": false
   },
   "outputs": [
    {
     "data": {
      "image/png": "[encoded data removed]",
      "text/plain": [
       "<matplotlib.figure.Figure at 0x7fc208425dd0>"
      ]
     },
     "metadata": {},
     "output_type": "display_data"
    }
   ],
   "source": [
    "plt.contour(X, Y, likelihood_c1.pdf(XY) * p_c1)\n",
    "plt.contour(X, Y, likelihood_c2.pdf(XY) * p_c2);"
   ]
  },
  {
   "cell_type": "markdown",
   "metadata": {},
   "source": [
    "* Granica između klasa $\\mathcal{C}_1$ i $\\mathcal{C}_2$ je:\n",
    "$$\n",
    "h_1(\\mathbf{x}) = h_2(\\mathbf{x})\n",
    "$$\n",
    "tj.\n",
    "$$\n",
    "h_1(\\mathbf{x}) - h_2(\\mathbf{x}) = 0\n",
    "$$"
   ]
  },
  {
   "cell_type": "code",
   "execution_count": 28,
   "metadata": {
    "collapsed": false
   },
   "outputs": [
    {
     "data": {
      "image/png": "[encoded data removed]",
      "text/plain": [
       "<matplotlib.figure.Figure at 0x7fc2086be290>"
      ]
     },
     "metadata": {},
     "output_type": "display_data"
    }
   ],
   "source": [
    "plt.contour(X, Y, likelihood_c1.pdf(XY) * p_c1, cmap='gray_r')\n",
    "plt.contour(X, Y, likelihood_c2.pdf(XY) * p_c2, cmap='gray_r')\n",
    "plt.contour(X, Y, likelihood_c1.pdf(XY) * p_c1 - likelihood_c2.pdf(XY) * p_c2, levels=[0], colors='r', linewidths=2);"
   ]
  },
  {
   "cell_type": "markdown",
   "metadata": {},
   "source": [
    "* Granca je nelinearna jer postoji član koji kvadratno ovisi o $\\mathbf{x}$ (i taj član ne iščezava kada računamo razliku $h_1(x)-h_2(x)$):"
   ]
  },
  {
   "cell_type": "markdown",
   "metadata": {},
   "source": [
    "\\begin{align*}\n",
    "    h_j(\\mathbf{x}) &=  \n",
    "\\color{gray}{-\\frac{n}{2}\\ln 2\\pi}\n",
    "  - \\frac{1}{2}\\ln|\\boldsymbol{\\Sigma}_j|\n",
    "  - \\frac{1}{2}(\\mathbf{x}-\\boldsymbol{\\mu}_j)^\\mathrm{T}\\boldsymbol{\\Sigma}_j^{-1}(\\mathbf{x}-\\mathbf{\\mu}_j) + \\ln P(\\mathcal{C}_j)\\\\\n",
    "  &\\Rightarrow\n",
    "  - \\frac{1}{2}\\ln|\\boldsymbol{\\Sigma}_j|\n",
    "  - \\frac{1}{2}\\big(\\color{red}{\\mathbf{x}^\\mathrm{T}\\boldsymbol{\\Sigma}_j^{-1}\\mathbf{x}} -2\\mathbf{x}^\\mathrm{T}\\boldsymbol{\\Sigma}_j^{-1}\\boldsymbol{\\mu}_j +\\boldsymbol{\\mu}_j^\\mathrm{T}\\boldsymbol{\\Sigma}_j^{-1}\\boldsymbol{\\mu}_j\\big) + \\ln P(\\mathcal{C}_j)\n",
    "\\end{align*}\n",
    "\n"
   ]
  },
  {
   "cell_type": "markdown",
   "metadata": {},
   "source": [
    "\n",
    "\n",
    "* Kvadratni model ima previše parametara: $\\mathcal{O}(n^2)$\n",
    "\n",
    "\n",
    "* Pojednostavljenja $\\Rightarrow$ dodatne induktivne pretpostavke?"
   ]
  },
  {
   "cell_type": "markdown",
   "metadata": {},
   "source": [
    "### 1. pojednostavljenje: dijeljena kovarijacijska matrica"
   ]
  },
  {
   "cell_type": "markdown",
   "metadata": {},
   "source": [
    "$$\n",
    "\\hat{\\boldsymbol{\\Sigma}} = \\sum_j \\hat{P}(\\mathcal{C}_j)\\hat{\\boldsymbol{\\Sigma}}_j\n",
    "$$\n",
    "\n",
    "\\begin{align*}\n",
    "h_j(\\mathbf{x})    &=  \n",
    "  \\color{gray}{- \\frac{1}{2}\\ln|\\boldsymbol{\\Sigma}|}\n",
    "  - \\frac{1}{2}(\\color{gray}{\\mathbf{x}^\\mathrm{T}\\boldsymbol{\\Sigma}^{-1}\\mathbf{x}} -2\\mathbf{x}^\\mathrm{T}\\boldsymbol{\\Sigma}^{-1}\\boldsymbol{\\mu}_j\n",
    "  +\\boldsymbol{\\mu}_j^\\mathrm{T}\\boldsymbol{\\Sigma}^{-1}\\boldsymbol{\\mu}_j) + \\ln P(\\mathcal{C}_j)\\\\\n",
    "   &\\Rightarrow\n",
    "  \\mathbf{x}^\\mathrm{T}\\boldsymbol{\\Sigma}^{-1}\\boldsymbol{\\mu}_j -\\frac{1}{2}\\boldsymbol{\\mu}_j^\\mathrm{T}\\boldsymbol{\\Sigma}^{-1}\\boldsymbol{\\mu}_j + \\ln P(\\mathcal{C}_j)\n",
    "\\end{align*}\n",
    "\n",
    "\n",
    "* Član $\\mathbf{x}^\\mathrm{T}\\boldsymbol{\\Sigma}^{-1}\\mathbf{x}$ isti je za svaki $h_j$, pa iščezava kada računamo granicu između klasa\n",
    "\n",
    "\n",
    "* Dakle, dobivamo **linearan model**!\n",
    "\n",
    "\n",
    "* Broj parametara?"
   ]
  },
  {
   "cell_type": "code",
   "execution_count": 29,
   "metadata": {
    "collapsed": false
   },
   "outputs": [],
   "source": [
    "mu_1 = [-2, 1]\n",
    "mu_2 = [2, 0]\n",
    "covm_1 = sp.array([[1, 1], [1, 3]])\n",
    "covm_2 = sp.array([[2, -0.5], [-0.5, 1]])\n",
    "p_c1 = 0.4\n",
    "p_c2 = 0.6\n",
    "\n",
    "covm_shared = (p_c1 * covm_1 + p_c2 * covm_2) / 2\n",
    "\n",
    "likelihood_c1 = stats.multivariate_normal(mu_1, covm_shared)\n",
    "likelihood_c2 = stats.multivariate_normal(mu_2, covm_shared)"
   ]
  },
  {
   "cell_type": "code",
   "execution_count": 30,
   "metadata": {
    "collapsed": false
   },
   "outputs": [
    {
     "data": {
      "image/png": "[encoded data removed]",
      "text/plain": [
       "<matplotlib.figure.Figure at 0x7fc208788350>"
      ]
     },
     "metadata": {},
     "output_type": "display_data"
    }
   ],
   "source": [
    "plt.contour(X, Y, likelihood_c1.pdf(XY) * p_c1, cmap='gray_r')\n",
    "plt.contour(X, Y, likelihood_c2.pdf(XY) * p_c2, cmap='gray_r')\n",
    "plt.contour(X, Y, likelihood_c1.pdf(XY) * p_c1 - likelihood_c2.pdf(XY) * p_c2, levels=[0], colors='r', linewidths=2);"
   ]
  },
  {
   "cell_type": "markdown",
   "metadata": {},
   "source": [
    "### 2. pojednostavljenje: dijagonalna kovarijacijska matrica"
   ]
  },
  {
   "cell_type": "markdown",
   "metadata": {},
   "source": [
    "$$\n",
    "\\boldsymbol{\\Sigma} = \\mathrm{diag}(\\sigma_i^2) \\quad \\Rightarrow \\quad \n",
    "|\\boldsymbol{\\Sigma}|=\\prod_i\\sigma_i,\\quad \n",
    "\\boldsymbol{\\Sigma}^{-1}=\\mathrm{diag}(1/\\sigma_i^2) \n",
    "$$\n",
    "\n",
    "* Izglednost klase:\n",
    "\\begin{align*}\n",
    "p(\\mathbf{x}|\\mathcal{C}_j) &= \n",
    "\\frac{1}{(2\\pi)^{n/2}|\\boldsymbol{\\Sigma}|^{1/2}}\n",
    "\\exp\\Big\\{-\\frac{1}{2}(\\mathbf{x}-\\boldsymbol{\\mu}_j)^\\mathrm{T}\\boldsymbol{\\Sigma}^{-1}(\\mathbf{x}-\\boldsymbol{\\mu}_j)\\Big\\}\\\\\n",
    "&=\n",
    "\\frac{1}{(2\\pi)^{n/2}\\color{red}{\\prod_{i=1}^n\\sigma_i}}\n",
    "\\exp\\Big\\{-\\frac{1}{2}\\sum_{i=1}^n\\Big(\\frac{x_i-\\mu_{ij}}{\\color{red}{\\sigma_i}}\\Big)^2\\Big\\}\\\\\n",
    "&= \\prod_{i=1}^n\n",
    "\\frac{1}{\\sqrt{2\\pi}\\sigma_i}\n",
    "\\exp\\Big\\{-\\frac{1}{2}(\\frac{x_i-\\mu_{ij}}{\\sigma_i}\\Big)^2\\Big\\}\n",
    "= \\prod_{i=1}^n\\mathcal{N}(\\mu_{ij},\\sigma_i^2)\n",
    "\\end{align*}\n",
    "\n",
    "\n",
    "* Dobili smo umnožak univarijatnih Gaussovih distribucija\n",
    "\n",
    "\n",
    "* **NB:** Ovo je **naivan Bayesov klasifikator** (za kontinuirane značajke)!\n",
    "  * $x_i\\bot x_k|\\mathcal{C}_j\\ \\Rightarrow\\ \\mathrm{Cov}(x_i|\\mathcal{C}_j, x_k|\\mathcal{C}_j)=0$\n",
    "  * $p(x|\\mathcal{C}_j) = \\prod_i p(x_i|\\mathcal{C}_j)$\n",
    "  \n",
    "\n",
    "* Model:\n",
    "\\begin{align*}\n",
    "    h_j(\\mathbf{x}) &= \\ln p(\\mathbf{x}|\\mathcal{C}_j) + \\ln P(\\mathcal{C}_j)\\\\\n",
    "             &\\Rightarrow\n",
    " -\\frac{1}{2}\\sum_{i=1}^n\\Big(\\frac{x_i-\\mu_{ij}}{\\sigma_i}\\Big)^2 + \\ln \\Pr{\\mathcal{C}_j}\n",
    "\\end{align*}\n",
    "\n",
    "\n",
    "* **NB:** Računamo normirane euklidske udaljenosti (normirane sa $\\sigma_i$)\n",
    "\n",
    "\n",
    "* Q: Broj parametara?"
   ]
  },
  {
   "cell_type": "code",
   "execution_count": 31,
   "metadata": {
    "collapsed": false
   },
   "outputs": [],
   "source": [
    "mu_1 = [-2, 1]\n",
    "mu_2 = [2, 0]\n",
    "p_c1 = 0.4\n",
    "p_c2 = 0.6\n",
    "\n",
    "covm_shared_diagonal = [[2,0],[0,1]]\n",
    "\n",
    "likelihood_c1 = stats.multivariate_normal(mu_1, covm_shared_diagonal)\n",
    "likelihood_c2 = stats.multivariate_normal(mu_2, covm_shared_diagonal)"
   ]
  },
  {
   "cell_type": "code",
   "execution_count": 32,
   "metadata": {
    "collapsed": false
   },
   "outputs": [
    {
     "data": {
      "image/png": "[encoded data removed]",
      "text/plain": [
       "<matplotlib.figure.Figure at 0x7fc208853310>"
      ]
     },
     "metadata": {},
     "output_type": "display_data"
    }
   ],
   "source": [
    "plt.contour(X, Y, likelihood_c1.pdf(XY) * p_c1, cmap='gray_r')\n",
    "plt.contour(X, Y, likelihood_c2.pdf(XY) * p_c2, cmap='gray_r')\n",
    "plt.contour(X, Y, likelihood_c1.pdf(XY) * p_c1 - likelihood_c2.pdf(XY) * p_c2, levels=[0], colors='r', linewidths=2);"
   ]
  },
  {
   "cell_type": "markdown",
   "metadata": {},
   "source": [
    "### 3. pojednostavljenje: izotropna kovarijacijska matrica\n",
    "\n",
    "$$\n",
    "\\boldsymbol{\\Sigma}=\\sigma^2\\mathbf{I}\n",
    "$$\n",
    "\n",
    "\\begin{equation*}\n",
    "h_j(\\mathbf{x}) = -\\frac{1}{2\\sigma^2}\\sum_{i=1}^n(x_i-\\mu_{ij})^2 + \\ln P(\\mathcal{C}_j)\n",
    "\\end{equation*}\n",
    "\n",
    "* Broj parametara?\n",
    "\n"
   ]
  },
  {
   "cell_type": "code",
   "execution_count": 33,
   "metadata": {
    "collapsed": false
   },
   "outputs": [],
   "source": [
    "mu_1 = [-2, 1]\n",
    "mu_2 = [2, 0]\n",
    "p_c1 = 0.4\n",
    "p_c2 = 0.6\n",
    "\n",
    "covm_shared_diagonal = [[1,0],[0,1]]\n",
    "\n",
    "likelihood_c1 = stats.multivariate_normal(mu_1, covm_shared_diagonal)\n",
    "likelihood_c2 = stats.multivariate_normal(mu_2, covm_shared_diagonal)"
   ]
  },
  {
   "cell_type": "code",
   "execution_count": 34,
   "metadata": {
    "collapsed": false
   },
   "outputs": [
    {
     "data": {
      "image/png": "[encoded data removed]",
      "text/plain": [
       "<matplotlib.figure.Figure at 0x7fc2087cf250>"
      ]
     },
     "metadata": {},
     "output_type": "display_data"
    }
   ],
   "source": [
    "plt.contour(X, Y, likelihood_c1.pdf(XY) * p_c1, cmap='gray_r')\n",
    "plt.contour(X, Y, likelihood_c2.pdf(XY) * p_c2, cmap='gray_r')\n",
    "plt.contour(X, Y, likelihood_c1.pdf(XY) * p_c1 - likelihood_c2.pdf(XY) * p_c2, levels=[0], colors='r', linewidths=2);"
   ]
  },
  {
   "cell_type": "markdown",
   "metadata": {},
   "source": [
    "### 4. pojednostavljenje: jednake apriorne vjerojatnosti\n",
    "\n",
    "\\begin{align*}\n",
    "    h_j(\\mathbf{x}) &= \\color{gray}{-\\frac{1}{2\\sigma^2}}\\sum_{i=1}^n(x_i-\\mu_{ij})^2 + \\color{gray}{\\ln\n",
    "    P(\\mathcal{C}_j)}\\\\\n",
    "    &\\Rightarrow - \\|\\mathbf{x}-\\boldsymbol{\\mu}_j\\|^2\\\\\n",
    "   &= -(\\mathbf{x}-\\boldsymbol{\\mu}_j)^\\mathrm{T}(\\mathbf{x}-\\boldsymbol{\\mu}_j) =\n",
    "- (\\mathbf{x}^\\mathrm{T}\\mathbf{x} - 2\\mathbf{x}^\\mathrm{T}\\boldsymbol{\\mu}_j + \\boldsymbol{\\mu}_j^\\mathrm{T}\\boldsymbol{\\mu}_j)\\\\\n",
    "&\\Rightarrow \\mathbf{w}_j^\\mathrm{T}\\mathbf{x} + w_{j0}\n",
    "\\end{align*}\n",
    "\n",
    "\n",
    "* Možemo staviti $\\mathbf{w}_j=\\boldsymbol{\\mu}_j$\n",
    "  * Dakle, model klasificira primjer $\\mathbf{x}$ u klasu $\\mathcal{C}_j$ s najbližim centroidom $\\boldsymbol{\\mu}_j$\n",
    "\n",
    "\n",
    "* Broj parametara?\n",
    "\n",
    "\n",
    "* Q: Koji model od navedenih pet odabrati? Model s punom kovarijacijskom matricom ili jedno od četiri pojednostavljenja?\n"
   ]
  },
  {
   "cell_type": "markdown",
   "metadata": {},
   "source": [
    "# Bayesov klasifikator: komponente algoritma\n",
    "\n",
    "* **(1) Model $\\mathcal{H}$:**\n",
    "$$\n",
    "        \\begin{align*}\n",
    "            \\mathcal{H} &= \\big\\{h(\\mathbf{x}|\\boldsymbol{\\theta})\\big\\}_{\\boldsymbol{\\theta}}\\\\\n",
    "            h(\\mathbf{x}|\\boldsymbol{\\theta})\n",
    "            &=\\big(h_1(\\mathbf{x}|\\boldsymbol{\\theta}_1),\\dots,h_K(\\mathbf{x}|\\boldsymbol{\\theta}_K)\\big)\\\\          \n",
    "    \\boldsymbol{\\theta} &= (\\boldsymbol{\\theta}_1,\\dots,\\boldsymbol{\\theta}_K)\\\\\n",
    "   h_j(\\mathbf{x}|\\boldsymbol{\\theta}_j) &= \\ln p(\\mathbf{x}|\\boldsymbol{\\mu}_j,\\boldsymbol{\\Sigma}_j) + \\ln P(\\mathcal{C}_j)\\\\\n",
    "            \\boldsymbol{\\theta}_j & = (\\boldsymbol{\\mu}_j,\\boldsymbol{\\Sigma}_j,P(\\mathcal{C}_j))\\\\\n",
    "        \\end{align*}\n",
    "$$\n",
    "    \n",
    "\n",
    "* generativan - diskriminativan ?\n",
    "\n",
    "* parametarski - neparametarski ?\n",
    "\n",
    "* linearan - nelinearan ?\n",
    "\n",
    "* pristanost jezika - pristranost pretraživanja ?\n",
    "\n",
    "\n",
    "* **(3) Optimizacijski postupak**\n",
    "  * MLE: \n",
    "\\begin{align*}\n",
    "    \\boldsymbol{\\theta}^* &= \n",
    "\\mathrm{argmax}_{\\boldsymbol{\\theta}}\\ \\mathcal{L}(\\boldsymbol{\\theta}|\\mathcal{D}) = \n",
    "\\mathrm{argmin}_{\\boldsymbol{\\theta}}\\ \\big(-\\mathcal{L}(\\boldsymbol{\\theta}|\\mathcal{D})\\big) \\\\\n",
    "\\end{align*}\n",
    "\n",
    "* **(2) Funkcija gubitka $L$**\n",
    "  * Možemo je izvesti iz gornjeg izraza (uvažavajući činjenicu da je ono što optimizacijski postupak minimizira funkcija pogreške, a da je funkcija pogreške jednaka očekivanju gubitka)\n",
    "  * Dobivamo:\n",
    "  $$\n",
    "  L\\big(y^{(i)},h(\\mathbf{x}^{(i)}|\\boldsymbol{\\theta})\\big) = - N \\ln p(x^{(i)},y^{(i)} | \\boldsymbol{\\theta})\n",
    "  $$\n",
    "  tj. gubitak (za neku određenu klasu) proporcionalan je s negativnom logaritmom zajedničke vjerojatnosti za tu klasu i dotičan primjer (što je veća vjerojatnost da primjer pripada u tu klasu, to je manji gubitak)\n",
    " \n"
   ]
  },
  {
   "cell_type": "markdown",
   "metadata": {},
   "source": [
    "# Sažetak\n",
    "\n",
    "\n",
    "* Bayesov klasifikator je **generativan parametarski** model koji primjere klasificira na temelju **MAP-hipoteze**\n",
    "\n",
    "\n",
    "* Učenje Bayesovog klasifikatora za kontinuirane ulaze svodi se na **procjenu parametara** (MLE, MAP)\n",
    "\n",
    "\n",
    "* Naivan Bayesov klasifikator koristi pretpostavku o **nezavisnosti značajki za zadanu klasu**, koja omogućuje **generalizaciju** i **pojednostavljuje** model (broj parametara je linearan s $n$)\n",
    "\n",
    "\n",
    "* Kod diskretnog Bayesovog klasifikatora izglednosti klasa modeliramo **Bernoullijevom/kategoričkom** razdiobom, a kod kontinuiranog **Gaussovom razdiobom** (modelira šum)\n",
    "\n",
    "\n",
    "* Naivan Bayesov klasifikator (diskretan ili kontinuiran) je **linearan model**\n",
    "\n",
    "\n",
    "* **Polunaivan klasifikator** modelira zavisnost između odabranih varijabli, čime dobivamo **složeniji model**\n"
   ]
  }
 ],
 "metadata": {
  "kernelspec": {
   "display_name": "Python 2",
   "language": "python",
   "name": "python2"
  },
  "language_info": {
   "codemirror_mode": {
    "name": "ipython",
    "version": 2
   },
   "file_extension": ".py",
   "mimetype": "text/x-python",
   "name": "python",
   "nbconvert_exporter": "python",
   "pygments_lexer": "ipython2",
   "version": "2.7.6"
  }
 },
 "nbformat": 4,
 "nbformat_minor": 0
}
