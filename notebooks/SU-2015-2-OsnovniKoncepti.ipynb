{
 "cells": [
  {
   "cell_type": "markdown",
   "metadata": {
    "slideshow": {
     "slide_type": "slide"
    }
   },
   "source": [
    "Sveučilište u Zagrebu<br>\n",
    "Fakultet elektrotehnike i računarstva\n",
    "\n",
    "# Strojno učenje\n",
    "\n",
    "<a href=\"http://www.fer.unizg.hr/predmet/su\">http://www.fer.unizg.hr/predmet/su</a>\n",
    "\n",
    "Ak. god. 2015./2016.\n",
    "\n",
    "# Bilježnica 2: Osnovni koncepti strojnog učenja\n",
    "\n",
    "(c) 2015 Jan Šnajder\n",
    "\n",
    "<i>Verzija: 0.7 (2015-10-21)</i>"
   ]
  },
  {
   "cell_type": "code",
   "execution_count": 1,
   "metadata": {
    "collapsed": false
   },
   "outputs": [
    {
     "name": "stdout",
     "output_type": "stream",
     "text": [
      "Populating the interactive namespace from numpy and matplotlib\n"
     ]
    }
   ],
   "source": [
    "import scipy as sp\n",
    "import scipy.stats as stats\n",
    "import matplotlib.pyplot as plt\n",
    "from numpy.random import normal\n",
    "%pylab inline"
   ]
  },
  {
   "cell_type": "markdown",
   "metadata": {},
   "source": [
    "### Sadržaj:\n",
    "\n",
    "* Tipični koraci primjene algoritma SU\n",
    "\n",
    "* Prostor primjera\n",
    "\n",
    "* Hipoteza i model\n",
    "\n",
    "* Empirijska pogreška\n",
    "\n",
    "* Prostor inačica\n",
    "\n",
    "* Složenost modela\n",
    "\n",
    "* Induktivna pristranost\n",
    "\n",
    "* Tri komponente svakog algoritma SU\n",
    "\n",
    "* Primjer: regresija\n",
    "\n",
    "* Problem šuma\n",
    "\n",
    "* Odabir modela"
   ]
  },
  {
   "cell_type": "markdown",
   "metadata": {},
   "source": [
    "# Tipični koraci primjene algoritma SU\n",
    "\n",
    "\n",
    "\n",
    "1. Priprema podataka\n",
    "\n",
    "2. (Označavanje podataka za učenje i ispitivanje)\n",
    "\n",
    "3. (Redukcija dimenzionalnosti)\n",
    "\n",
    "4. **Odabir modela**\n",
    "\n",
    "5. **Učenje modela**\n",
    "\n",
    "6. **Vrednovanje modela**\n",
    "\n",
    "7. **Dijagnostika i ispravljanje (debugging)**\n",
    "\n",
    "8. Instalacija (deployment)\n",
    "\n",
    "\n",
    "* Naš fokus su koraci 4-7"
   ]
  },
  {
   "cell_type": "markdown",
   "metadata": {},
   "source": [
    "# Prostor primjera\n",
    "\n",
    "\n",
    "* Prostor primjera (ulazni prostor): $\\mathcal{X}$\n",
    "\n",
    "\n",
    "* Dimenzija ulaznog prostora: $n$\n",
    "\n",
    "\n",
    "* Primjer je vektor u ulaznom prostoru: $\\mathbf{x} = (x_1, x_2, \\dots, x_n)^T \\in \\mathcal{X}$\n",
    "\n",
    "\n",
    "* Oznaka (engl. *label*) klase (za klasifikaciju) ili ciljna vrijednost (za regresiju): $y$\n",
    "\n",
    "\n",
    "* Skup oznaka klase: $\\mathcal{Y} = \\{0, \\dots, K\\}$\n",
    "  * Broj klasa: $K$\n",
    "  * Binarna klasifikacija: $K=2$, $\\mathcal{Y} = \\{0,1\\}$\n",
    "\n",
    "\n",
    "* Broj primjera: $N$\n",
    "\n",
    "\n",
    "* Skup označenih primjera za učenje: $\\mathcal{D} = \\big\\{(x^{(i)}, y^{(i)})\\big\\}_{i=1}^N \\subseteq \\mathcal{X}\\times\\mathcal{Y}$\n",
    "\n",
    "\n",
    "* Matrično:\n",
    "\\begin{array}{lllll|l}\n",
    "&x_1 & x_2 & \\cdots & x_n & \\mathbf{y}\\\\\n",
    "\\hline\n",
    "\\mathbf{x}^{(1)} = & x_1^{(1)} & x_2^{(1)} & \\cdots & x_n^{(1)} & y^{(1)}\\\\\n",
    "\\mathbf{x}^{(2)} = & x_1^{(2)} & x_2^{(2)} & \\cdots & x_n^{(2)} & y^{(2)}\\\\\n",
    "& \\vdots\\\\\n",
    "\\mathbf{x}^{(N)} = & x_1^{(N)} & x_2^{(N)} & \\cdots & x_n^{(N)} & y^{(N)}\\\\\n",
    "\\end{array}\n",
    "Matrica $\\mathcal{D}$ sastavljena je od matrice $\\mathbf{X}_{N\\times n}$ i vektora $\\mathbf{y}_{N\\times 1}$\n"
   ]
  },
  {
   "cell_type": "markdown",
   "metadata": {},
   "source": [
    "# Hipoteza i model\n",
    "\n",
    "* Hipoteza: $h : \\mathcal{X} \\to \\mathcal{Y}$\n",
    "  * Funkcija koja svakom primjeru (iz prostora primjera) dodjeljuje oznaku klase (iz skupa oznaka klase)\n",
    "\n",
    "\n",
    "* Binarna klasifikacija: $h : \\mathcal{Y} \\to \\{0, 1\\}$\n",
    "  * Definicija: Primjer $\\mathbf{x}\\in\\mathcal{X}$ **zadovoljava** hipotezu $h$ akko $h(\\mathbf{x})=1$\n",
    "  * Definicija: Hipoteza $h$ je **konzistentna** s primjerom $(\\mathbf{x}, y)$ akko $h(\\mathbf{x})=y$\n",
    "\n",
    "\n",
    "* Općenitije: $h(\\mathbf{x} | \\theta)$\n",
    "  * Funkcija parametrizirana parametrima $\\theta$ (vektor parametara)\n",
    "  * Npr.:\n",
    "    * Linearna regresija: $h(x) = \\theta_1 x + \\theta_0$\n",
    "    * Linearan klasifikacijski model: $h(x_1,x_2|\\theta_0,\\theta_1,\\theta_2) = \\mathbf{1}\\{\\theta_1 x_1 + \\theta_2 x_2 + \\theta_0 \\geq 0\\}$\n",
    "\n",
    "\n",
    "\n",
    "* Model $\\mathcal{H}$: skup hipoteza $h$\n",
    "\n",
    "\n",
    "* Formalno: $\\mathcal{H} = \\big\\{ h(\\mathbf{x} | \\theta)\\big\\}_{\\theta}$\n",
    "  * Familija funkcija parametriziranih s $\\theta$\n",
    "  \n",
    "  \n",
    "* Učenje (treniranje modela) svodi se na **pretraživanje** prostora hipoteza $\\mathcal{H}$ i nalaženje **najbolje** hipoteze $h\\in \\mathcal{H}$\n",
    "  * Najbolja hipoteza: ona koja najtočnije klasificira primjere (klasifikacija) odnosno daje vrijednosti najbliže ciljnim vrijednostima (regresija)\n",
    "  * Optimizacijski problem!\n",
    "  \n",
    "  \n",
    "* [Primjer: Ulazni prostor + prostor parametara]\n",
    "\n",
    "\n",
    "* $\\mathcal{H}$ je vrlo velik, pa nam često treba heuristička optimizacija"
   ]
  },
  {
   "cell_type": "markdown",
   "metadata": {},
   "source": [
    "# Empirijska pogreška\n",
    "\n",
    "* Iskazuje koliko točno hipoteza klasificira primjere (klasifikacija) ili koliko su vrijednosti blizu ciljnih vrijednosti (regresija)\n",
    "\n",
    "\n",
    "* Pogreška klasifikacija (engl. *misclassification error*):\n",
    "\n",
    "$$\n",
    "E(h|\\mathcal{D}) \n",
    "= \\frac{1}{N} \\sum_{i=1}^N \\mathbf{1}\\{h(\\mathbf{x})^{(i)} \\neq y^{(i)}\\}\n",
    "$$\n",
    "\n",
    "* Specifično, za binarnu klasifikaciju s $\\mathcal{Y}=\\{0,1\\}$:\n",
    "\n",
    "$$\n",
    "E(h|\\mathcal{D}) = \\frac{1}{N} \\sum_{i=1}^N |h(\\mathbf{x})^{(i)} - y^{(i)}|\n",
    "$$\n",
    "\n",
    "* [Primjer]\n",
    "\n",
    "\n",
    "* Vrijednost pogreške načinjene na pojedinačnom primjeru (funkcija unutar sume) zove se **funkcija gubitka** (engl. *loss function*)\n",
    "  * Gubitak $\\mathbf{1}\\{h(\\mathbf{x})^{(i)} \\neq y^{(i)}\\}$ zove se **gubitak nula-jedan** (engl. *zero-one loss*)"
   ]
  },
  {
   "cell_type": "markdown",
   "metadata": {},
   "source": [
    "# Prostor inačica (engl. *version space*)\n",
    "\n",
    "\n",
    "* $\\mathit{VS}_{\\mathcal{H},\\mathcal{D}} \\subseteq \\mathcal{H}$\n",
    "\n",
    "\n",
    "* Skup hipoteza iz $\\mathcal{H}$ koje su konzistentne s primjerima za učenje $\\mathcal{D}$\n",
    "\n",
    "$$\n",
    "\\mathit{VS}_{\\mathcal{H},\\mathcal{D}} =\n",
    "\\Big\\{h\\in\\mathcal{H} \\mid \\forall(\\mathbf{x},y)\\in\\mathcal{D}.\\ \\big(h(\\mathbf{x})=y\\big)\\Big\\}\n",
    "$$\n",
    "\n",
    "* [Primjer]\n",
    "\n"
   ]
  },
  {
   "cell_type": "markdown",
   "metadata": {},
   "source": [
    "# Složenost modela\n",
    "\n",
    "\n",
    "* Idealno, u modelu $\\mathcal{H}$ postoji hipoteza $h$ koja je konzistentna s $\\mathcal{D}$, tj. hipoteza za koju vrijedi $E(h|\\mathcal{D}) = 0$\n",
    "\n",
    "\n",
    "* No, moguće je da takva $h$ ne postoji, tj. $\\forall h\\in\\mathcal{H}. E(h|\\mathcal{D}) > 0$\n",
    "\n",
    "\n",
    "* Tada kažemo da model $\\mathcal{H}$ nije dovoljne **složenosti** (ili kapaciteta)\n",
    "\n",
    "\n",
    "* [Primjer]\n",
    "\n",
    "\n",
    "* [Zadatak: 6 primjera]"
   ]
  },
  {
   "cell_type": "markdown",
   "metadata": {},
   "source": [
    "#Induktivna pristranost (engl. *inductive bias*)\n",
    "\n",
    "* Učenje hipoteze je **loše definiran problem**: $h$ ne slijedi deduktivno iz $\\mathcal{D}$\n",
    "\n",
    "\n",
    "* Primjer 1: Učenje Booleove funkcije\n",
    "\n",
    "\\begin{array}{ccc|c}\n",
    "x_1 & x_2 & x_3 & y\\\\\n",
    "\\hline\n",
    "0&0&0&\\color{red}{\\textbf{?}}\\\\\n",
    "0&0&1&\\color{red}{\\textbf{?}}\\\\\n",
    "0&1&0&1\\\\\n",
    "0&1&1&0\\\\\n",
    "1&0&0&1\\\\\n",
    "1&0&1&0\\\\\n",
    "1&1&0&\\color{red}{\\textbf{?}}\\\\\n",
    "1&1&1&1\\\\\n",
    "\\end{array}\n",
    "\n",
    "* $N = |\\mathcal{D}|=5$, $n=3$, $\\mathcal{X} = \\{0,1\\}^3$, $|\\mathit{VS}| = 2^{2^n - N} = 8$\n",
    "\n",
    "\n",
    "* **Generalizacija** - sposobnost klasifikacije još neviđenih primjera\n",
    "\n",
    "\n",
    "* Učenje i generalizacija nisu mogući bez **dodatnih pretpostavki**\n",
    "  * *Futility of bias-free learning*\n",
    "\n",
    "\n",
    "* **Induktivna pristranost** (engl. inductive bias)\n",
    "  * $\\mathcal{L}$ - algoritam učenja\n",
    "  * $h_\\mathcal{L}$ - hipoteza inducirana pomoću $\\mathcal{L}$ na $\\mathcal{D}$\n",
    "  * $h_\\mathcal{L}(\\mathbf{x})$ - klasifikacija primjera $\\mathbf{x}\\in\\mathcal{X}$\n",
    "  * Induktivna pristranost od $\\mathcal{L}$ je bilo koji skup minimalnih pretpostavki $\\mathcal{B}$ takvih da \n",
    "  \n",
    "$$\n",
    "  \\forall \\mathcal{D}.\\,\\forall\\mathbf{x}\\in \\mathcal{X}.\\,\\big((\\mathcal{B}\\land\\mathcal{D}\\land\\mathbf{x})\\ \\vdash\\ h_\\mathcal{L}(\\mathbf{x})\\big)\n",
    "$$\n",
    "\n",
    "\n",
    "* Skup pretpostavki koje *od indukcije čine dedukciju*\n",
    "\n",
    "\n",
    "* Dvije vrste induktivne pristranosti:\n",
    "\n",
    "  * **Pristranost jezika** (pristranost ograničenjem): odabiremo model $\\mathcal{H}$ koji ograničava skup prikazivih hipoteza\n",
    "  \n",
    "  * **Pristranost preferencijom** (pristranost pretraživanja): definiramo način pretraživanja unutar $\\mathcal{H}$\n",
    "  \n",
    "  \n",
    "* Većina aloritama SU kombinira obje vrste pristranosti\n",
    "\n",
    "\n",
    "* [Primjer 2: Ulazni prostor + prostor parametara]\n",
    "\n",
    "\n",
    "* Zadatak 3: \n",
    "  * Učenje Booleove funkcije u $\\mathcal{X}=\\{0,1\\}$, $\\mathcal{H}$ je skup pravaca\n",
    "  * Q: Koja je ovo vrsta pristranosti?\n",
    "  * Q: Koliko različitih hipoteza postoji?\n",
    "  * Q: Postoji li za svako označavanje konzistentna hipoteza u $\\mathcal{H}$?\n",
    "  \n",
    "  \n",
    "* Razmotrimo opet Primjer 1, uz $\\mathcal{H} = \\text{skup ravnina u $\\mathbb{R}^3$}$"
   ]
  },
  {
   "cell_type": "markdown",
   "metadata": {},
   "source": [
    "#Tri komponente svakog algoritma SU\n",
    "\n",
    "\n",
    "* **(1) Model** $\\mathcal{H}$\n",
    "  * $\\mathcal{H} = \\big\\{ h(\\mathbf{x} | \\theta)\\big\\}_{\\theta}$\n",
    "\n",
    "\n",
    "* **(2) Funkcija gubitka** $L(y, h(\\mathbf{x}))$\n",
    "\n",
    "  * Izračunava kolika je pogreška hipoteze (naučenog modela) na primjeru $\\mathbf{x}^{(i)}$\n",
    "\n",
    "  * Uobičajene funkcije gubitka:\n",
    "    * Kvadratno odstupanje (regresija): $L\\big(y,h(\\mathbf{x}^{(i)}|\\theta)\\big)=(h(\\mathbf{x}^{(i)}|\\theta) - y^{(i)})^2$\n",
    "    * Gubitak 0-1 (klasifikacija): $L\\big(y,h(\\mathbf{x}^{(i)}|\\theta)\\big) = \\mathbf{1}\\{h(\\mathbf{x})^{(i)} \\neq y^{(i)}\\}$\n",
    " \n",
    " \n",
    "* **Funkcija pogreške** definirana je kao očekivana vrijednost funkcije gubitka na primjerima iz $\\mathcal{X}\\times\\mathcal{Y}$\n",
    "$$\n",
    "E(h) = \\mathbb{E}_{\\mathbf{x},y}[L]\n",
    "$$\n",
    "  * Međutim, prava distribucija primjera i oznaka, $P(\\mathbf{x}, y)$ je nepoznata, pa umjesto toga računamo *empirijsku pogrešku* (pogrešku na skupu označenih primjera $\\mathcal{D}$)\n",
    "$$E(h|\\mathcal{D}) = \\mathbb{E}_{D}[L] = \\frac{1}{N} \\sum_{i=1}^N L\\big(y^{(i)}, h(\\mathbf{x}^{(i)})\\big)$$\n",
    "  * Budući da su hipoteze indeksirane preko parametara $\\theta$, možemo pisati\n",
    "$$E(\\color{red}{\\theta}|\\mathcal{D}) = \\mathbb{E}_{D}[L] = \\frac{1}{N} \\sum_{i=1}^N L\\big(y^{(i)}, h(\\mathbf{x}^{(i)}|\\color{red}{\\theta})\\big)$$\n",
    "\n",
    "* **(3) Optimizacijski postupak**\n",
    "\n",
    "  * Postupak kojim nalazimo hipotezu $h^*$ koja minimizira empirijsku pogrešku\n",
    "$$\n",
    "h^* = \\mathrm{argmin}_{h\\in\\mathcal{H}} E(h|\\mathcal{D})\n",
    "$$\n",
    "tj. \n",
    "$$\n",
    "\\theta^* = \\mathrm{argmin}_{\\theta} E(\\theta|\\mathcal{D})\n",
    "$$\n",
    "\n",
    "\n",
    "* Optimizacija može biti analitička ili heuristička\n",
    "  * Analitičke postupke koristimo kada postoji rješenje u **zatvorenoj formi**\n",
    "\n",
    "\n",
    "* Gornje tri komponente definiraju i induktivnu pristranost svakog algoritma\n",
    "  * Q: Koja vrsta induktivne pristranosti je vezana uz koje komponente?"
   ]
  },
  {
   "cell_type": "markdown",
   "metadata": {},
   "source": [
    "# Primjer: regresija\n",
    "\n",
    "* $y \\in \\mathbb{R}$\n",
    "\n",
    "\n",
    "* Na temelju $\\mathcal{D}=\\{(\\mathbf{x}^{(i)},y^{(i)})\\}$ učimo funkciju $h$ koja aproksimira nepoznatu funkciju $f:\\mathcal{X}\\to\\mathbb{R}$\n",
    "\n",
    "\n",
    "* Idealno, $y^{(i)}=f(\\mathbf{x}^{(i)})$, ali zbog šuma  $y=f(\\mathcal{x}^{(i)})+\\varepsilon$ \n",
    "\n",
    "\n",
    "* [Primjeri: Box Office Revenue, prosjek ocjena, cijena automobila]\n",
    "\n",
    "\n",
    "* Funkcija gubitka je kvadratna:\n",
    "$$\n",
    "L(y, h(\\mathbf{x})) = (y - h(\\mathbf{x}))^2\n",
    "$$\n",
    "pa je empirijska pogreška hipoteze\n",
    "$$\n",
    "E(h|\\mathcal{D})=\\color{red}{\\frac{1}{2}}\\sum_{i=1}^N\\big(y^{(i)}-h(\\mathbf{x}^{(i)})\\big)^2\n",
    "$$\n",
    "NB: Umjesto $1/N$, kod pogreške regresije koristimo $1/2$ zbog kasnije matematičke jednostavnosti. To međutim nema utjecaja na optimizaciju (radi se o konstanti)\n",
    "\n",
    "* **Linearan model**: hiperravnina u $\\mathbb{R}^n$\n",
    "\n",
    "$$\n",
    "h(\\mathbf{x}|\\mathbf{w}) = w_1 x_1 + w_2 x_2 + \\dots + w_n x_n + w_0 = \n",
    "\\sum_{i=1}^n w_i x_i + w_0 = \\mathbf{w}^T\\mathbf{x} + w_0\n",
    "$$\n",
    "\n",
    "* Za $n=2$ imamo $\\mathcal{X}=\\mathbb{R}$. Model je\n",
    "$$\n",
    "h(x|\\mathbf{w}) = w_1 x + w_0\n",
    "$$\n",
    "funkcija gubitka je\n",
    "$$\n",
    "L(y^{(i)}, h(x^{(i)})) = \\big(y^{(i)}-(w_1 x^{(i)} + w_0)\\big)^2\n",
    "$$\n",
    "a pogreška je\n",
    "\n",
    "$$\n",
    "E(h|\\mathcal{D})=\\frac{1}{2}\n",
    "\\sum_{i=1}^N\\big(y^{(i)}-(w_1 x^{(i)} + w_0)\\big)^2\n",
    "$$"
   ]
  },
  {
   "cell_type": "markdown",
   "metadata": {},
   "source": [
    "**(1) Model**:"
   ]
  },
  {
   "cell_type": "code",
   "execution_count": 2,
   "metadata": {
    "collapsed": false
   },
   "outputs": [],
   "source": [
    "def h(x, w): return w[1] * x + w[0]"
   ]
  },
  {
   "cell_type": "markdown",
   "metadata": {},
   "source": [
    "**(2) Funkcija gubitka** (i njoj odgovarajuća funkcija pogreške):"
   ]
  },
  {
   "cell_type": "code",
   "execution_count": 3,
   "metadata": {
    "collapsed": false
   },
   "outputs": [],
   "source": [
    "def quadratic_loss(y, hx):\n",
    "    return (y - hx)**2\n",
    "    \n",
    "def error(h, X, y):\n",
    "    err = 0\n",
    "    for xi, yi in zip(X, y):\n",
    "        err += quadratic_loss(yi, h(xi))\n",
    "    return 0.5 * err"
   ]
  },
  {
   "cell_type": "markdown",
   "metadata": {},
   "source": [
    "Funkcija koja generira podatke (i koju zapravo želimo naučiti):"
   ]
  },
  {
   "cell_type": "code",
   "execution_count": 4,
   "metadata": {
    "collapsed": false
   },
   "outputs": [
    {
     "data": {
      "image/png": "[encoded data removed]",
      "text/plain": [
       "<matplotlib.figure.Figure at 0x7f5f67e06450>"
      ]
     },
     "metadata": {},
     "output_type": "display_data"
    }
   ],
   "source": [
    "def f(x): return 3 * x + 2\n",
    "xs = sp.linspace(0, 10)\n",
    "plt.plot(xs, f(xs));"
   ]
  },
  {
   "cell_type": "markdown",
   "metadata": {},
   "source": [
    "Skup primjera za učenje $\\mathcal{D}=(\\mathbf{X},\\mathbf{y})$ dobiven je iz $f(x)$, uz dodatan šum:"
   ]
  },
  {
   "cell_type": "code",
   "execution_count": 5,
   "metadata": {
    "collapsed": false
   },
   "outputs": [],
   "source": [
    "X = linspace(0, 10)\n",
    "y = f(X) + 2 * stats.norm.rvs(scale=3, size=50)"
   ]
  },
  {
   "cell_type": "code",
   "execution_count": 6,
   "metadata": {
    "collapsed": false
   },
   "outputs": [
    {
     "data": {
      "text/plain": [
       "array([  0.        ,   0.20408163,   0.40816327,   0.6122449 ,\n",
       "         0.81632653,   1.02040816,   1.2244898 ,   1.42857143,\n",
       "         1.63265306,   1.83673469,   2.04081633,   2.24489796,\n",
       "         2.44897959,   2.65306122,   2.85714286,   3.06122449,\n",
       "         3.26530612,   3.46938776,   3.67346939,   3.87755102,\n",
       "         4.08163265,   4.28571429,   4.48979592,   4.69387755,\n",
       "         4.89795918,   5.10204082,   5.30612245,   5.51020408,\n",
       "         5.71428571,   5.91836735,   6.12244898,   6.32653061,\n",
       "         6.53061224,   6.73469388,   6.93877551,   7.14285714,\n",
       "         7.34693878,   7.55102041,   7.75510204,   7.95918367,\n",
       "         8.16326531,   8.36734694,   8.57142857,   8.7755102 ,\n",
       "         8.97959184,   9.18367347,   9.3877551 ,   9.59183673,\n",
       "         9.79591837,  10.        ])"
      ]
     },
     "execution_count": 6,
     "metadata": {},
     "output_type": "execute_result"
    }
   ],
   "source": [
    "X"
   ]
  },
  {
   "cell_type": "code",
   "execution_count": 7,
   "metadata": {
    "collapsed": false
   },
   "outputs": [
    {
     "data": {
      "text/plain": [
       "50"
      ]
     },
     "execution_count": 7,
     "metadata": {},
     "output_type": "execute_result"
    }
   ],
   "source": [
    "len(_)"
   ]
  },
  {
   "cell_type": "code",
   "execution_count": 8,
   "metadata": {
    "collapsed": false
   },
   "outputs": [
    {
     "data": {
      "text/plain": [
       "array([  0.67064434,   7.31239169,   9.56400499,   0.2890283 ,\n",
       "         6.96746129,  14.86178311,  12.60975181,  -0.28934441,\n",
       "         6.44890713,   7.28992995,  13.72389263,  19.61341887,\n",
       "        15.62669111,  14.43066191,   8.76710654,  19.48489724,\n",
       "        -1.27170224,  10.81539578,  21.36130674,  14.3632114 ,\n",
       "        14.6825962 ,  12.37886072,   5.04860612,  27.01349903,\n",
       "        14.15906195,   8.62295154,  16.36435167,  15.92878647,\n",
       "        12.01783068,  25.11064324,  24.71867488,  25.64192171,\n",
       "        21.53657671,  26.70048261,  30.36258764,  22.37268596,\n",
       "        27.29906374,  32.14498482,  12.14117217,  16.54494565,\n",
       "        32.29949169,  13.98599392,  26.27138558,  28.5969641 ,\n",
       "        29.10679964,  26.91455084,  32.36537598,  31.40052367,\n",
       "        29.39580935,  23.59296505])"
      ]
     },
     "execution_count": 8,
     "metadata": {},
     "output_type": "execute_result"
    }
   ],
   "source": [
    "y"
   ]
  },
  {
   "cell_type": "code",
   "execution_count": 6,
   "metadata": {
    "collapsed": false
   },
   "outputs": [
    {
     "name": "stderr",
     "output_type": "stream",
     "text": [
      "/usr/local/lib/python2.7/dist-packages/matplotlib/collections.py:590: FutureWarning: elementwise comparison failed; returning scalar instead, but in the future will perform elementwise comparison\n",
      "  if self._edgecolors == str('face'):\n"
     ]
    },
    {
     "data": {
      "image/png": "[encoded data removed]",
      "text/plain": [
       "<matplotlib.figure.Figure at 0x7f5f53b6e710>"
      ]
     },
     "metadata": {},
     "output_type": "display_data"
    }
   ],
   "source": [
    "plt.plot(xs, f(xs), '--')\n",
    "plt.scatter(X, y)\n",
    "plt.show()"
   ]
  },
  {
   "cell_type": "markdown",
   "metadata": {},
   "source": [
    "Dvije hipoteze iz našeg modela:"
   ]
  },
  {
   "cell_type": "code",
   "execution_count": 7,
   "metadata": {
    "collapsed": false
   },
   "outputs": [],
   "source": [
    "def h1(x): return h(x, [0,1])\n",
    "def h2(x): return h(x, [0,2])"
   ]
  },
  {
   "cell_type": "code",
   "execution_count": 8,
   "metadata": {
    "collapsed": false
   },
   "outputs": [
    {
     "data": {
      "image/png": "[encoded data removed]",
      "text/plain": [
       "<matplotlib.figure.Figure at 0x7f5f51a95650>"
      ]
     },
     "metadata": {},
     "output_type": "display_data"
    }
   ],
   "source": [
    "weights = [[0,1], [0,2], [1,2]]\n",
    "plt.plot(xs, f(xs), '--')\n",
    "plt.scatter(X, y)\n",
    "plt.plot(xs, h1(xs), 'r', label='h1')\n",
    "plt.plot(xs, h2(xs), 'g', label='h2')\n",
    "plt.legend();"
   ]
  },
  {
   "cell_type": "markdown",
   "metadata": {},
   "source": [
    "Empirijske pogreške hipoteza na skupu $\\mathcal{D}$:"
   ]
  },
  {
   "cell_type": "code",
   "execution_count": 9,
   "metadata": {
    "collapsed": false
   },
   "outputs": [
    {
     "data": {
      "text/plain": [
       "5025.9784792784731"
      ]
     },
     "execution_count": 9,
     "metadata": {},
     "output_type": "execute_result"
    }
   ],
   "source": [
    "error(h1, X, y)"
   ]
  },
  {
   "cell_type": "code",
   "execution_count": 10,
   "metadata": {
    "collapsed": false
   },
   "outputs": [
    {
     "data": {
      "text/plain": [
       "2156.5878715137965"
      ]
     },
     "execution_count": 10,
     "metadata": {},
     "output_type": "execute_result"
    }
   ],
   "source": [
    "error(h2, X, y)"
   ]
  },
  {
   "cell_type": "markdown",
   "metadata": {},
   "source": [
    "**(3) Optimizacijski postupak**\n",
    "\n",
    "* Tražimo $h\\in\\mathcal{H}$ koja minimizira empirijsku pogrešku\n",
    "\n",
    "$$\n",
    "h^* = \n",
    "\\mathrm{argmin}_{h\\in\\mathcal{H}} E(h|\\mathcal{D}) = \n",
    "\\mathrm{argmin}_{h\\in\\mathcal{H}} \\frac{1}{2}\n",
    "\\sum_{i=1}^N\\big(y^{(i)}-h(x^{(i)})\\big)^2\n",
    "$$\n",
    "\n",
    "* Hipoteza $h$ je indeksirana parametrima $(w_0, w_1)$, dakle zapravo tražimo\n",
    "\n",
    "$$\n",
    "(w_0,w_1)^* =\n",
    "\\mathrm{argmin}_{w_0,w_1} \\frac{1}{2} \n",
    "\\sum_{i=1}^N\\big(y^{(i)}-(w_1 x^{(i)} + w_0)\\big)^2\n",
    "$$\n",
    "\n",
    "* U ovom slučaju postoji **analitičko rješenje** (rješenje u zatvorenoj formi)\n",
    "\n",
    "\\begin{eqnarray*}\n",
    "    && \\nabla_{w_0,w_1} E(h|\\mathcal{D})=0\\\\\n",
    "    &&\\frac{\\partial}{\\partial w_0}\\Big[\n",
    "\\frac{1}{2}\\sum_i^N\\big(y^{(i)}-(w_1 x^{(i)}+ w_0)\\big)^2\\Big] = 0 \\\\\n",
    "&&\\frac{\\partial}{\\partial w_1}\\Big[\\frac{1}{2}\\sum_i^N\\big(y^{(i)}-(w_1 x^{(i)}+\n",
    "w_0)\\big)^2\\Big] = 0\\\\\n",
    "&&\\vdots\\\\\n",
    "&& w_0= \\bar{y} - w_1\\bar{x}\\\\\n",
    "&& w_1 = \\frac{\\sum_i^N x^{(i)}y^{(i)} - N\\bar{x}\\bar{y} }\n",
    "{\\sum_i^N(x^{(i)})^2 - N\\bar{x}^2}\n",
    "\\end{eqnarray*}\n"
   ]
  },
  {
   "cell_type": "code",
   "execution_count": 11,
   "metadata": {
    "collapsed": false
   },
   "outputs": [],
   "source": [
    "N = len(X)\n",
    "x_mean = sp.mean(X)\n",
    "y_mean = sp.mean(y)\n",
    "w1 = (np.dot(X, y) - N * x_mean * y_mean) / (sum(X**2) - N * (x_mean**2))\n",
    "w0 = sp.mean(y) - w1 * sp.mean(X)"
   ]
  },
  {
   "cell_type": "code",
   "execution_count": 12,
   "metadata": {
    "collapsed": false
   },
   "outputs": [
    {
     "name": "stdout",
     "output_type": "stream",
     "text": [
      "2.82127363032 2.57918900236\n"
     ]
    }
   ],
   "source": [
    "print w1, w0"
   ]
  },
  {
   "cell_type": "code",
   "execution_count": 13,
   "metadata": {
    "collapsed": false
   },
   "outputs": [],
   "source": [
    "def h_best(x): return h(x, [w0,w1])"
   ]
  },
  {
   "cell_type": "code",
   "execution_count": 14,
   "metadata": {
    "collapsed": false
   },
   "outputs": [
    {
     "data": {
      "image/png": "[encoded data removed]",
      "text/plain": [
       "<matplotlib.figure.Figure at 0x7f5f518d7590>"
      ]
     },
     "metadata": {},
     "output_type": "display_data"
    }
   ],
   "source": [
    "plt.plot(xs, f(xs), '--')\n",
    "plt.scatter(X, y)\n",
    "plt.plot(xs, h_best(xs), 'r');"
   ]
  },
  {
   "cell_type": "code",
   "execution_count": 15,
   "metadata": {
    "collapsed": false
   },
   "outputs": [
    {
     "data": {
      "text/plain": [
       "892.91671935457725"
      ]
     },
     "execution_count": 15,
     "metadata": {},
     "output_type": "execute_result"
    }
   ],
   "source": [
    "error(h_best, X, y)"
   ]
  },
  {
   "cell_type": "markdown",
   "metadata": {},
   "source": [
    "* U gornjem primjeru radili smo s modelom prvog stupnja\n",
    "\n",
    "$$\n",
    "h_1(x) = w_1 x + w_0\n",
    "$$\n",
    "\n",
    "* Međutim, mogli smo odabrati i složeniji model, npr. polinom drugog stupnja:\n",
    "$$\n",
    "h_2(x) = w_2 x^2 + w_1 x + w_0\n",
    "$$\n",
    "ili četvrtog stupnja:\n",
    "$$\n",
    "h_4(x) = w_4 x^4 + w_3 x^3 + w_2 x^2 + w_1 x + w_0\n",
    "$$\n",
    "\n",
    "* Ovo je i dalje linearna regresija, i dalje ima analitičko rješenje"
   ]
  },
  {
   "cell_type": "code",
   "execution_count": 16,
   "metadata": {
    "collapsed": false
   },
   "outputs": [],
   "source": [
    "from SU import PolyRegression"
   ]
  },
  {
   "cell_type": "code",
   "execution_count": 18,
   "metadata": {
    "collapsed": false
   },
   "outputs": [],
   "source": [
    "X1 = X.reshape((50,1))\n",
    "h2 = PolyRegression(2).fit(X1, y)\n",
    "h4 = PolyRegression(4).fit(X1, y)"
   ]
  },
  {
   "cell_type": "code",
   "execution_count": 19,
   "metadata": {
    "collapsed": false
   },
   "outputs": [
    {
     "data": {
      "image/png": "[encoded data removed]",
      "text/plain": [
       "<matplotlib.figure.Figure at 0x7f5f4b313f90>"
      ]
     },
     "metadata": {},
     "output_type": "display_data"
    }
   ],
   "source": [
    "plt.plot(xs, f(xs), '--')\n",
    "plt.scatter(X, y)\n",
    "plt.plot(X1, h2.predict(X1), 'r');\n",
    "plt.plot(X1, h4.predict(X1), 'g');"
   ]
  },
  {
   "cell_type": "code",
   "execution_count": 20,
   "metadata": {
    "collapsed": false
   },
   "outputs": [
    {
     "data": {
      "text/plain": [
       "885.87751643487434"
      ]
     },
     "execution_count": 20,
     "metadata": {},
     "output_type": "execute_result"
    }
   ],
   "source": [
    "error(h2, X, y)"
   ]
  },
  {
   "cell_type": "code",
   "execution_count": 21,
   "metadata": {
    "collapsed": false
   },
   "outputs": [
    {
     "data": {
      "text/plain": [
       "845.62372708741623"
      ]
     },
     "execution_count": 21,
     "metadata": {},
     "output_type": "execute_result"
    }
   ],
   "source": [
    "error(h4, X, y)"
   ]
  },
  {
   "cell_type": "markdown",
   "metadata": {},
   "source": [
    "\n",
    "* Možemo očekivati da vrijedi:\n",
    "$$\n",
    "E(h_4|\\mathcal{D}) \\leq E(h_2|\\mathcal{D}) \\leq E(h_1|\\mathcal{D})\n",
    "$$\n",
    "Q: Zašto?\n",
    "\n",
    "\n",
    "* Q: Koji model odabrati u ovom slučaju?\n",
    "\n",
    "\n",
    "* Q: Koji model općenito odabrati za neke podatke $\\mathcal{D}$?"
   ]
  },
  {
   "cell_type": "markdown",
   "metadata": {},
   "source": [
    "# Problem šuma\n",
    "\n",
    "* **Šum** je neželjena anomalija u podacima\n",
    "\n",
    "\n",
    "* Mogući uzroci:\n",
    "  * Nepreciznost pri mjerenju značajki\n",
    "  * Pogreške u označavanju (engl. *teacher noise*)\n",
    "  * Postojanje skrivenih značajki (latentnih varijabli)\n",
    "  * Nejasne granice klasa (subjektivnost)\n",
    "\n",
    "\n",
    "* Zbog šuma je granica između pozitivnih i negativnih primjera složenija nego što bi idealno bila!\n",
    "\n",
    "\n",
    "* [Primjer 1: binarna klasifikacija po značajkama dobi i prihoda]\n",
    "\n",
    "\n",
    "* Jednostavni modeli ne mogu doseći $E(h|\\mathcal{D})=0$\n",
    "\n",
    "\n",
    "* S druge strane, složeni modeli uče šum, a ne pravu klasifikaciju!\n",
    "\n",
    "\n",
    "* [Primjer 2]\n",
    "\n",
    "\n",
    "* Šum u načelu nije moguće odvojiti od pravih podataka\n",
    "  * Moguće je samo za stršeće vrijednosti (engl. *outliers*)"
   ]
  },
  {
   "cell_type": "markdown",
   "metadata": {},
   "source": [
    "# Odabir modela\n",
    "\n",
    "* Moramo odabrati model $\\mathcal{H}$ (učenje bez pristranosti je uzaludno)!\n",
    "\n",
    "\n",
    "* Često radimo odabir modela unutar neke familije modela (npr. kod regresije: odabir stupnja polinoma)\n",
    "\n",
    "\n",
    "* Stupanj polinoma je **hiperparametar** modela ($w_i$ su parametri)\n",
    "\n",
    "\n",
    "* ** Odabir modela = optimizacija modela, optimizacija hiperparametara **\n"
   ]
  },
  {
   "cell_type": "markdown",
   "metadata": {},
   "source": [
    "### Primjer: regresija"
   ]
  },
  {
   "cell_type": "code",
   "execution_count": 22,
   "metadata": {
    "collapsed": false
   },
   "outputs": [
    {
     "data": {
      "image/png": "[encoded data removed]",
      "text/plain": [
       "<matplotlib.figure.Figure at 0x7f5f518f2ad0>"
      ]
     },
     "metadata": {},
     "output_type": "display_data"
    }
   ],
   "source": [
    "def g(x): return x**3 - 10 * x**2 + 2 * x - 2\n",
    "xs = sp.linspace(0, 10)\n",
    "plt.plot(xs, g(xs));"
   ]
  },
  {
   "cell_type": "code",
   "execution_count": 23,
   "metadata": {
    "collapsed": false
   },
   "outputs": [
    {
     "data": {
      "image/png": "[encoded data removed]",
      "text/plain": [
       "<matplotlib.figure.Figure at 0x7f5f4b272690>"
      ]
     },
     "metadata": {},
     "output_type": "display_data"
    }
   ],
   "source": [
    "X = sp.linspace(0,10)\n",
    "y = g(X) + 5 * stats.norm.rvs(scale=3, size=50)\n",
    "plt.plot(xs, g(xs), '--')\n",
    "plt.scatter(X, y)\n",
    "plt.show()"
   ]
  },
  {
   "cell_type": "code",
   "execution_count": 24,
   "metadata": {
    "collapsed": false
   },
   "outputs": [
    {
     "name": "stdout",
     "output_type": "stream",
     "text": [
      "error(h1) = 45943.12\n",
      "error(h2) = 12409.02\n",
      "error(h3) = 4554.71\n",
      "error(h4) = 4480.06\n",
      "error(h5) = 4262.50\n",
      "error(h6) = 3971.45\n",
      "error(h7) = 3663.57\n"
     ]
    },
    {
     "data": {
      "image/png": "[encoded data removed]",
      "text/plain": [
       "<matplotlib.figure.Figure at 0x7f5f461eb050>"
      ]
     },
     "metadata": {},
     "output_type": "display_data"
    }
   ],
   "source": [
    "plt.plot(xs, g(xs), '--')\n",
    "plt.scatter(X, y)\n",
    "\n",
    "X1 = X.reshape((50,1))\n",
    "for degree in range(1, 8):\n",
    "    h = PolyRegression(degree).fit(X1, y)\n",
    "    plt.plot(X1, h.predict(X1), label=\"d=%d\" % degree);\n",
    "    print \"error(h%d) = %.2f\" % (degree, error(h, X, y))\n",
    "plt.legend()\n",
    "plt.show()"
   ]
  },
  {
   "cell_type": "markdown",
   "metadata": {},
   "source": [
    "\n",
    "* Model koji odgovara pravoj funkciji koja je generirala podatke je $h_3$, tj. **optimalan hiperparametar je $d=3$**\n",
    "\n",
    "\n",
    "* Modeli $h_1$ i $h_2$ imaju veću pogrešku od $h_3$ i njih sigurno ne bismo uzeli\n",
    "\n",
    "\n",
    "* Međutim, modeli $h_4$ i $h_5$ imaju manju pogrešku od $h_3$\n",
    "\n",
    "* Očito, što je veći kapacitet modela $\\mathcal{H}$, to je manja pogreška $E(h|\\mathcal{D})$, $h\\in\\mathcal{H}$\n",
    "\n",
    "\n",
    "* Ali model mora moći **generalizirati!**\n",
    "\n",
    "\n",
    "* Preferiramo jednostavne modele\n",
    "  * bolja generalizacija\n",
    "  * lakše učenje/uporaba\n",
    "  * lakše tumačenje\n",
    "\n",
    "\n",
    "* **Occamova britva**\n",
    "\n",
    "<img src=\"http://muslimsi.com/wp-content/uploads/2014/12/quote-occam-s-razor-no-more-things-should-be-presumed-to-exist-than-are-absolutely-necessary-i-e-the-william-of-occam-372636-846x398.jpg\" width=\"70%\" align=\"left\">\n",
    "\n"
   ]
  },
  {
   "cell_type": "markdown",
   "metadata": {},
   "source": [
    "\n",
    "* Trebamo odabrati model koji točno odgovara *pravoj složenosti* funkcije koju nastojimo naučiti\n",
    "\n",
    "\n",
    "* Dvije krajnosti:\n",
    "\n",
    "  * **Podnaučenost (engl. underfitting)** - $\\mathcal{H}$ je prejednostavan u odnosu na stvarnu funkciju $\\Rightarrow$ loša klasifikacija na viđenim i neviđenim primjerima\n",
    "\n",
    "  * **Prenaučenost (engl. overfitting)** - $\\mathcal{H}$ je previše složen u odnosu na stvarnu funkciju $\\Rightarrow$ loša klasifikacija na neviđenim primjerima (loša generalizacija)\n",
    "  \n",
    "  \n",
    "* [Primjer: Podnaučenost/prenaučenost kod klasifikacije]\n",
    "\n",
    "\n",
    "* Drugi pogled: \n",
    "  * Jednostavan model ima **visoku pristranost** (engl. high bias)\n",
    "  * Složen model ima **visoku varijancu** (engl. high variance)\n",
    "  * Odabir modela $\\Rightarrow$ kompromis između pristranosti i varijance (engl. bias-variance tradeoff)\n",
    "  * Optimalan model minimizira zajednički pristranost i varijancu\n",
    "\n",
    "\n",
    "* **Pretpostavka induktivnog učenja**\n",
    "    * Ako je **(1)** pogreška hipoteze na dovoljno velikom skupu primjera za učenje mala i **(2)** ako model nije suviše složen, hipoteza će dobro klasificirati i nove, **(3)** slične primjere"
   ]
  },
  {
   "cell_type": "markdown",
   "metadata": {},
   "source": [
    "# Unakrsna provjera (engl. *cross-validation*)\n",
    "\n",
    "* Metoda za procjenu sposobnosti generalizacije modela\n",
    "    * Skup primjera dijelimo na **skup za učenje** i **skup za ispitivanje**\n",
    "     $$\n",
    "        \\mathcal{D} = \\mathcal{D}_{\\mathrm{train}} \\cup \\mathcal{D}_{\\mathrm{test}}\n",
    "     $$\n",
    "    * Model učimo na skupu za učenje, a ispitujemo na skupu za ispitivanje\n",
    "    * Primjeri iz skupa za ispitivanje model dosad nije vidio, pa na tom skupu dobivamo dobru (pravednu) procjenu pogreške generalizacije\n",
    "\n",
    "\n",
    "* Računamo dvije pogreške za $h\\in\\mathcal{H}$:\n",
    "    * **Pogreška učenja** (engl. *train error*): empirijska pogreška hipoteze na skupu za učenje, $P(h|\\mathcal{D}_{\\mathrm{train}})$\n",
    "    * **Ispitna pogreška** (engl. *test error*): empirijska pogreška hipoteze na skupu za ispitivanje, $P(h|\\mathcal{D}_{\\mathrm{test}})$ \n",
    "    \n",
    "\n",
    "* $P(h|\\mathcal{D}_{\\mathrm{train}})$ pada sa složenošću modela, dok $P(h|\\mathcal{D}_{\\mathrm{test}})$ tipično prvo opada a zatim raste\n",
    "\n",
    "\n",
    "* Optimalan model je onaj koji minimizira $P(h|\\mathcal{D}_{\\mathrm{test}})$\n",
    "\n",
    "\n",
    "* [Graf: Pogreške s obzirom na složenost modela]\n",
    "\n",
    "\n",
    "* Što ako želimo optimirati parametre modela?\n",
    "   \n",
    "   * Ne možemo to raditi na skupu za provjeru!\n",
    "   \n",
    "   * Trebamo još jedan skup: **skup za provjeru** (engl. *validation set*)\n",
    "   \n",
    "   * Tročlana particija skupa primjera:\n",
    "    $$\n",
    "        \\mathcal{D} = \\mathcal{D}_{\\mathrm{train}} \\cup \\mathcal{D}_{\\mathrm{val}} \\cup \\mathcal{D}_{\\mathrm{test}}\n",
    "    $$\n",
    "    $$\n",
    "        \\mathcal{D}_{\\mathrm{train}} \\cap \\mathcal{D}_{\\mathrm{val}} = \n",
    "        \\mathcal{D}_{\\mathrm{train}} \\cap \\mathcal{D}_{\\mathrm{test}} =\n",
    "        \\mathcal{D}_{\\mathrm{val}} \\cap \\mathcal{D}_{\\mathrm{test}} = \\emptyset\n",
    "    $$\n"
   ]
  },
  {
   "cell_type": "markdown",
   "metadata": {},
   "source": [
    "### Primjer: Regresija"
   ]
  },
  {
   "cell_type": "code",
   "execution_count": 25,
   "metadata": {
    "collapsed": false
   },
   "outputs": [],
   "source": [
    "XY = np.column_stack((X1, y))\n",
    "np.random.shuffle(XY)"
   ]
  },
  {
   "cell_type": "code",
   "execution_count": 28,
   "metadata": {
    "collapsed": false
   },
   "outputs": [],
   "source": [
    "X_train, y_train = XY[:30,0:1], XY[:30,1]\n",
    "X_test, y_test = XY[30:,0:1], XY[30:,1]"
   ]
  },
  {
   "cell_type": "code",
   "execution_count": 29,
   "metadata": {
    "collapsed": false
   },
   "outputs": [
    {
     "data": {
      "text/plain": [
       "(30, 20)"
      ]
     },
     "execution_count": 29,
     "metadata": {},
     "output_type": "execute_result"
    }
   ],
   "source": [
    "len(X_train), len(X_test)"
   ]
  },
  {
   "cell_type": "code",
   "execution_count": 30,
   "metadata": {
    "collapsed": false
   },
   "outputs": [
    {
     "data": {
      "image/png": "[encoded data removed]",
      "text/plain": [
       "<matplotlib.figure.Figure at 0x7f5f519459d0>"
      ]
     },
     "metadata": {},
     "output_type": "display_data"
    }
   ],
   "source": [
    "plt.plot(xs, g(xs), '--')\n",
    "plt.scatter(X_train, y_train, c='b')\n",
    "plt.scatter(X_test, y_test, c='r');"
   ]
  },
  {
   "cell_type": "code",
   "execution_count": 31,
   "metadata": {
    "collapsed": false
   },
   "outputs": [
    {
     "name": "stdout",
     "output_type": "stream",
     "text": [
      "train_error(h1) = 29464.92; test_error(h1) = 17336.67\n",
      "train_error(h2) = 7791.35; test_error(h2) = 4718.77\n",
      "train_error(h3) = 3002.65; test_error(h3) = 1657.94\n",
      "train_error(h4) = 2912.17; test_error(h4) = 1787.16\n",
      "train_error(h5) = 2612.13; test_error(h5) = 1754.30\n",
      "train_error(h6) = 2158.16; test_error(h6) = 2150.77\n",
      "train_error(h7) = 1937.27; test_error(h7) = 1916.90\n"
     ]
    },
    {
     "data": {
      "image/png": "[encoded data removed]",
      "text/plain": [
       "<matplotlib.figure.Figure at 0x7f5f46016850>"
      ]
     },
     "metadata": {},
     "output_type": "display_data"
    }
   ],
   "source": [
    "plt.plot(xs, g(xs), '--')\n",
    "plt.scatter(X_train, y_train, c='b')\n",
    "plt.scatter(X_test, y_test, c='r');\n",
    "\n",
    "for degree in range(1, 8):\n",
    "    h = PolyRegression(degree).fit(X_train, y_train)\n",
    "    plt.plot(X1, h.predict(X1), label=\"d=%d\" % degree);\n",
    "    print \"train_error(h%d) = %.2f; test_error(h%d) = %.2f\" % (degree, error(h, X_train, y_train), degree, error(h, X_test, y_test))\n",
    "plt.legend()\n",
    "plt.show()"
   ]
  },
  {
   "cell_type": "code",
   "execution_count": 32,
   "metadata": {
    "collapsed": false
   },
   "outputs": [],
   "source": [
    "train_errors = []\n",
    "test_errors = []\n",
    "degrees = range(1,8)\n",
    "for degree in degrees:\n",
    "    h = PolyRegression(degree).fit(X_train, y_train)\n",
    "    train_error = error(h, X_train, y_train)\n",
    "    test_error = error(h, X_test, y_test)\n",
    "    train_errors.append(train_error)\n",
    "    test_errors.append(test_error)"
   ]
  },
  {
   "cell_type": "code",
   "execution_count": 33,
   "metadata": {
    "collapsed": false
   },
   "outputs": [
    {
     "data": {
      "image/png": "[encoded data removed]",
      "text/plain": [
       "<matplotlib.figure.Figure at 0x7f5f4606bed0>"
      ]
     },
     "metadata": {},
     "output_type": "display_data"
    }
   ],
   "source": [
    "plt.plot(list(degrees), train_errors, label=\"train_error\")\n",
    "plt.plot(list(degrees), test_errors, label=\"test_error\")\n",
    "plt.legend()\n",
    "plt.show()"
   ]
  },
  {
   "cell_type": "markdown",
   "metadata": {},
   "source": [
    "# Odabir modela kao minimizacija rizika*\n",
    "\n",
    "* Pogled na problem optimizacije modela iz **statističke teorije učenja**\n",
    "\n",
    "\n",
    "* Rizik = očekivanje gubitka = pogreška hipoteze\n",
    "\n",
    "\n",
    "* **Empirijski rizik $R_{\\mathrm{emp}}$** = procjena pogreške na skupu primjera, $E(h|\\mathcal{D})$\n",
    "\n",
    "\n",
    "* **Strukturni rizik $R_{\\mathrm{struct}}$** = kvantifikacija složenosti modela\n",
    "  * Npr.: broj parametara, veličina zapisa modela i sl.\n",
    "  * Što je model složeniji, to je veći strukturni rizik\n",
    "  \n",
    "\n",
    "* Želimo modele $\\mathcal{H}$ koji (za naučenu $h\\in\\mathcal{H}$) minimiziraju i empirijski i strukturni rizik\n",
    "$$\n",
    "R_{\\mathrm{emp}}(h) + \\lambda R_{\\mathrm{struct}}(h)\n",
    "$$\n",
    "gdje $\\lambda$ definira važnost empirijskog rizika u odnosu na strukturni\n",
    "\n",
    "\n",
    "* [Grafikon: empirijska + strukturna pogreška]\n",
    "\n",
    "\n",
    "* Dakle, umjesto minimizacije\n",
    "$$\n",
    "h^* = \\mathrm{argmin}_{h\\in\\mathcal{H}} E(h|\\mathcal{D})\n",
    "$$\n",
    "imamo\n",
    "$$\n",
    "h^* = \\mathrm{argmin}_{h\\in\\mathcal{H}} E(h|\\mathcal{D}) + \\lambda R_{\\mathrm{struct}}(h)\n",
    "$$\n",
    "\n",
    "\n",
    "* Minimizacija strukturnog rizika je alternativa unakrsnoj provjeri\n",
    "\n",
    "\n",
    "* U praksi ipak koristimo unakrsnu provjeru (jer je pouzdanija)\n",
    "\n",
    "\n",
    "* Često kombiniramo unakrsnu provjeru s minimizacjom strukturnog rizika (tzv. regularizacija)"
   ]
  },
  {
   "cell_type": "markdown",
   "metadata": {},
   "source": [
    "# Sažetak\n",
    "\n",
    "* **Hipoteza** je funkcija koja klasificira primjere (kod klasifikcije) ili daje brojčanu vrijednost (kod regresije), a **model** je skup hipoteza\n",
    "\n",
    "\n",
    "* Različiti modeli imaju različite **složenosti** (kapacitete)\n",
    "\n",
    "\n",
    "* Učenje nije moguće bez **induktivne pristranosti**, koja može **pristranost jezika** ili **pristranost preferencijom**\n",
    "\n",
    "\n",
    "* Svaki algoritam SU ima tri komponente: **model**, **funkciju gubitka** i **optimizacijski postupak**\n",
    "\n",
    "\n",
    "* Empirijsku pogrešku hipoteze izračunavamo kao očekivanje funkcije gubitka na skupu primjera\n",
    "\n",
    "\n",
    "* Učenje modela svodi se na **optimizaciju parametara** modela s empirijskom pogreškom kao kriterijem\n",
    "  * Konkretno, kod regresije postoji **analitičko rješenje** za taj problem\n",
    "\n",
    "\n",
    "* Model koji je **podnaučen** ili **prenaučen** loše generalizira\n",
    "\n",
    "\n",
    "* Odabir modela svodi se na **optimiranje hiperparametara** modela\n",
    "\n",
    "\n",
    "* **Unakrsnom provjerom** možemo procijeniti **pogreška generalizacije** i odabrati optimalan model\n"
   ]
  }
 ],
 "metadata": {
  "kernelspec": {
   "display_name": "Python 2",
   "language": "python",
   "name": "python2"
  },
  "language_info": {
   "codemirror_mode": {
    "name": "ipython",
    "version": 2
   },
   "file_extension": ".py",
   "mimetype": "text/x-python",
   "name": "python",
   "nbconvert_exporter": "python",
   "pygments_lexer": "ipython2",
   "version": "2.7.6"
  }
 },
 "nbformat": 4,
 "nbformat_minor": 0
}
