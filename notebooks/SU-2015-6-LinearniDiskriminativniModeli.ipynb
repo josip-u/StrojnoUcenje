{
 "cells": [
  {
   "cell_type": "markdown",
   "metadata": {
    "slideshow": {
     "slide_type": "slide"
    }
   },
   "source": [
    "Sveučilište u Zagrebu<br>\n",
    "Fakultet elektrotehnike i računarstva\n",
    "\n",
    "# Strojno učenje\n",
    "\n",
    "<a href=\"http://www.fer.unizg.hr/predmet/su\">http://www.fer.unizg.hr/predmet/su</a>\n",
    "\n",
    "Ak. god. 2015./2016.\n",
    "\n",
    "# Bilježnica 6: Linearni diskriminativni modeli\n",
    "\n",
    "(c) 2015 Jan Šnajder\n",
    "\n",
    "<i>Verzija: 0.1 (2015-11-11)</i>"
   ]
  },
  {
   "cell_type": "code",
   "execution_count": 188,
   "metadata": {
    "collapsed": false
   },
   "outputs": [
    {
     "name": "stdout",
     "output_type": "stream",
     "text": [
      "Populating the interactive namespace from numpy and matplotlib\n"
     ]
    }
   ],
   "source": [
    "import scipy as sp\n",
    "import scipy.stats as stats\n",
    "import matplotlib.pyplot as plt\n",
    "import pandas as pd\n",
    "%pylab inline"
   ]
  },
  {
   "cell_type": "markdown",
   "metadata": {},
   "source": [
    "### Sadržaj:\n",
    "\n",
    "* Uvod\n",
    "\n",
    "* Poopćeni linearni model\n",
    "\n",
    "* Geometrija linearnog modela\n",
    "\n",
    "* Višeklasna klasifikacija\n",
    "\n",
    "* Klasifikacija regresijom\n",
    "\n",
    "* Gradijentni spust\n",
    "\n",
    "* Perceptron\n",
    "\n",
    "* Sažetak"
   ]
  },
  {
   "cell_type": "markdown",
   "metadata": {},
   "source": [
    "# Uvod\n",
    "\n",
    "* **Diskriminativni modeli:** Za razliku od generativnih modela, koji modeliraju\n",
    "$\n",
    "P(\\mathcal{C}_j|\\mathbf{x})\\ \\propto\\ P(\\mathbf{x}|\\mathcal{C}_j) P(\\mathcal{C}_j)\n",
    "$, \n",
    "modeliramo:\n",
    "  * izravno aposteriornu vjerojatnost klase, $P(\\mathcal{C}_j|\\mathbf{x})$, ili\n",
    "  * izravno *diskriminacijsku* (klasifikacijsku) funkciju $h(\\mathbf{x})$\n",
    "  \n",
    " \n",
    "* **Linearan modeli:** Granica je linearna (hiperravnina):\n",
    " \n",
    "$$\n",
    "h(\\mathbf{x}) = \\mathbf{w}^\\intercal\\tilde{\\mathbf{x}}\n",
    "$$\n",
    "\n",
    "\n",
    "* Model je linearan u značajkama $\\mathbf{x}$ $\\Rightarrow$ to daje linearnu granica u <u>ulaznom\n",
    "prostoru</u>\n",
    "\n",
    "\n",
    "* Granica je hiperravnina za koju $h(\\mathbf{x})=0$ ili $h(\\mathbf{x})=0.5$ (ovisno o modelu)\n",
    "\n",
    "\n",
    "* Granicu zovemo **diskriminativna funkcija** (engl. *discriminative functions*) ili **granica odluke**, **decizijska granica** (engl. *decision boundary*)"
   ]
  },
  {
   "cell_type": "code",
   "execution_count": 189,
   "metadata": {
    "collapsed": true
   },
   "outputs": [],
   "source": [
    "def h(x, w): return sp.dot(x, w)"
   ]
  },
  {
   "cell_type": "code",
   "execution_count": 190,
   "metadata": {
    "collapsed": false
   },
   "outputs": [],
   "source": [
    "def plot_decision_boundary(h, boundary=0, margins=None):\n",
    "    x = linspace(-10, 10)\n",
    "    y = linspace(-10, 10)\n",
    "    X1, X2 = np.meshgrid(x, y)\n",
    "    XX = sp.dstack((sp.ones((50, 50)), X1, X2))\n",
    "    plt.contour(X1, X2, h(XX), linecolor='red', levels=[boundary])\n",
    "    if margins!=None:\n",
    "        CS = plt.contour(X1, X2, h(XX), colors=['gray', 'gray'], levels=[margins[0],margins[1]])\n",
    "        plt.clabel(CS, fontsize=9, inline=1)"
   ]
  },
  {
   "cell_type": "code",
   "execution_count": 191,
   "metadata": {
    "collapsed": false
   },
   "outputs": [
    {
     "data": {
      "image/png": "[encoded data removed]",
      "text/plain": [
       "<matplotlib.figure.Figure at 0x7fe4193b6810>"
      ]
     },
     "metadata": {},
     "output_type": "display_data"
    }
   ],
   "source": [
    "w = [-2, 1, -0.5]\n",
    "plot_decision_boundary(lambda x : h(x, w), margins=(-1,1))"
   ]
  },
  {
   "cell_type": "code",
   "execution_count": 112,
   "metadata": {
    "collapsed": false
   },
   "outputs": [
    {
     "data": {
      "image/png": "[encoded data removed]",
      "text/plain": [
       "<matplotlib.figure.Figure at 0x7fe4194cac90>"
      ]
     },
     "metadata": {},
     "output_type": "display_data"
    }
   ],
   "source": [
    "w = [2, -1, 0.5]\n",
    "plot_decision_boundary(lambda x : h(x, w), margins=(-1,1))"
   ]
  },
  {
   "cell_type": "code",
   "execution_count": 115,
   "metadata": {
    "collapsed": false
   },
   "outputs": [
    {
     "data": {
      "image/png": "[encoded data removed]",
      "text/plain": [
       "<matplotlib.figure.Figure at 0x7fe418c44610>"
      ]
     },
     "metadata": {},
     "output_type": "display_data"
    }
   ],
   "source": [
    "w = [2, -1.5, 0.3]\n",
    "plot_decision_boundary(lambda x : h(x, w), margins=(-1,1))"
   ]
  },
  {
   "cell_type": "markdown",
   "metadata": {},
   "source": [
    "# Poopćeni linearan model\n",
    "\n",
    "* **Aktivacijska funkcija:** nelinearna funkcija \n",
    "$$\n",
    "f:\\mathbb{R}\\to[0,1]\n",
    "$$ \n",
    "ili\n",
    "$$\n",
    "f:\\mathbb{R}\\to[-1,1]\n",
    "$$\n",
    "\n",
    "\n",
    "* Poopćeni linearan model (engl. *generalized linear model*, GLM):\n",
    "\n",
    "$$\n",
    "    h(\\mathbf{x}) = \\color{red}{f\\big(}\\mathbf{w}^\\intercal\\tilde{\\mathbf{x}}\\color{red}{\\big)}\n",
    "$$\n",
    "\n",
    "$\\Rightarrow$ **Linearna granica** u ulaznom prostoru (premda je $f$ nelinearna)\n",
    "\n",
    "$\\Rightarrow$ Model je **nelinearan u parametrima** (jer je $f$ nelinearna)\n",
    "\n",
    "* Tipične funkcije preslikavanja:\n",
    "  * Funkcija identiteta (tj. kao da nema preslikavanja)\n",
    "  * Sigmoidalna (logistička) funkcija\n",
    "  * Funkcija skoka (step-funkcija)"
   ]
  },
  {
   "cell_type": "code",
   "execution_count": 32,
   "metadata": {
    "collapsed": false
   },
   "outputs": [
    {
     "data": {
      "image/png": "[encoded data removed]",
      "text/plain": [
       "<matplotlib.figure.Figure at 0x7fe4191b2610>"
      ]
     },
     "metadata": {},
     "output_type": "display_data"
    }
   ],
   "source": [
    "xs = sp.linspace(-5,5, 100)\n",
    "plt.plot(xs, xs);"
   ]
  },
  {
   "cell_type": "code",
   "execution_count": 33,
   "metadata": {
    "collapsed": false
   },
   "outputs": [
    {
     "data": {
      "image/png": "[encoded data removed]",
      "text/plain": [
       "<matplotlib.figure.Figure at 0x7fe4190a41d0>"
      ]
     },
     "metadata": {},
     "output_type": "display_data"
    }
   ],
   "source": [
    "def sigm(x): return 1 / (1 + sp.exp(-x))\n",
    "\n",
    "plt.plot(xs, sigm(xs));"
   ]
  },
  {
   "cell_type": "code",
   "execution_count": 34,
   "metadata": {
    "collapsed": false
   },
   "outputs": [
    {
     "data": {
      "image/png": "[encoded data removed]",
      "text/plain": [
       "<matplotlib.figure.Figure at 0x7fe4190e4cd0>"
      ]
     },
     "metadata": {},
     "output_type": "display_data"
    }
   ],
   "source": [
    "plt.plot(xs, sign(xs));"
   ]
  },
  {
   "cell_type": "markdown",
   "metadata": {},
   "source": [
    "* Odabir funkcije $f$ nema utjecaja na linearnost granice, budući da će, očigledno, funkcija $f$ za iste ulazne vrijednosti $\\mathbf{w}^\\intercal\\mathbf{x}$ davati iste vrijednosti $f(\\mathbf{w}^\\intercal\\mathbf{x})$"
   ]
  },
  {
   "cell_type": "code",
   "execution_count": 192,
   "metadata": {
    "collapsed": false
   },
   "outputs": [
    {
     "data": {
      "image/png": "[encoded data removed]",
      "text/plain": [
       "<matplotlib.figure.Figure at 0x7fe418d85190>"
      ]
     },
     "metadata": {},
     "output_type": "display_data"
    }
   ],
   "source": [
    "w = [-4, 2, -1]\n",
    "plot_decision_boundary(lambda x : h(x, w), margins=(-1,1))"
   ]
  },
  {
   "cell_type": "code",
   "execution_count": 193,
   "metadata": {
    "collapsed": false
   },
   "outputs": [
    {
     "data": {
      "image/png": "[encoded data removed]",
      "text/plain": [
       "<matplotlib.figure.Figure at 0x7fe418e91d10>"
      ]
     },
     "metadata": {},
     "output_type": "display_data"
    }
   ],
   "source": [
    "plot_decision_boundary(lambda x : sigm(sp.dot(x, w)), boundary=0.5, margins=(0.1,0.9))"
   ]
  },
  {
   "cell_type": "markdown",
   "metadata": {},
   "source": [
    "Kao i kod regresije, možemo koristiti preslikavanje\n",
    "    $\\boldsymbol{\\phi}:\\mathbb{R}^n\\to\\mathbb{R}^m$ iz ulaznog\n",
    "prostora u prostor značajki:\n",
    "\n",
    "$$\n",
    "    h(\\mathbf{x}) = f\\big(\\mathbf{w}^\\intercal\\mathbf{\\phi}(\\mathbf{x})\\big)\n",
    "$$\n",
    "\n",
    "$\\Rightarrow$ Linearna granica u prostoru značajki\n",
    "\n",
    "$\\Rightarrow$ **Nelinearna granica** u ulaznom\n",
    "prostoru\n",
    "\n",
    "$\\Rightarrow$ Model je **nelinearan u parametrima** (jer je $f$ nelinearna)\n"
   ]
  },
  {
   "cell_type": "markdown",
   "metadata": {},
   "source": [
    "### Primjer:\n",
    "\n",
    "* Preslikavanje iz dvodimenzijskog ulaznog prostora u 5-dimenzijski prostor značajki\n",
    "\n",
    "$$\n",
    "\\boldsymbol{\\phi}(\\mathbf{x}) = (1,x_1,x_2,x_1 x_2, x_1^2, x_2^2)\n",
    "$$"
   ]
  },
  {
   "cell_type": "code",
   "execution_count": 194,
   "metadata": {
    "collapsed": false
   },
   "outputs": [],
   "source": [
    "def h2(x, w): \n",
    "    x2 = sp.dstack((x, x[:,:,1]*x[:,:,2], x[:,:,1]**2, x[:,:,2]**2))\n",
    "    return sp.dot(x2, w)"
   ]
  },
  {
   "cell_type": "code",
   "execution_count": 121,
   "metadata": {
    "collapsed": false
   },
   "outputs": [
    {
     "data": {
      "image/png": "[encoded data removed]",
      "text/plain": [
       "<matplotlib.figure.Figure at 0x7fe418fa30d0>"
      ]
     },
     "metadata": {},
     "output_type": "display_data"
    }
   ],
   "source": [
    "w = [-0.05 , -0.15 , -0.5 ,  0.15  , -0.08  ,  0.05]\n",
    "plot_decision_boundary(lambda x : h2(x, w), margins=[-1, 1])"
   ]
  },
  {
   "cell_type": "markdown",
   "metadata": {},
   "source": [
    "# Geometrija linearnog modela"
   ]
  },
  {
   "cell_type": "markdown",
   "metadata": {},
   "source": [
    "* [Skica]\n",
    "\n",
    "\n",
    "* Za točke $\\mathbf{x}_1$ i $\\mathbf{x}_2$ na hiperravnini:\n",
    "$$\n",
    "h(\\mathbf{x}_1)=h(\\mathbf{x}_2)=0\\quad \\Rightarrow\\quad \\mathbf{w}^\\intercal(\\mathbf{x}_1-\\mathbf{x}_2) = 0\n",
    "$$\n",
    "$\\Rightarrow$ $\\mathbf{w}$ je normala hiperravnine\n",
    "\n",
    "\n",
    "* **NB:** U iduće dvije točke $\\mathbf{w}$ ne uključuje $w_0$\n",
    "\n",
    "\n",
    "* Za točku $\\mathbf{x}$ na hiperravnini:\n",
    "$$\n",
    "\\mathbf{w}^\\intercal\\mathbf{x} + w_0 = 0 \\quad\\Rightarrow\\quad\n",
    "\\frac{\\mathbf{w}^\\intercal\\mathbf{x}}{\\|\\mathbf{w}\\|}=-\\frac{w_0}{\\|\\mathbf{w}\\|}\n",
    "$$\n",
    "$\\Rightarrow$ udaljenost ravnine od ishodišta je $-w_0/\\|\\mathbf{w}\\|$\n",
    "\n",
    "\n",
    "* Za točku $\\mathbf{x}$ izvan hiperravnine:\n",
    "$$\n",
    "\\begin{align*}\n",
    "\\mathbf{x} &= \\mathbf{x}_{\\bot} + d\\frac{\\mathbf{w}}{\\|\\mathbf{w}\\|}\\\\\n",
    "\\mathbf{w}^\\intercal\\mathbf{x} + w_0 &= \\mathbf{w}^\\intercal\\mathbf{x}_{\\bot} + w_0 + d \\frac{\\mathbf{w}^\\intercal\\mathbf{w}}{\\|\\mathbf{w}\\|}\\\\\n",
    "h(\\mathbf{x}) &= d \\|\\mathbf{w}\\|\n",
    "\\end{align*}\n",
    "$$\n",
    "\n",
    "$\\Rightarrow$ udaljenost točke $\\mathbf{x}$ od ravnine je $d=h(\\mathbf{x})/\\|\\mathbf{w}\\|$\n",
    "  * $h(\\mathbf{x}) > 0\\ \\Rightarrow\\ $ $\\mathbf{x}$ je na strani hiperravnine u smjeru normale $\\mathbf{w}$\n",
    "  * $h(\\mathbf{x}) < 0\\ \\Rightarrow\\ $ $\\mathbf{x}$ je na suprotnoj strani hiperravnine\n",
    "  * $h(\\mathbf{x}) = 0\\ \\Rightarrow\\ $ $\\mathbf{x}$ je na hiperravnini"
   ]
  },
  {
   "cell_type": "code",
   "execution_count": 122,
   "metadata": {
    "collapsed": false
   },
   "outputs": [
    {
     "data": {
      "image/png": "[encoded data removed]",
      "text/plain": [
       "<matplotlib.figure.Figure at 0x7fe4193e6950>"
      ]
     },
     "metadata": {},
     "output_type": "display_data"
    }
   ],
   "source": [
    "w = sp.array([-4, 2, -1])\n",
    "X = sp.array([[1, 5, -1],\n",
    "              [1, -5, 5]])\n",
    "\n",
    "plot_decision_boundary(lambda x : h(x, w), margins=(-1, 1))\n",
    "plt.scatter(X[:,1],X[:,2]);"
   ]
  },
  {
   "cell_type": "code",
   "execution_count": 78,
   "metadata": {
    "collapsed": false
   },
   "outputs": [
    {
     "data": {
      "text/plain": [
       "7"
      ]
     },
     "execution_count": 78,
     "metadata": {},
     "output_type": "execute_result"
    }
   ],
   "source": [
    "h(X[0], w)"
   ]
  },
  {
   "cell_type": "code",
   "execution_count": 82,
   "metadata": {
    "collapsed": false
   },
   "outputs": [
    {
     "data": {
      "text/plain": [
       "-19"
      ]
     },
     "execution_count": 82,
     "metadata": {},
     "output_type": "execute_result"
    }
   ],
   "source": [
    "h(X[1], w)"
   ]
  },
  {
   "cell_type": "code",
   "execution_count": 176,
   "metadata": {
    "collapsed": false
   },
   "outputs": [
    {
     "data": {
      "text/plain": [
       "2.2360679774997898"
      ]
     },
     "execution_count": 176,
     "metadata": {},
     "output_type": "execute_result"
    }
   ],
   "source": [
    "sp.linalg.norm(w[1:])"
   ]
  },
  {
   "cell_type": "code",
   "execution_count": 195,
   "metadata": {
    "collapsed": false
   },
   "outputs": [],
   "source": [
    "def distance(x,w): return sp.dot(x, w) / sp.linalg.norm(w[1:])"
   ]
  },
  {
   "cell_type": "code",
   "execution_count": 196,
   "metadata": {
    "collapsed": false
   },
   "outputs": [
    {
     "data": {
      "text/plain": [
       "3.1304951684997055"
      ]
     },
     "execution_count": 196,
     "metadata": {},
     "output_type": "execute_result"
    }
   ],
   "source": [
    "distance(X[0], w)"
   ]
  },
  {
   "cell_type": "code",
   "execution_count": 180,
   "metadata": {
    "collapsed": false
   },
   "outputs": [
    {
     "data": {
      "text/plain": [
       "-8.4970583144992009"
      ]
     },
     "execution_count": 180,
     "metadata": {},
     "output_type": "execute_result"
    }
   ],
   "source": [
    "distance(X[1], w)"
   ]
  },
  {
   "cell_type": "code",
   "execution_count": 181,
   "metadata": {
    "collapsed": false
   },
   "outputs": [
    {
     "data": {
      "image/png": "[encoded data removed]",
      "text/plain": [
       "<matplotlib.figure.Figure at 0x7fe4195fb290>"
      ]
     },
     "metadata": {},
     "output_type": "display_data"
    }
   ],
   "source": [
    "w2 = w/10.0\n",
    "\n",
    "plot_decision_boundary(lambda x : h(x, w2), margins=(-1,1))\n",
    "plt.scatter(X[:,1],X[:,2]);"
   ]
  },
  {
   "cell_type": "code",
   "execution_count": 182,
   "metadata": {
    "collapsed": false
   },
   "outputs": [
    {
     "data": {
      "text/plain": [
       "0.69999999999999996"
      ]
     },
     "execution_count": 182,
     "metadata": {},
     "output_type": "execute_result"
    }
   ],
   "source": [
    "h(X[0], w2)"
   ]
  },
  {
   "cell_type": "code",
   "execution_count": 183,
   "metadata": {
    "collapsed": false
   },
   "outputs": [
    {
     "data": {
      "text/plain": [
       "-1.8999999999999999"
      ]
     },
     "execution_count": 183,
     "metadata": {},
     "output_type": "execute_result"
    }
   ],
   "source": [
    "h(X[1], w2)"
   ]
  },
  {
   "cell_type": "code",
   "execution_count": 185,
   "metadata": {
    "collapsed": false
   },
   "outputs": [
    {
     "data": {
      "text/plain": [
       "0.223606797749979"
      ]
     },
     "execution_count": 185,
     "metadata": {},
     "output_type": "execute_result"
    }
   ],
   "source": [
    "sp.linalg.norm(w2[1:])"
   ]
  },
  {
   "cell_type": "code",
   "execution_count": 186,
   "metadata": {
    "collapsed": false
   },
   "outputs": [
    {
     "data": {
      "text/plain": [
       "3.1304951684997051"
      ]
     },
     "execution_count": 186,
     "metadata": {},
     "output_type": "execute_result"
    }
   ],
   "source": [
    "distance(X[0], w2)"
   ]
  },
  {
   "cell_type": "code",
   "execution_count": 187,
   "metadata": {
    "collapsed": false
   },
   "outputs": [
    {
     "data": {
      "text/plain": [
       "-8.4970583144991991"
      ]
     },
     "execution_count": 187,
     "metadata": {},
     "output_type": "execute_result"
    }
   ],
   "source": [
    "distance(X[1], w2)"
   ]
  },
  {
   "cell_type": "markdown",
   "metadata": {},
   "source": [
    "# Višeklasna klasifikacija ($K>2$)\n",
    "\n",
    "\n",
    "* Shema **jedan-naspram-jedan** (engl. *one-vs-one*, **OVO**)   \n",
    "  * $K\\choose 2$ binarnih klasifikatora, razdjeljuju sve parove klasa\n",
    "  * Model:\n",
    "$$\n",
    "h(\\mathbf{x})=\\mathrm{argmax}_i\\sum_{i\\neq j}\\mathrm{sgn}\\big(h_{ij}(\\mathbf{x})\\big)\n",
    "$$\n",
    "gdje $h_{ji}(\\mathbf{x})=- h_{ij}(\\mathbf{x})$\n",
    "\n",
    "\n",
    "* [Skica: OVO]\n",
    "\n",
    "\n",
    "* Shema **jedan-naspram-ostali** (engl. *one-vs-rest*, **OVR**, *one-vs-all*) \n",
    "  * $K$ binarnih klasifikatora s pouzdanošću, po jedan za svaku klasu\n",
    "  * Model:\n",
    "$$\n",
    "h(\\mathbf{x}) = \\mathrm{argmax}_j\\ h_j(\\mathbf{x})\n",
    "$$\n",
    "\n",
    "\n",
    "* [Skica: OVR]\n",
    "\n",
    "\n",
    "* Prednost OVR nad OVO je da imamo manje modela, međutim OVR lako rezultira neuravnoteženim brojem primjera kroz klase"
   ]
  },
  {
   "cell_type": "code",
   "execution_count": 197,
   "metadata": {
    "collapsed": false
   },
   "outputs": [
    {
     "data": {
      "image/png": "[encoded data removed]",
      "text/plain": [
       "<matplotlib.figure.Figure at 0x7fe41907a190>"
      ]
     },
     "metadata": {},
     "output_type": "display_data"
    }
   ],
   "source": [
    "h1 = lambda x: h(x, [0, 2, 1])\n",
    "plot_decision_boundary(h1)\n",
    "h2 = lambda x: h(x, [-0.2, 0.7, -0.8])\n",
    "plot_decision_boundary(h2)\n",
    "h3 = lambda x: h(x, [-1.5, 0.1, 0.5])\n",
    "plot_decision_boundary(h3)\n",
    "plt.scatter(X[:,1],X[:,2]);"
   ]
  },
  {
   "cell_type": "code",
   "execution_count": 152,
   "metadata": {
    "collapsed": false
   },
   "outputs": [
    {
     "name": "stdout",
     "output_type": "stream",
     "text": [
      "9 4.1 -1.5\n"
     ]
    }
   ],
   "source": [
    "print h1(X[0]), h2(X[0]), h3(X[0])"
   ]
  },
  {
   "cell_type": "code",
   "execution_count": 153,
   "metadata": {
    "collapsed": false
   },
   "outputs": [
    {
     "name": "stdout",
     "output_type": "stream",
     "text": [
      "-5 -7.7 0.5\n"
     ]
    }
   ],
   "source": [
    "print h1(X[1]), h2(X[1]), h3(X[1])"
   ]
  },
  {
   "cell_type": "code",
   "execution_count": 198,
   "metadata": {
    "collapsed": true
   },
   "outputs": [],
   "source": [
    "def ovr(x): return sp.argmax([h1(x), h2(x), h3(x)])"
   ]
  },
  {
   "cell_type": "code",
   "execution_count": 199,
   "metadata": {
    "collapsed": false
   },
   "outputs": [
    {
     "data": {
      "text/plain": [
       "0"
      ]
     },
     "execution_count": 199,
     "metadata": {},
     "output_type": "execute_result"
    }
   ],
   "source": [
    "ovr(X[0])"
   ]
  },
  {
   "cell_type": "code",
   "execution_count": 200,
   "metadata": {
    "collapsed": false
   },
   "outputs": [
    {
     "data": {
      "text/plain": [
       "2"
      ]
     },
     "execution_count": 200,
     "metadata": {},
     "output_type": "execute_result"
    }
   ],
   "source": [
    "ovr(X[1])"
   ]
  },
  {
   "cell_type": "code",
   "execution_count": 157,
   "metadata": {
    "collapsed": true
   },
   "outputs": [],
   "source": [
    "x = linspace(-10, 10)\n",
    "y = linspace(-10, 10)\n",
    "X1, X2 = np.meshgrid(x, y)\n",
    "XX = sp.dstack((sp.ones((50, 50)), X1, X2))"
   ]
  },
  {
   "cell_type": "code",
   "execution_count": 166,
   "metadata": {
    "collapsed": false
   },
   "outputs": [],
   "source": [
    "n, m, _ = shape(XX)\n",
    "YY = sp.zeros((n,m))\n",
    "for i in range(0,n):\n",
    "    for j in range(0,m):\n",
    "        YY[i,j] = ovr(XX[i, j])"
   ]
  },
  {
   "cell_type": "code",
   "execution_count": 175,
   "metadata": {
    "collapsed": false
   },
   "outputs": [
    {
     "data": {
      "image/png": "[encoded data removed]",
      "text/plain": [
       "<matplotlib.figure.Figure at 0x7fe418fdd050>"
      ]
     },
     "metadata": {},
     "output_type": "display_data"
    }
   ],
   "source": [
    "plt.contourf(X1, X2, YY);"
   ]
  },
  {
   "cell_type": "markdown",
   "metadata": {},
   "source": [
    "# Klasifikacija regresijom"
   ]
  },
  {
   "cell_type": "markdown",
   "metadata": {},
   "source": [
    "### Podsjetnik\n",
    "\n",
    "* [Skica]\n",
    "\n",
    "\n",
    "* Funkcija pogreške (empirijsko očekivanje kvadratnog gubitka):\n",
    "$$\n",
    "E(\\mathbf{w}|\\mathcal{D})=\\frac{1}{2}\n",
    "\\sum_{i=1}^N\\big(\\mathbf{w}^\\intercal\\boldsymbol{\\phi}(\\mathbf{x}^{(i)}) - y^{(i)}\\big)^2 = \n",
    "\\frac{1}{2}\n",
    "(\\boldsymbol\\Phi\\mathbf{w} - \\mathbf{y})^\\intercal\n",
    "(\\boldsymbol\\Phi\\mathbf{w} - \\mathbf{y})\n",
    "$$\n",
    "\n",
    "\n",
    "* Minimizator pogreške:\n",
    "$$\n",
    "    \\mathbf{w} = (\\boldsymbol\\Phi^\\intercal\\boldsymbol\\Phi)^{-1}\\boldsymbol\\Phi^\\intercal\\mathbf{y}\n",
    "    = \\color{red}{\\boldsymbol\\Phi^{+}}\\mathbf{y}\n",
    "$$\n",
    "\n",
    "\n",
    "* **Q:** Kako iskoristiti regresiju za klasifikaciju?"
   ]
  },
  {
   "cell_type": "markdown",
   "metadata": {},
   "source": [
    "### Binarna klasifikacija $(K=2)$\n",
    "\n",
    "* Ideja: regresijska funkcija $h(\\mathbf{x})$ koja za primjere iz klase $\\mathcal{C}_1$ daje $h(\\mathbf{x})=1$, a za primjere iz klase $\\mathcal{C}_2$ daje $h(\\mathbf{x})=0$ \n",
    "\n",
    "\n",
    "* Primjer $\\mathbf{x}$ klasificiriamo u klasu $\\mathcal{C}_j$ za koju je $h(\\mathbf{x})$ najveći\n",
    "\n",
    "\n",
    "* Granica između $\\mathcal{C}_1$ i $\\mathcal{C}_2$ je na $h(\\mathbf{x})=0.5$\n",
    "\n",
    "\n",
    "* Primjer za $n=1$\n",
    "  * $h(x) = w0 + w1 x$\n",
    "  * [Skica]\n",
    "\n",
    "\n",
    "* Primjer za $n=2$\n",
    "  * $h(x) = w0 + w1 x_1 + w2 * x_2$\n",
    "  * [Skica]\n",
    "  \n",
    "  \n",
    "* Alternativno, model možemo trenirati tako da za primjere iz klase $\\mathcal{C_2}$ bude ciljana vrijednost bude $y=-1$\n",
    "  * Diskriminativna funkcija onda je $h(\\mathbf{x})=0$"
   ]
  },
  {
   "cell_type": "markdown",
   "metadata": {},
   "source": [
    "### Višeklasna klasifikacija  $(K>2)$\n",
    "\n",
    "* Shema jedan-naspram-ostali (OVR)\n",
    "\n",
    "\n",
    "* Treniramo po jedan model $h_j$ za svaku klasu $\\mathcal{C}_j$\n",
    "\n",
    "$$\n",
    "h_j(\\mathbf{x}) = \\mathbf{w}_j^\\intercal\\boldsymbol{\\phi}(\\mathbf{x})\n",
    "$$\n",
    "\n",
    "* Primjeri za učenje $\\mathcal{D}=\\{\\mathbf{x}^{(i)},\\color{red}{\\mathbf{y}^{(i)}}\\}_{i=1}^N$:\n",
    "\n",
    "\\begin{align*}\n",
    "\\boldsymbol\\Phi = \n",
    "\\begin{pmatrix}\n",
    "    \\boldsymbol{\\phi}(\\mathbf{x}^{(1)})^\\intercal \\\\\n",
    "    \\boldsymbol{\\phi}(\\mathbf{x}^{(2)})^\\intercal \\\\\n",
    "\\vdots\\\\\n",
    "    \\boldsymbol{\\phi}(\\mathbf{x}^{(N)})^\\intercal \\\\\n",
    "\\end{pmatrix}_{N\\times (m+1)}\n",
    "&\n",
    "\\qquad\n",
    "    \\color{red}{\\mathbf{y}_j} = \n",
    "\\begin{pmatrix}\n",
    "    y_j^{(1)}\\\\\n",
    "    y_j^{(2)}\\\\\n",
    "    \\vdots\\\\\n",
    "    y_j^{(N)}\n",
    "\\end{pmatrix}_{N\\times 1}\n",
    "\\end{align*}\n",
    "\n",
    "\n",
    "* [Primjer] \n",
    "\n",
    "\n",
    "* Rješenje koje minimizira kvadratnu pogrešku:\n",
    "\\begin{equation*}\n",
    "\\mathbf{w}_j = (\\boldsymbol\\Phi^\\intercal\\boldsymbol\\Phi)^{-1}\\boldsymbol\\Phi^\\intercal\\mathbf{y}_j = \\boldsymbol\\Phi^{+}\\mathbf{y}_j\n",
    "\\end{equation*}\n",
    "\n",
    "\n",
    "* Model (OVR):\n",
    "$$\n",
    "h(\\mathbf{x}) = \\mathrm{argmax}_j\\ \\mathbf{w}_j\\boldsymbol\\phi(\\mathbf{x})\n",
    "$$\n",
    "\n",
    "* Primjer ($K=3$)\n",
    "\n",
    "![Tri ravnine](images/ravnine3.png)\n",
    "\n",
    "\n"
   ]
  },
  {
   "cell_type": "markdown",
   "metadata": {},
   "source": [
    "### Prednosti i nedostatci klasifikacije regresijom\n",
    "\n",
    "* Prednosti:\n",
    "  * Rješenje u zatvorenoj formi\n",
    "  * Jednostavan postupak\n",
    "\n",
    "\n",
    "* Nedostatci:\n",
    "   * Izlazi modela nemaju vjerojatnosnu intepretaciju ($h(\\mathbf{x})$ nije ograničena na interval $[0,1]$)\n",
    "   * Nerobusnost: osjetljivost na vrijednosti koje odskaču (kažnjavanje \"pretočno''\n",
    "        klasificiranih primjera)\n",
    "   * Zbog toga, u nekim slučajevima: pogrešna klasifikacija unatoč tome što su primjeri linearno odvojivi\n",
    "\n",
    "\n",
    "* [Primjer]"
   ]
  },
  {
   "cell_type": "markdown",
   "metadata": {},
   "source": [
    "# Gradijentni spust"
   ]
  },
  {
   "cell_type": "markdown",
   "metadata": {},
   "source": [
    "# Perceptron"
   ]
  },
  {
   "cell_type": "markdown",
   "metadata": {},
   "source": [
    "# Sažetak\n",
    "\n",
    "* **Diskriminativni linearni modeli** modeliraju granicu između klasa, ali ne i način generiranja primjera\n",
    "\n",
    "\n",
    "* **Poopćeni linearan model** je linearan model s aktivacijskom funkcijom\n",
    "\n",
    "\n",
    "* **Klasifikacija regresijom** je jednostavan postupak, ali nije robusan\n",
    "\n",
    "\n",
    "* **Konveksna optimizacija** važna je za strojno učenje jer je funkcija gubitka (a time i funkcija pogreške) tipično konveksna\n",
    "\n",
    "\n",
    "* Ako minimizacija pogreške nema rješenje u zatvorenoj formi, a možemo izračunati gradijent, onda možemo primijeniti **gradijentni spust**\n",
    "\n",
    "\n",
    "* **Perceptron** je linearan klasifikacijski model koji gradijentnim spustom mimimizira aproksimaciju broja pogrešnih klasifikacija\n",
    "\n",
    "\n",
    "* Perceptron **ne konvergira** za linearno nedvojive probleme, dok za linearno odvojive rješenje ovisi o inicijalizaciji i redoslijedu primjera\n",
    "\n",
    "\n",
    "* Niti regresija niti perceptron ne daju probabilistički izlaz"
   ]
  }
 ],
 "metadata": {
  "kernelspec": {
   "display_name": "Python 2",
   "language": "python",
   "name": "python2"
  },
  "language_info": {
   "codemirror_mode": {
    "name": "ipython",
    "version": 2
   },
   "file_extension": ".py",
   "mimetype": "text/x-python",
   "name": "python",
   "nbconvert_exporter": "python",
   "pygments_lexer": "ipython2",
   "version": "2.7.6"
  }
 },
 "nbformat": 4,
 "nbformat_minor": 0
}
